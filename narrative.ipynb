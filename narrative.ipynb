{
 "cells": [
  {
   "cell_type": "markdown",
   "metadata": {},
   "source": [
    "# Chromatic Distance"
   ]
  },
  {
   "cell_type": "code",
   "execution_count": 34,
   "metadata": {},
   "outputs": [],
   "source": [
    "import altair as alt\n",
    "import pandas as pd\n",
    "\n",
    "difHsv = pd.read_csv('./out/chromatic-distance/AT-S0823.mp4-diffs-hsv.csv')\n",
    "difH = pd.read_csv('./out/chromatic-distance/AT-S0823.mp4-diffs-h.csv')\n",
    "\n",
    "# brush = alt.selection_interval()\n",
    "\n",
    "# alt.Chart(dif).mark_point(opacity=0.1).encode(\n",
    "#     x='frame',\n",
    "#     y='distances',\n",
    "# ).properties(selection=brush)"
   ]
  },
  {
   "cell_type": "markdown",
   "metadata": {},
   "source": [
    "## Frequencies"
   ]
  },
  {
   "cell_type": "code",
   "execution_count": 35,
   "metadata": {},
   "outputs": [
    {
     "data": {
      "image/png": "[encoded data removed]",
      "text/plain": [
       "<matplotlib.figure.Figure at 0x1107513c8>"
      ]
     },
     "metadata": {},
     "output_type": "display_data"
    },
    {
     "data": {
      "image/png": "[encoded data removed]",
      "text/plain": [
       "<matplotlib.figure.Figure at 0x1119fa2b0>"
      ]
     },
     "metadata": {},
     "output_type": "display_data"
    }
   ],
   "source": [
    "histogram = difHsv.hist()\n",
    "histogram2 = difH.hist()\n",
    "\n",
    "# print(pd.Series(frequencies).value_counts())\n",
    "# alt.Chart(dif).mark_point(opacity=0.1).encode(\n",
    "#     x='frame',\n",
    "#     y='distances',\n",
    "# ).properties(selection=brush)"
   ]
  },
  {
   "cell_type": "code",
   "execution_count": 36,
   "metadata": {},
   "outputs": [
    {
     "data": {
      "application/vnd.vegalite.v2+json": {
       "$schema": "https://vega.github.io/schema/vega-lite/v2.json",
       "config": {
        "view": {
         "height": 300,
         "width": 400
        }
       },
       "data": {
        "values": [
         {
          "distances": 0,
          "frame": 0
         },
         {
          "distances": 3894,
          "frame": 1
         },
         {
          "distances": 75,
          "frame": 2
         },
         {
          "distances": 234,
          "frame": 3
         },
         {
          "distances": 157,
          "frame": 4
         },
         {
          "distances": 187,
          "frame": 5
         },
         {
          "distances": 145,
          "frame": 6
         },
         {
          "distances": 4110,
          "frame": 7
         },
         {
          "distances": 4398,
          "frame": 8
         },
         {
          "distances": 148,
          "frame": 9
         },
         {
          "distances": 76,
          "frame": 10
         },
         {
          "distances": 106,
          "frame": 11
         },
         {
          "distances": 91,
          "frame": 12
         },
         {
          "distances": 147,
          "frame": 13
         },
         {
          "distances": 151,
          "frame": 14
         },
         {
          "distances": 55,
          "frame": 15
         },
         {
          "distances": 29,
          "frame": 16
         },
         {
          "distances": 34,
          "frame": 17
         },
         {
          "distances": 26,
          "frame": 18
         },
         {
          "distances": 96,
          "frame": 19
         },
         {
          "distances": 186,
          "frame": 20
         },
         {
          "distances": 12,
          "frame": 21
         },
         {
          "distances": 68,
          "frame": 22
         },
         {
          "distances": 43,
          "frame": 23
         },
         {
          "distances": 73,
          "frame": 24
         },
         {
          "distances": 49,
          "frame": 25
         },
         {
          "distances": 344,
          "frame": 26
         },
         {
          "distances": 136,
          "frame": 27
         },
         {
          "distances": 116,
          "frame": 28
         },
         {
          "distances": 178,
          "frame": 29
         },
         {
          "distances": 14,
          "frame": 30
         },
         {
          "distances": 4524,
          "frame": 31
         },
         {
          "distances": 4688,
          "frame": 32
         },
         {
          "distances": 1,
          "frame": 33
         },
         {
          "distances": 24,
          "frame": 34
         },
         {
          "distances": 160,
          "frame": 35
         },
         {
          "distances": 123,
          "frame": 36
         },
         {
          "distances": 172,
          "frame": 37
         },
         {
          "distances": 716,
          "frame": 38
         },
         {
          "distances": 72,
          "frame": 39
         },
         {
          "distances": 244,
          "frame": 40
         },
         {
          "distances": 63,
          "frame": 41
         },
         {
          "distances": 126,
          "frame": 42
         },
         {
          "distances": 176,
          "frame": 43
         },
         {
          "distances": 29,
          "frame": 44
         },
         {
          "distances": 65,
          "frame": 45
         },
         {
          "distances": 1822,
          "frame": 46
         },
         {
          "distances": 404,
          "frame": 47
         },
         {
          "distances": 2167,
          "frame": 48
         },
         {
          "distances": 455,
          "frame": 49
         },
         {
          "distances": 1520,
          "frame": 50
         },
         {
          "distances": 203,
          "frame": 51
         },
         {
          "distances": 1668,
          "frame": 52
         },
         {
          "distances": 4,
          "frame": 53
         },
         {
          "distances": 2510,
          "frame": 54
         },
         {
          "distances": 6301,
          "frame": 55
         },
         {
          "distances": 5419,
          "frame": 56
         },
         {
          "distances": 1771,
          "frame": 57
         },
         {
          "distances": 441,
          "frame": 58
         },
         {
          "distances": 3458,
          "frame": 59
         },
         {
          "distances": 3801,
          "frame": 60
         },
         {
          "distances": 164,
          "frame": 61
         },
         {
          "distances": 466,
          "frame": 62
         },
         {
          "distances": 88,
          "frame": 63
         },
         {
          "distances": 79,
          "frame": 64
         },
         {
          "distances": 329,
          "frame": 65
         },
         {
          "distances": 169,
          "frame": 66
         },
         {
          "distances": 231,
          "frame": 67
         },
         {
          "distances": 166,
          "frame": 68
         },
         {
          "distances": 115,
          "frame": 69
         },
         {
          "distances": 83,
          "frame": 70
         },
         {
          "distances": 107,
          "frame": 71
         },
         {
          "distances": 53,
          "frame": 72
         },
         {
          "distances": 76,
          "frame": 73
         },
         {
          "distances": 114,
          "frame": 74
         },
         {
          "distances": 103,
          "frame": 75
         },
         {
          "distances": 137,
          "frame": 76
         },
         {
          "distances": 145,
          "frame": 77
         },
         {
          "distances": 118,
          "frame": 78
         },
         {
          "distances": 4378,
          "frame": 79
         },
         {
          "distances": 4196,
          "frame": 80
         },
         {
          "distances": 40,
          "frame": 81
         },
         {
          "distances": 553,
          "frame": 82
         },
         {
          "distances": 131,
          "frame": 83
         },
         {
          "distances": 307,
          "frame": 84
         },
         {
          "distances": 27,
          "frame": 85
         },
         {
          "distances": 17,
          "frame": 86
         },
         {
          "distances": 33,
          "frame": 87
         },
         {
          "distances": 414,
          "frame": 88
         },
         {
          "distances": 2231,
          "frame": 89
         },
         {
          "distances": 2267,
          "frame": 90
         },
         {
          "distances": 275,
          "frame": 91
         },
         {
          "distances": 255,
          "frame": 92
         },
         {
          "distances": 207,
          "frame": 93
         },
         {
          "distances": 648,
          "frame": 94
         },
         {
          "distances": 206,
          "frame": 95
         },
         {
          "distances": 844,
          "frame": 96
         },
         {
          "distances": 338,
          "frame": 97
         },
         {
          "distances": 1744,
          "frame": 98
         },
         {
          "distances": 530,
          "frame": 99
         },
         {
          "distances": 583,
          "frame": 100
         },
         {
          "distances": 128,
          "frame": 101
         },
         {
          "distances": 676,
          "frame": 102
         },
         {
          "distances": 6745,
          "frame": 103
         },
         {
          "distances": 5696,
          "frame": 104
         },
         {
          "distances": 630,
          "frame": 105
         },
         {
          "distances": 110,
          "frame": 106
         },
         {
          "distances": 224,
          "frame": 107
         },
         {
          "distances": 462,
          "frame": 108
         },
         {
          "distances": 227,
          "frame": 109
         },
         {
          "distances": 463,
          "frame": 110
         },
         {
          "distances": 331,
          "frame": 111
         },
         {
          "distances": 39,
          "frame": 112
         },
         {
          "distances": 554,
          "frame": 113
         },
         {
          "distances": 2391,
          "frame": 114
         },
         {
          "distances": 12,
          "frame": 115
         },
         {
          "distances": 898,
          "frame": 116
         },
         {
          "distances": 355,
          "frame": 117
         },
         {
          "distances": 343,
          "frame": 118
         },
         {
          "distances": 1153,
          "frame": 119
         },
         {
          "distances": 190,
          "frame": 120
         },
         {
          "distances": 212,
          "frame": 121
         },
         {
          "distances": 282,
          "frame": 122
         },
         {
          "distances": 57,
          "frame": 123
         },
         {
          "distances": 9,
          "frame": 124
         },
         {
          "distances": 55,
          "frame": 125
         },
         {
          "distances": 62,
          "frame": 126
         },
         {
          "distances": 2062,
          "frame": 127
         },
         {
          "distances": 2117,
          "frame": 128
         },
         {
          "distances": 320,
          "frame": 129
         },
         {
          "distances": 51,
          "frame": 130
         },
         {
          "distances": 255,
          "frame": 131
         },
         {
          "distances": 468,
          "frame": 132
         },
         {
          "distances": 767,
          "frame": 133
         },
         {
          "distances": 1098,
          "frame": 134
         },
         {
          "distances": 53,
          "frame": 135
         },
         {
          "distances": 247,
          "frame": 136
         },
         {
          "distances": 385,
          "frame": 137
         },
         {
          "distances": 68,
          "frame": 138
         },
         {
          "distances": 4,
          "frame": 139
         },
         {
          "distances": 170,
          "frame": 140
         },
         {
          "distances": 258,
          "frame": 141
         },
         {
          "distances": 243,
          "frame": 142
         },
         {
          "distances": 585,
          "frame": 143
         },
         {
          "distances": 142,
          "frame": 144
         },
         {
          "distances": 419,
          "frame": 145
         },
         {
          "distances": 407,
          "frame": 146
         },
         {
          "distances": 1432,
          "frame": 147
         },
         {
          "distances": 193,
          "frame": 148
         },
         {
          "distances": 1587,
          "frame": 149
         },
         {
          "distances": 3,
          "frame": 150
         },
         {
          "distances": 9569,
          "frame": 151
         },
         {
          "distances": 9816,
          "frame": 152
         },
         {
          "distances": 822,
          "frame": 153
         },
         {
          "distances": 68,
          "frame": 154
         },
         {
          "distances": 823,
          "frame": 155
         },
         {
          "distances": 225,
          "frame": 156
         },
         {
          "distances": 1762,
          "frame": 157
         },
         {
          "distances": 6528,
          "frame": 158
         },
         {
          "distances": 1376,
          "frame": 159
         },
         {
          "distances": 3466,
          "frame": 160
         },
         {
          "distances": 5400,
          "frame": 161
         },
         {
          "distances": 567,
          "frame": 162
         },
         {
          "distances": 758,
          "frame": 163
         },
         {
          "distances": 1754,
          "frame": 164
         },
         {
          "distances": 1419,
          "frame": 165
         },
         {
          "distances": 884,
          "frame": 166
         },
         {
          "distances": 71,
          "frame": 167
         },
         {
          "distances": 231,
          "frame": 168
         },
         {
          "distances": 1374,
          "frame": 169
         },
         {
          "distances": 49,
          "frame": 170
         },
         {
          "distances": 341,
          "frame": 171
         },
         {
          "distances": 189,
          "frame": 172
         },
         {
          "distances": 268,
          "frame": 173
         },
         {
          "distances": 235,
          "frame": 174
         },
         {
          "distances": 3485,
          "frame": 175
         },
         {
          "distances": 3355,
          "frame": 176
         },
         {
          "distances": 352,
          "frame": 177
         },
         {
          "distances": 613,
          "frame": 178
         },
         {
          "distances": 113,
          "frame": 179
         },
         {
          "distances": 492,
          "frame": 180
         },
         {
          "distances": 154,
          "frame": 181
         },
         {
          "distances": 218,
          "frame": 182
         },
         {
          "distances": 266,
          "frame": 183
         },
         {
          "distances": 160,
          "frame": 184
         },
         {
          "distances": 716,
          "frame": 185
         },
         {
          "distances": 351,
          "frame": 186
         },
         {
          "distances": 1590,
          "frame": 187
         },
         {
          "distances": 153,
          "frame": 188
         },
         {
          "distances": 1497,
          "frame": 189
         },
         {
          "distances": 458,
          "frame": 190
         },
         {
          "distances": 1918,
          "frame": 191
         },
         {
          "distances": 373,
          "frame": 192
         },
         {
          "distances": 611,
          "frame": 193
         },
         {
          "distances": 68,
          "frame": 194
         },
         {
          "distances": 1173,
          "frame": 195
         },
         {
          "distances": 1316,
          "frame": 196
         },
         {
          "distances": 1379,
          "frame": 197
         },
         {
          "distances": 933,
          "frame": 198
         },
         {
          "distances": 5523,
          "frame": 199
         },
         {
          "distances": 5873,
          "frame": 200
         },
         {
          "distances": 773,
          "frame": 201
         },
         {
          "distances": 394,
          "frame": 202
         },
         {
          "distances": 205,
          "frame": 203
         },
         {
          "distances": 189,
          "frame": 204
         },
         {
          "distances": 284,
          "frame": 205
         },
         {
          "distances": 131,
          "frame": 206
         },
         {
          "distances": 477,
          "frame": 207
         },
         {
          "distances": 72,
          "frame": 208
         },
         {
          "distances": 580,
          "frame": 209
         },
         {
          "distances": 304,
          "frame": 210
         },
         {
          "distances": 205,
          "frame": 211
         },
         {
          "distances": 59,
          "frame": 212
         },
         {
          "distances": 275,
          "frame": 213
         },
         {
          "distances": 225,
          "frame": 214
         },
         {
          "distances": 670,
          "frame": 215
         },
         {
          "distances": 595,
          "frame": 216
         },
         {
          "distances": 19,
          "frame": 217
         },
         {
          "distances": 253,
          "frame": 218
         },
         {
          "distances": 106,
          "frame": 219
         },
         {
          "distances": 110,
          "frame": 220
         },
         {
          "distances": 26,
          "frame": 221
         },
         {
          "distances": 4120,
          "frame": 222
         },
         {
          "distances": 4107,
          "frame": 223
         },
         {
          "distances": 160,
          "frame": 224
         },
         {
          "distances": 321,
          "frame": 225
         },
         {
          "distances": 133,
          "frame": 226
         },
         {
          "distances": 159,
          "frame": 227
         },
         {
          "distances": 140,
          "frame": 228
         },
         {
          "distances": 140,
          "frame": 229
         },
         {
          "distances": 110,
          "frame": 230
         },
         {
          "distances": 352,
          "frame": 231
         },
         {
          "distances": 28,
          "frame": 232
         },
         {
          "distances": 46,
          "frame": 233
         },
         {
          "distances": 413,
          "frame": 234
         },
         {
          "distances": 992,
          "frame": 235
         },
         {
          "distances": 565,
          "frame": 236
         },
         {
          "distances": 1735,
          "frame": 237
         },
         {
          "distances": 710,
          "frame": 238
         },
         {
          "distances": 526,
          "frame": 239
         },
         {
          "distances": 2674,
          "frame": 240
         },
         {
          "distances": 876,
          "frame": 241
         },
         {
          "distances": 158,
          "frame": 242
         },
         {
          "distances": 347,
          "frame": 243
         },
         {
          "distances": 258,
          "frame": 244
         },
         {
          "distances": 40,
          "frame": 245
         },
         {
          "distances": 5576,
          "frame": 246
         },
         {
          "distances": 7082,
          "frame": 247
         },
         {
          "distances": 842,
          "frame": 248
         },
         {
          "distances": 685,
          "frame": 249
         },
         {
          "distances": 2939,
          "frame": 250
         },
         {
          "distances": 36,
          "frame": 251
         },
         {
          "distances": 331,
          "frame": 252
         },
         {
          "distances": 377,
          "frame": 253
         },
         {
          "distances": 281,
          "frame": 254
         },
         {
          "distances": 3462,
          "frame": 255
         },
         {
          "distances": 2092,
          "frame": 256
         },
         {
          "distances": 1209,
          "frame": 257
         },
         {
          "distances": 136,
          "frame": 258
         },
         {
          "distances": 82,
          "frame": 259
         },
         {
          "distances": 209,
          "frame": 260
         },
         {
          "distances": 77,
          "frame": 261
         },
         {
          "distances": 323,
          "frame": 262
         },
         {
          "distances": 35,
          "frame": 263
         },
         {
          "distances": 105,
          "frame": 264
         },
         {
          "distances": 257,
          "frame": 265
         },
         {
          "distances": 262,
          "frame": 266
         },
         {
          "distances": 222,
          "frame": 267
         },
         {
          "distances": 374,
          "frame": 268
         },
         {
          "distances": 506,
          "frame": 269
         },
         {
          "distances": 4911,
          "frame": 270
         },
         {
          "distances": 4994,
          "frame": 271
         },
         {
          "distances": 249,
          "frame": 272
         },
         {
          "distances": 36,
          "frame": 273
         },
         {
          "distances": 266,
          "frame": 274
         },
         {
          "distances": 423,
          "frame": 275
         },
         {
          "distances": 885,
          "frame": 276
         },
         {
          "distances": 69,
          "frame": 277
         },
         {
          "distances": 1847,
          "frame": 278
         },
         {
          "distances": 1592,
          "frame": 279
         },
         {
          "distances": 409,
          "frame": 280
         },
         {
          "distances": 2787,
          "frame": 281
         },
         {
          "distances": 695,
          "frame": 282
         },
         {
          "distances": 1596,
          "frame": 283
         },
         {
          "distances": 1299,
          "frame": 284
         },
         {
          "distances": 1185,
          "frame": 285
         },
         {
          "distances": 114,
          "frame": 286
         },
         {
          "distances": 140,
          "frame": 287
         },
         {
          "distances": 58,
          "frame": 288
         },
         {
          "distances": 60,
          "frame": 289
         },
         {
          "distances": 551,
          "frame": 290
         },
         {
          "distances": 5118,
          "frame": 291
         },
         {
          "distances": 685,
          "frame": 292
         },
         {
          "distances": 381,
          "frame": 293
         },
         {
          "distances": 594,
          "frame": 294
         },
         {
          "distances": 784,
          "frame": 295
         },
         {
          "distances": 62,
          "frame": 296
         },
         {
          "distances": 67,
          "frame": 297
         },
         {
          "distances": 1076,
          "frame": 298
         },
         {
          "distances": 579,
          "frame": 299
         },
         {
          "distances": 357,
          "frame": 300
         },
         {
          "distances": 446,
          "frame": 301
         },
         {
          "distances": 572,
          "frame": 302
         },
         {
          "distances": 136,
          "frame": 303
         },
         {
          "distances": 180,
          "frame": 304
         },
         {
          "distances": 278,
          "frame": 305
         },
         {
          "distances": 143,
          "frame": 306
         },
         {
          "distances": 332,
          "frame": 307
         },
         {
          "distances": 52,
          "frame": 308
         },
         {
          "distances": 115,
          "frame": 309
         },
         {
          "distances": 11041,
          "frame": 310
         },
         {
          "distances": 9914,
          "frame": 311
         },
         {
          "distances": 1034,
          "frame": 312
         },
         {
          "distances": 216,
          "frame": 313
         },
         {
          "distances": 117,
          "frame": 314
         },
         {
          "distances": 42,
          "frame": 315
         },
         {
          "distances": 212,
          "frame": 316
         },
         {
          "distances": 28,
          "frame": 317
         },
         {
          "distances": 1424,
          "frame": 318
         },
         {
          "distances": 1537,
          "frame": 319
         },
         {
          "distances": 14,
          "frame": 320
         },
         {
          "distances": 4,
          "frame": 321
         },
         {
          "distances": 61,
          "frame": 322
         },
         {
          "distances": 52,
          "frame": 323
         },
         {
          "distances": 95,
          "frame": 324
         },
         {
          "distances": 260,
          "frame": 325
         },
         {
          "distances": 84,
          "frame": 326
         },
         {
          "distances": 155,
          "frame": 327
         },
         {
          "distances": 314,
          "frame": 328
         },
         {
          "distances": 318,
          "frame": 329
         },
         {
          "distances": 322,
          "frame": 330
         },
         {
          "distances": 275,
          "frame": 331
         },
         {
          "distances": 160,
          "frame": 332
         },
         {
          "distances": 742,
          "frame": 333
         },
         {
          "distances": 575,
          "frame": 334
         },
         {
          "distances": 627,
          "frame": 335
         },
         {
          "distances": 345,
          "frame": 336
         },
         {
          "distances": 277,
          "frame": 337
         },
         {
          "distances": 17025,
          "frame": 338
         },
         {
          "distances": 15631,
          "frame": 339
         },
         {
          "distances": 2130,
          "frame": 340
         },
         {
          "distances": 2244,
          "frame": 341
         },
         {
          "distances": 2225,
          "frame": 342
         },
         {
          "distances": 96,
          "frame": 343
         },
         {
          "distances": 2168,
          "frame": 344
         },
         {
          "distances": 2265,
          "frame": 345
         },
         {
          "distances": 1742,
          "frame": 346
         },
         {
          "distances": 360,
          "frame": 347
         },
         {
          "distances": 163,
          "frame": 348
         },
         {
          "distances": 67,
          "frame": 349
         },
         {
          "distances": 1483,
          "frame": 350
         },
         {
          "distances": 231,
          "frame": 351
         },
         {
          "distances": 864,
          "frame": 352
         },
         {
          "distances": 131,
          "frame": 353
         },
         {
          "distances": 384,
          "frame": 354
         },
         {
          "distances": 112,
          "frame": 355
         },
         {
          "distances": 283,
          "frame": 356
         },
         {
          "distances": 129,
          "frame": 357
         },
         {
          "distances": 280,
          "frame": 358
         },
         {
          "distances": 174,
          "frame": 359
         },
         {
          "distances": 1895,
          "frame": 360
         },
         {
          "distances": 2341,
          "frame": 361
         },
         {
          "distances": 153,
          "frame": 362
         },
         {
          "distances": 407,
          "frame": 363
         },
         {
          "distances": 350,
          "frame": 364
         },
         {
          "distances": 72,
          "frame": 365
         },
         {
          "distances": 2854,
          "frame": 366
         },
         {
          "distances": 2444,
          "frame": 367
         },
         {
          "distances": 14,
          "frame": 368
         },
         {
          "distances": 515,
          "frame": 369
         },
         {
          "distances": 361,
          "frame": 370
         },
         {
          "distances": 464,
          "frame": 371
         },
         {
          "distances": 48,
          "frame": 372
         },
         {
          "distances": 701,
          "frame": 373
         },
         {
          "distances": 129,
          "frame": 374
         },
         {
          "distances": 271,
          "frame": 375
         },
         {
          "distances": 59,
          "frame": 376
         },
         {
          "distances": 202,
          "frame": 377
         },
         {
          "distances": 269,
          "frame": 378
         },
         {
          "distances": 307,
          "frame": 379
         },
         {
          "distances": 51,
          "frame": 380
         },
         {
          "distances": 1688,
          "frame": 381
         },
         {
          "distances": 238,
          "frame": 382
         },
         {
          "distances": 2087,
          "frame": 383
         },
         {
          "distances": 765,
          "frame": 384
         },
         {
          "distances": 1365,
          "frame": 385
         },
         {
          "distances": 974,
          "frame": 386
         },
         {
          "distances": 1407,
          "frame": 387
         },
         {
          "distances": 2451,
          "frame": 388
         },
         {
          "distances": 11946,
          "frame": 389
         },
         {
          "distances": 13674,
          "frame": 390
         },
         {
          "distances": 4754,
          "frame": 391
         },
         {
          "distances": 70,
          "frame": 392
         },
         {
          "distances": 80,
          "frame": 393
         },
         {
          "distances": 68,
          "frame": 394
         },
         {
          "distances": 40,
          "frame": 395
         },
         {
          "distances": 158,
          "frame": 396
         },
         {
          "distances": 194,
          "frame": 397
         },
         {
          "distances": 169,
          "frame": 398
         },
         {
          "distances": 69,
          "frame": 399
         },
         {
          "distances": 89,
          "frame": 400
         },
         {
          "distances": 29,
          "frame": 401
         },
         {
          "distances": 34,
          "frame": 402
         },
         {
          "distances": 75,
          "frame": 403
         },
         {
          "distances": 42,
          "frame": 404
         },
         {
          "distances": 4,
          "frame": 405
         },
         {
          "distances": 48,
          "frame": 406
         },
         {
          "distances": 186,
          "frame": 407
         },
         {
          "distances": 34,
          "frame": 408
         },
         {
          "distances": 126,
          "frame": 409
         },
         {
          "distances": 57,
          "frame": 410
         },
         {
          "distances": 4,
          "frame": 411
         },
         {
          "distances": 48,
          "frame": 412
         },
         {
          "distances": 153,
          "frame": 413
         },
         {
          "distances": 3552,
          "frame": 414
         },
         {
          "distances": 3470,
          "frame": 415
         },
         {
          "distances": 145,
          "frame": 416
         },
         {
          "distances": 134,
          "frame": 417
         },
         {
          "distances": 71,
          "frame": 418
         },
         {
          "distances": 15,
          "frame": 419
         },
         {
          "distances": 657,
          "frame": 420
         },
         {
          "distances": 625,
          "frame": 421
         },
         {
          "distances": 169,
          "frame": 422
         },
         {
          "distances": 14,
          "frame": 423
         },
         {
          "distances": 39,
          "frame": 424
         },
         {
          "distances": 89,
          "frame": 425
         },
         {
          "distances": 106,
          "frame": 426
         },
         {
          "distances": 62,
          "frame": 427
         },
         {
          "distances": 10,
          "frame": 428
         },
         {
          "distances": 147,
          "frame": 429
         },
         {
          "distances": 223,
          "frame": 430
         },
         {
          "distances": 205,
          "frame": 431
         },
         {
          "distances": 213,
          "frame": 432
         },
         {
          "distances": 171,
          "frame": 433
         },
         {
          "distances": 82,
          "frame": 434
         },
         {
          "distances": 49,
          "frame": 435
         },
         {
          "distances": 67,
          "frame": 436
         },
         {
          "distances": 70,
          "frame": 437
         },
         {
          "distances": 3967,
          "frame": 438
         },
         {
          "distances": 3848,
          "frame": 439
         },
         {
          "distances": 10,
          "frame": 440
         },
         {
          "distances": 273,
          "frame": 441
         },
         {
          "distances": 3234,
          "frame": 442
         },
         {
          "distances": 7405,
          "frame": 443
         },
         {
          "distances": 43,
          "frame": 444
         },
         {
          "distances": 1549,
          "frame": 445
         },
         {
          "distances": 90,
          "frame": 446
         },
         {
          "distances": 87,
          "frame": 447
         },
         {
          "distances": 19,
          "frame": 448
         },
         {
          "distances": 20,
          "frame": 449
         },
         {
          "distances": 99,
          "frame": 450
         },
         {
          "distances": 325,
          "frame": 451
         },
         {
          "distances": 438,
          "frame": 452
         },
         {
          "distances": 1247,
          "frame": 453
         },
         {
          "distances": 119,
          "frame": 454
         },
         {
          "distances": 1316,
          "frame": 455
         },
         {
          "distances": 1342,
          "frame": 456
         },
         {
          "distances": 119,
          "frame": 457
         },
         {
          "distances": 70,
          "frame": 458
         },
         {
          "distances": 297,
          "frame": 459
         },
         {
          "distances": 0,
          "frame": 460
         },
         {
          "distances": 104,
          "frame": 461
         },
         {
          "distances": 104,
          "frame": 462
         },
         {
          "distances": 106,
          "frame": 463
         },
         {
          "distances": 106,
          "frame": 464
         },
         {
          "distances": 0,
          "frame": 465
         },
         {
          "distances": 0,
          "frame": 466
         },
         {
          "distances": 21962,
          "frame": 467
         },
         {
          "distances": 21580,
          "frame": 468
         },
         {
          "distances": 182,
          "frame": 469
         },
         {
          "distances": 60,
          "frame": 470
         },
         {
          "distances": 1779,
          "frame": 471
         },
         {
          "distances": 45,
          "frame": 472
         },
         {
          "distances": 44,
          "frame": 473
         },
         {
          "distances": 242,
          "frame": 474
         },
         {
          "distances": 465,
          "frame": 475
         },
         {
          "distances": 1491,
          "frame": 476
         },
         {
          "distances": 200,
          "frame": 477
         },
         {
          "distances": 68,
          "frame": 478
         },
         {
          "distances": 1223,
          "frame": 479
         },
         {
          "distances": 392,
          "frame": 480
         },
         {
          "distances": 443,
          "frame": 481
         },
         {
          "distances": 66,
          "frame": 482
         },
         {
          "distances": 158,
          "frame": 483
         },
         {
          "distances": 285,
          "frame": 484
         },
         {
          "distances": 809,
          "frame": 485
         },
         {
          "distances": 542,
          "frame": 486
         },
         {
          "distances": 1045,
          "frame": 487
         },
         {
          "distances": 865,
          "frame": 488
         },
         {
          "distances": 19,
          "frame": 489
         },
         {
          "distances": 254,
          "frame": 490
         },
         {
          "distances": 38,
          "frame": 491
         },
         {
          "distances": 61,
          "frame": 492
         },
         {
          "distances": 61,
          "frame": 493
         },
         {
          "distances": 1219,
          "frame": 494
         },
         {
          "distances": 1038,
          "frame": 495
         },
         {
          "distances": 270,
          "frame": 496
         },
         {
          "distances": 202,
          "frame": 497
         },
         {
          "distances": 280,
          "frame": 498
         },
         {
          "distances": 0,
          "frame": 499
         },
         {
          "distances": 15478,
          "frame": 500
         },
         {
          "distances": 14815,
          "frame": 501
         },
         {
          "distances": 823,
          "frame": 502
         },
         {
          "distances": 962,
          "frame": 503
         },
         {
          "distances": 977,
          "frame": 504
         },
         {
          "distances": 941,
          "frame": 505
         },
         {
          "distances": 938,
          "frame": 506
         },
         {
          "distances": 1075,
          "frame": 507
         },
         {
          "distances": 958,
          "frame": 508
         },
         {
          "distances": 921,
          "frame": 509
         },
         {
          "distances": 331,
          "frame": 510
         },
         {
          "distances": 4523,
          "frame": 511
         },
         {
          "distances": 3001,
          "frame": 512
         },
         {
          "distances": 408,
          "frame": 513
         },
         {
          "distances": 405,
          "frame": 514
         },
         {
          "distances": 447,
          "frame": 515
         },
         {
          "distances": 1628,
          "frame": 516
         },
         {
          "distances": 1340,
          "frame": 517
         },
         {
          "distances": 1228,
          "frame": 518
         },
         {
          "distances": 946,
          "frame": 519
         },
         {
          "distances": 897,
          "frame": 520
         },
         {
          "distances": 935,
          "frame": 521
         },
         {
          "distances": 105,
          "frame": 522
         },
         {
          "distances": 325,
          "frame": 523
         },
         {
          "distances": 344,
          "frame": 524
         },
         {
          "distances": 305,
          "frame": 525
         },
         {
          "distances": 1237,
          "frame": 526
         },
         {
          "distances": 1288,
          "frame": 527
         },
         {
          "distances": 1215,
          "frame": 528
         },
         {
          "distances": 1203,
          "frame": 529
         },
         {
          "distances": 1184,
          "frame": 530
         },
         {
          "distances": 1295,
          "frame": 531
         },
         {
          "distances": 1354,
          "frame": 532
         },
         {
          "distances": 553,
          "frame": 533
         },
         {
          "distances": 775,
          "frame": 534
         },
         {
          "distances": 128,
          "frame": 535
         },
         {
          "distances": 441,
          "frame": 536
         },
         {
          "distances": 421,
          "frame": 537
         },
         {
          "distances": 1021,
          "frame": 538
         },
         {
          "distances": 138,
          "frame": 539
         },
         {
          "distances": 50,
          "frame": 540
         },
         {
          "distances": 841,
          "frame": 541
         },
         {
          "distances": 541,
          "frame": 542
         },
         {
          "distances": 129,
          "frame": 543
         },
         {
          "distances": 215,
          "frame": 544
         },
         {
          "distances": 10,
          "frame": 545
         },
         {
          "distances": 1,
          "frame": 546
         },
         {
          "distances": 161,
          "frame": 547
         },
         {
          "distances": 139,
          "frame": 548
         },
         {
          "distances": 189,
          "frame": 549
         },
         {
          "distances": 113,
          "frame": 550
         },
         {
          "distances": 209,
          "frame": 551
         },
         {
          "distances": 154,
          "frame": 552
         },
         {
          "distances": 89,
          "frame": 553
         },
         {
          "distances": 44,
          "frame": 554
         },
         {
          "distances": 165,
          "frame": 555
         },
         {
          "distances": 183,
          "frame": 556
         },
         {
          "distances": 234,
          "frame": 557
         },
         {
          "distances": 1190,
          "frame": 558
         },
         {
          "distances": 1522,
          "frame": 559
         },
         {
          "distances": 449,
          "frame": 560
         },
         {
          "distances": 349,
          "frame": 561
         },
         {
          "distances": 778,
          "frame": 562
         },
         {
          "distances": 130,
          "frame": 563
         },
         {
          "distances": 153,
          "frame": 564
         },
         {
          "distances": 172,
          "frame": 565
         },
         {
          "distances": 936,
          "frame": 566
         },
         {
          "distances": 231,
          "frame": 567
         },
         {
          "distances": 62,
          "frame": 568
         },
         {
          "distances": 453,
          "frame": 569
         },
         {
          "distances": 855,
          "frame": 570
         },
         {
          "distances": 3285,
          "frame": 571
         },
         {
          "distances": 338,
          "frame": 572
         },
         {
          "distances": 674,
          "frame": 573
         },
         {
          "distances": 90,
          "frame": 574
         },
         {
          "distances": 168,
          "frame": 575
         },
         {
          "distances": 1128,
          "frame": 576
         },
         {
          "distances": 1297,
          "frame": 577
         },
         {
          "distances": 912,
          "frame": 578
         },
         {
          "distances": 1626,
          "frame": 579
         },
         {
          "distances": 1171,
          "frame": 580
         },
         {
          "distances": 115,
          "frame": 581
         },
         {
          "distances": 244,
          "frame": 582
         },
         {
          "distances": 393,
          "frame": 583
         },
         {
          "distances": 344,
          "frame": 584
         },
         {
          "distances": 488,
          "frame": 585
         },
         {
          "distances": 146,
          "frame": 586
         },
         {
          "distances": 32,
          "frame": 587
         },
         {
          "distances": 18,
          "frame": 588
         },
         {
          "distances": 240,
          "frame": 589
         },
         {
          "distances": 187,
          "frame": 590
         },
         {
          "distances": 87,
          "frame": 591
         },
         {
          "distances": 117,
          "frame": 592
         },
         {
          "distances": 19,
          "frame": 593
         },
         {
          "distances": 5792,
          "frame": 594
         },
         {
          "distances": 2003,
          "frame": 595
         },
         {
          "distances": 1511,
          "frame": 596
         },
         {
          "distances": 565,
          "frame": 597
         },
         {
          "distances": 679,
          "frame": 598
         },
         {
          "distances": 1333,
          "frame": 599
         },
         {
          "distances": 4667,
          "frame": 600
         },
         {
          "distances": 6778,
          "frame": 601
         },
         {
          "distances": 1205,
          "frame": 602
         },
         {
          "distances": 3100,
          "frame": 603
         },
         {
          "distances": 3632,
          "frame": 604
         },
         {
          "distances": 84,
          "frame": 605
         },
         {
          "distances": 1300,
          "frame": 606
         },
         {
          "distances": 541,
          "frame": 607
         },
         {
          "distances": 4049,
          "frame": 608
         },
         {
          "distances": 2430,
          "frame": 609
         },
         {
          "distances": 19,
          "frame": 610
         },
         {
          "distances": 1836,
          "frame": 611
         },
         {
          "distances": 520,
          "frame": 612
         },
         {
          "distances": 1215,
          "frame": 613
         },
         {
          "distances": 683,
          "frame": 614
         },
         {
          "distances": 1157,
          "frame": 615
         },
         {
          "distances": 1407,
          "frame": 616
         },
         {
          "distances": 651,
          "frame": 617
         },
         {
          "distances": 1455,
          "frame": 618
         },
         {
          "distances": 74,
          "frame": 619
         },
         {
          "distances": 256,
          "frame": 620
         },
         {
          "distances": 323,
          "frame": 621
         },
         {
          "distances": 298,
          "frame": 622
         },
         {
          "distances": 270,
          "frame": 623
         },
         {
          "distances": 553,
          "frame": 624
         },
         {
          "distances": 1583,
          "frame": 625
         },
         {
          "distances": 951,
          "frame": 626
         },
         {
          "distances": 754,
          "frame": 627
         },
         {
          "distances": 142,
          "frame": 628
         },
         {
          "distances": 1289,
          "frame": 629
         },
         {
          "distances": 119,
          "frame": 630
         },
         {
          "distances": 1471,
          "frame": 631
         },
         {
          "distances": 161,
          "frame": 632
         },
         {
          "distances": 134,
          "frame": 633
         },
         {
          "distances": 1197,
          "frame": 634
         },
         {
          "distances": 82,
          "frame": 635
         },
         {
          "distances": 1058,
          "frame": 636
         },
         {
          "distances": 179,
          "frame": 637
         },
         {
          "distances": 39,
          "frame": 638
         },
         {
          "distances": 6473,
          "frame": 639
         },
         {
          "distances": 6555,
          "frame": 640
         },
         {
          "distances": 75,
          "frame": 641
         },
         {
          "distances": 167,
          "frame": 642
         },
         {
          "distances": 0,
          "frame": 643
         },
         {
          "distances": 0,
          "frame": 644
         },
         {
          "distances": 396,
          "frame": 645
         },
         {
          "distances": 6547,
          "frame": 646
         },
         {
          "distances": 110,
          "frame": 647
         },
         {
          "distances": 120,
          "frame": 648
         },
         {
          "distances": 303,
          "frame": 649
         },
         {
          "distances": 319,
          "frame": 650
         },
         {
          "distances": 103,
          "frame": 651
         },
         {
          "distances": 125,
          "frame": 652
         },
         {
          "distances": 2702,
          "frame": 653
         },
         {
          "distances": 299,
          "frame": 654
         },
         {
          "distances": 462,
          "frame": 655
         },
         {
          "distances": 1832,
          "frame": 656
         },
         {
          "distances": 23,
          "frame": 657
         },
         {
          "distances": 856,
          "frame": 658
         },
         {
          "distances": 91,
          "frame": 659
         },
         {
          "distances": 107,
          "frame": 660
         },
         {
          "distances": 45,
          "frame": 661
         },
         {
          "distances": 135,
          "frame": 662
         },
         {
          "distances": 48,
          "frame": 663
         },
         {
          "distances": 51,
          "frame": 664
         },
         {
          "distances": 461,
          "frame": 665
         },
         {
          "distances": 6,
          "frame": 666
         },
         {
          "distances": 119,
          "frame": 667
         },
         {
          "distances": 256,
          "frame": 668
         },
         {
          "distances": 197,
          "frame": 669
         },
         {
          "distances": 159,
          "frame": 670
         },
         {
          "distances": 4243,
          "frame": 671
         },
         {
          "distances": 617,
          "frame": 672
         },
         {
          "distances": 530,
          "frame": 673
         },
         {
          "distances": 9,
          "frame": 674
         },
         {
          "distances": 915,
          "frame": 675
         },
         {
          "distances": 837,
          "frame": 676
         },
         {
          "distances": 1678,
          "frame": 677
         },
         {
          "distances": 1762,
          "frame": 678
         },
         {
          "distances": 1172,
          "frame": 679
         },
         {
          "distances": 1247,
          "frame": 680
         },
         {
          "distances": 357,
          "frame": 681
         },
         {
          "distances": 483,
          "frame": 682
         },
         {
          "distances": 48,
          "frame": 683
         },
         {
          "distances": 64,
          "frame": 684
         },
         {
          "distances": 313,
          "frame": 685
         },
         {
          "distances": 197,
          "frame": 686
         },
         {
          "distances": 1300,
          "frame": 687
         },
         {
          "distances": 649,
          "frame": 688
         },
         {
          "distances": 1040,
          "frame": 689
         },
         {
          "distances": 531,
          "frame": 690
         },
         {
          "distances": 102,
          "frame": 691
         },
         {
          "distances": 112,
          "frame": 692
         },
         {
          "distances": 534,
          "frame": 693
         },
         {
          "distances": 711,
          "frame": 694
         },
         {
          "distances": 547,
          "frame": 695
         },
         {
          "distances": 529,
          "frame": 696
         },
         {
          "distances": 145,
          "frame": 697
         },
         {
          "distances": 2953,
          "frame": 698
         },
         {
          "distances": 185,
          "frame": 699
         },
         {
          "distances": 616,
          "frame": 700
         },
         {
          "distances": 2170,
          "frame": 701
         },
         {
          "distances": 1710,
          "frame": 702
         },
         {
          "distances": 805,
          "frame": 703
         },
         {
          "distances": 661,
          "frame": 704
         },
         {
          "distances": 13,
          "frame": 705
         },
         {
          "distances": 972,
          "frame": 706
         },
         {
          "distances": 1257,
          "frame": 707
         },
         {
          "distances": 186,
          "frame": 708
         },
         {
          "distances": 266,
          "frame": 709
         },
         {
          "distances": 159,
          "frame": 710
         },
         {
          "distances": 140,
          "frame": 711
         },
         {
          "distances": 987,
          "frame": 712
         },
         {
          "distances": 480,
          "frame": 713
         },
         {
          "distances": 103,
          "frame": 714
         },
         {
          "distances": 197,
          "frame": 715
         },
         {
          "distances": 417,
          "frame": 716
         },
         {
          "distances": 583,
          "frame": 717
         },
         {
          "distances": 133,
          "frame": 718
         },
         {
          "distances": 18,
          "frame": 719
         },
         {
          "distances": 555,
          "frame": 720
         },
         {
          "distances": 405,
          "frame": 721
         },
         {
          "distances": 22,
          "frame": 722
         },
         {
          "distances": 151,
          "frame": 723
         },
         {
          "distances": 265,
          "frame": 724
         },
         {
          "distances": 92,
          "frame": 725
         },
         {
          "distances": 2475,
          "frame": 726
         },
         {
          "distances": 546,
          "frame": 727
         },
         {
          "distances": 35,
          "frame": 728
         },
         {
          "distances": 30,
          "frame": 729
         },
         {
          "distances": 450,
          "frame": 730
         },
         {
          "distances": 463,
          "frame": 731
         },
         {
          "distances": 262,
          "frame": 732
         },
         {
          "distances": 2299,
          "frame": 733
         },
         {
          "distances": 342,
          "frame": 734
         },
         {
          "distances": 487,
          "frame": 735
         },
         {
          "distances": 975,
          "frame": 736
         },
         {
          "distances": 256,
          "frame": 737
         },
         {
          "distances": 294,
          "frame": 738
         },
         {
          "distances": 907,
          "frame": 739
         },
         {
          "distances": 1342,
          "frame": 740
         },
         {
          "distances": 650,
          "frame": 741
         },
         {
          "distances": 692,
          "frame": 742
         },
         {
          "distances": 1284,
          "frame": 743
         },
         {
          "distances": 959,
          "frame": 744
         },
         {
          "distances": 982,
          "frame": 745
         },
         {
          "distances": 580,
          "frame": 746
         },
         {
          "distances": 298,
          "frame": 747
         },
         {
          "distances": 527,
          "frame": 748
         },
         {
          "distances": 1667,
          "frame": 749
         },
         {
          "distances": 571,
          "frame": 750
         },
         {
          "distances": 613,
          "frame": 751
         },
         {
          "distances": 830,
          "frame": 752
         },
         {
          "distances": 3719,
          "frame": 753
         },
         {
          "distances": 3630,
          "frame": 754
         },
         {
          "distances": 3177,
          "frame": 755
         },
         {
          "distances": 3672,
          "frame": 756
         },
         {
          "distances": 6214,
          "frame": 757
         },
         {
          "distances": 6340,
          "frame": 758
         },
         {
          "distances": 527,
          "frame": 759
         },
         {
          "distances": 7653,
          "frame": 760
         },
         {
          "distances": 99,
          "frame": 761
         },
         {
          "distances": 398,
          "frame": 762
         },
         {
          "distances": 16,
          "frame": 763
         },
         {
          "distances": 16,
          "frame": 764
         },
         {
          "distances": 0,
          "frame": 765
         },
         {
          "distances": 0,
          "frame": 766
         },
         {
          "distances": 1112,
          "frame": 767
         },
         {
          "distances": 1112,
          "frame": 768
         },
         {
          "distances": 0,
          "frame": 769
         },
         {
          "distances": 0,
          "frame": 770
         },
         {
          "distances": 0,
          "frame": 771
         },
         {
          "distances": 0,
          "frame": 772
         },
         {
          "distances": 0,
          "frame": 773
         },
         {
          "distances": 0,
          "frame": 774
         },
         {
          "distances": 0,
          "frame": 775
         },
         {
          "distances": 0,
          "frame": 776
         },
         {
          "distances": 0,
          "frame": 777
         },
         {
          "distances": 0,
          "frame": 778
         },
         {
          "distances": 0,
          "frame": 779
         },
         {
          "distances": 0,
          "frame": 780
         },
         {
          "distances": 0,
          "frame": 781
         },
         {
          "distances": 0,
          "frame": 782
         },
         {
          "distances": 0,
          "frame": 783
         },
         {
          "distances": 10773,
          "frame": 784
         },
         {
          "distances": 10351,
          "frame": 785
         },
         {
          "distances": 58,
          "frame": 786
         },
         {
          "distances": 364,
          "frame": 787
         },
         {
          "distances": 311,
          "frame": 788
         },
         {
          "distances": 87,
          "frame": 789
         },
         {
          "distances": 162,
          "frame": 790
         },
         {
          "distances": 153,
          "frame": 791
         },
         {
          "distances": 95,
          "frame": 792
         },
         {
          "distances": 178,
          "frame": 793
         },
         {
          "distances": 215,
          "frame": 794
         },
         {
          "distances": 198,
          "frame": 795
         },
         {
          "distances": 137,
          "frame": 796
         },
         {
          "distances": 72,
          "frame": 797
         },
         {
          "distances": 54,
          "frame": 798
         },
         {
          "distances": 410,
          "frame": 799
         },
         {
          "distances": 475,
          "frame": 800
         },
         {
          "distances": 199,
          "frame": 801
         },
         {
          "distances": 252,
          "frame": 802
         },
         {
          "distances": 187,
          "frame": 803
         },
         {
          "distances": 282,
          "frame": 804
         },
         {
          "distances": 217,
          "frame": 805
         },
         {
          "distances": 185,
          "frame": 806
         },
         {
          "distances": 325,
          "frame": 807
         },
         {
          "distances": 161,
          "frame": 808
         },
         {
          "distances": 123,
          "frame": 809
         },
         {
          "distances": 180,
          "frame": 810
         },
         {
          "distances": 119,
          "frame": 811
         },
         {
          "distances": 118,
          "frame": 812
         },
         {
          "distances": 161,
          "frame": 813
         },
         {
          "distances": 224,
          "frame": 814
         },
         {
          "distances": 284,
          "frame": 815
         },
         {
          "distances": 69,
          "frame": 816
         },
         {
          "distances": 20,
          "frame": 817
         },
         {
          "distances": 136,
          "frame": 818
         },
         {
          "distances": 128,
          "frame": 819
         },
         {
          "distances": 154,
          "frame": 820
         },
         {
          "distances": 33,
          "frame": 821
         },
         {
          "distances": 89,
          "frame": 822
         },
         {
          "distances": 89,
          "frame": 823
         },
         {
          "distances": 343,
          "frame": 824
         },
         {
          "distances": 343,
          "frame": 825
         },
         {
          "distances": 273,
          "frame": 826
         },
         {
          "distances": 212,
          "frame": 827
         },
         {
          "distances": 241,
          "frame": 828
         },
         {
          "distances": 302,
          "frame": 829
         },
         {
          "distances": 145,
          "frame": 830
         },
         {
          "distances": 145,
          "frame": 831
         },
         {
          "distances": 282,
          "frame": 832
         },
         {
          "distances": 221,
          "frame": 833
         },
         {
          "distances": 228,
          "frame": 834
         },
         {
          "distances": 289,
          "frame": 835
         },
         {
          "distances": 250,
          "frame": 836
         },
         {
          "distances": 180,
          "frame": 837
         },
         {
          "distances": 244,
          "frame": 838
         },
         {
          "distances": 335,
          "frame": 839
         },
         {
          "distances": 277,
          "frame": 840
         },
         {
          "distances": 196,
          "frame": 841
         },
         {
          "distances": 9061,
          "frame": 842
         },
         {
          "distances": 8466,
          "frame": 843
         },
         {
          "distances": 546,
          "frame": 844
         },
         {
          "distances": 184,
          "frame": 845
         },
         {
          "distances": 123,
          "frame": 846
         },
         {
          "distances": 145,
          "frame": 847
         },
         {
          "distances": 176,
          "frame": 848
         },
         {
          "distances": 31,
          "frame": 849
         },
         {
          "distances": 239,
          "frame": 850
         },
         {
          "distances": 225,
          "frame": 851
         },
         {
          "distances": 62,
          "frame": 852
         },
         {
          "distances": 21,
          "frame": 853
         },
         {
          "distances": 23,
          "frame": 854
         },
         {
          "distances": 1632,
          "frame": 855
         },
         {
          "distances": 1413,
          "frame": 856
         },
         {
          "distances": 1296,
          "frame": 857
         },
         {
          "distances": 1195,
          "frame": 858
         },
         {
          "distances": 1039,
          "frame": 859
         },
         {
          "distances": 1055,
          "frame": 860
         },
         {
          "distances": 981,
          "frame": 861
         },
         {
          "distances": 971,
          "frame": 862
         },
         {
          "distances": 10,
          "frame": 863
         },
         {
          "distances": 140,
          "frame": 864
         },
         {
          "distances": 26,
          "frame": 865
         },
         {
          "distances": 48,
          "frame": 866
         },
         {
          "distances": 891,
          "frame": 867
         },
         {
          "distances": 902,
          "frame": 868
         },
         {
          "distances": 70,
          "frame": 869
         },
         {
          "distances": 902,
          "frame": 870
         },
         {
          "distances": 779,
          "frame": 871
         },
         {
          "distances": 770,
          "frame": 872
         },
         {
          "distances": 743,
          "frame": 873
         },
         {
          "distances": 47,
          "frame": 874
         },
         {
          "distances": 120,
          "frame": 875
         },
         {
          "distances": 165,
          "frame": 876
         },
         {
          "distances": 132,
          "frame": 877
         },
         {
          "distances": 27,
          "frame": 878
         },
         {
          "distances": 79,
          "frame": 879
         },
         {
          "distances": 30,
          "frame": 880
         },
         {
          "distances": 23,
          "frame": 881
         },
         {
          "distances": 55,
          "frame": 882
         },
         {
          "distances": 52,
          "frame": 883
         },
         {
          "distances": 54,
          "frame": 884
         },
         {
          "distances": 31,
          "frame": 885
         },
         {
          "distances": 1459,
          "frame": 886
         },
         {
          "distances": 1075,
          "frame": 887
         },
         {
          "distances": 967,
          "frame": 888
         },
         {
          "distances": 1094,
          "frame": 889
         },
         {
          "distances": 1931,
          "frame": 890
         },
         {
          "distances": 1943,
          "frame": 891
         },
         {
          "distances": 1788,
          "frame": 892
         },
         {
          "distances": 1751,
          "frame": 893
         },
         {
          "distances": 283,
          "frame": 894
         },
         {
          "distances": 4770,
          "frame": 895
         },
         {
          "distances": 4221,
          "frame": 896
         },
         {
          "distances": 1176,
          "frame": 897
         },
         {
          "distances": 1265,
          "frame": 898
         },
         {
          "distances": 1431,
          "frame": 899
         },
         {
          "distances": 1580,
          "frame": 900
         },
         {
          "distances": 1580,
          "frame": 901
         },
         {
          "distances": 1428,
          "frame": 902
         },
         {
          "distances": 1242,
          "frame": 903
         },
         {
          "distances": 1301,
          "frame": 904
         },
         {
          "distances": 1092,
          "frame": 905
         },
         {
          "distances": 1041,
          "frame": 906
         },
         {
          "distances": 1066,
          "frame": 907
         },
         {
          "distances": 1076,
          "frame": 908
         },
         {
          "distances": 418,
          "frame": 909
         },
         {
          "distances": 191,
          "frame": 910
         },
         {
          "distances": 443,
          "frame": 911
         },
         {
          "distances": 87,
          "frame": 912
         },
         {
          "distances": 455,
          "frame": 913
         },
         {
          "distances": 190,
          "frame": 914
         },
         {
          "distances": 47,
          "frame": 915
         },
         {
          "distances": 259,
          "frame": 916
         },
         {
          "distances": 170,
          "frame": 917
         },
         {
          "distances": 254,
          "frame": 918
         },
         {
          "distances": 172,
          "frame": 919
         },
         {
          "distances": 146,
          "frame": 920
         },
         {
          "distances": 99,
          "frame": 921
         },
         {
          "distances": 233,
          "frame": 922
         },
         {
          "distances": 238,
          "frame": 923
         },
         {
          "distances": 87,
          "frame": 924
         },
         {
          "distances": 266,
          "frame": 925
         },
         {
          "distances": 92,
          "frame": 926
         },
         {
          "distances": 866,
          "frame": 927
         },
         {
          "distances": 1216,
          "frame": 928
         },
         {
          "distances": 1766,
          "frame": 929
         },
         {
          "distances": 180,
          "frame": 930
         },
         {
          "distances": 123,
          "frame": 931
         },
         {
          "distances": 102,
          "frame": 932
         },
         {
          "distances": 66,
          "frame": 933
         },
         {
          "distances": 60,
          "frame": 934
         },
         {
          "distances": 50,
          "frame": 935
         },
         {
          "distances": 24,
          "frame": 936
         },
         {
          "distances": 118,
          "frame": 937
         },
         {
          "distances": 105,
          "frame": 938
         },
         {
          "distances": 210,
          "frame": 939
         },
         {
          "distances": 210,
          "frame": 940
         },
         {
          "distances": 105,
          "frame": 941
         },
         {
          "distances": 0,
          "frame": 942
         },
         {
          "distances": 91,
          "frame": 943
         },
         {
          "distances": 26,
          "frame": 944
         },
         {
          "distances": 95,
          "frame": 945
         },
         {
          "distances": 318,
          "frame": 946
         },
         {
          "distances": 0,
          "frame": 947
         },
         {
          "distances": 75,
          "frame": 948
         },
         {
          "distances": 136,
          "frame": 949
         },
         {
          "distances": 210,
          "frame": 950
         },
         {
          "distances": 209,
          "frame": 951
         },
         {
          "distances": 210,
          "frame": 952
         },
         {
          "distances": 197,
          "frame": 953
         },
         {
          "distances": 197,
          "frame": 954
         },
         {
          "distances": 6593,
          "frame": 955
         },
         {
          "distances": 5419,
          "frame": 956
         },
         {
          "distances": 807,
          "frame": 957
         },
         {
          "distances": 41,
          "frame": 958
         },
         {
          "distances": 114,
          "frame": 959
         },
         {
          "distances": 106,
          "frame": 960
         },
         {
          "distances": 131,
          "frame": 961
         },
         {
          "distances": 26,
          "frame": 962
         },
         {
          "distances": 210,
          "frame": 963
         },
         {
          "distances": 1,
          "frame": 964
         },
         {
          "distances": 1,
          "frame": 965
         },
         {
          "distances": 105,
          "frame": 966
         },
         {
          "distances": 0,
          "frame": 967
         },
         {
          "distances": 105,
          "frame": 968
         },
         {
          "distances": 224,
          "frame": 969
         },
         {
          "distances": 58,
          "frame": 970
         },
         {
          "distances": 167,
          "frame": 971
         },
         {
          "distances": 0,
          "frame": 972
         },
         {
          "distances": 299,
          "frame": 973
         },
         {
          "distances": 19,
          "frame": 974
         },
         {
          "distances": 20,
          "frame": 975
         },
         {
          "distances": 1,
          "frame": 976
         },
         {
          "distances": 132,
          "frame": 977
         },
         {
          "distances": 168,
          "frame": 978
         },
         {
          "distances": 206,
          "frame": 979
         },
         {
          "distances": 128,
          "frame": 980
         },
         {
          "distances": 128,
          "frame": 981
         },
         {
          "distances": 0,
          "frame": 982
         },
         {
          "distances": 128,
          "frame": 983
         },
         {
          "distances": 0,
          "frame": 984
         },
         {
          "distances": 1,
          "frame": 985
         },
         {
          "distances": 0,
          "frame": 986
         },
         {
          "distances": 0,
          "frame": 987
         },
         {
          "distances": 0,
          "frame": 988
         },
         {
          "distances": 75,
          "frame": 989
         },
         {
          "distances": 75,
          "frame": 990
         },
         {
          "distances": 106,
          "frame": 991
         },
         {
          "distances": 31,
          "frame": 992
         },
         {
          "distances": 75,
          "frame": 993
         },
         {
          "distances": 0,
          "frame": 994
         },
         {
          "distances": 417,
          "frame": 995
         },
         {
          "distances": 175,
          "frame": 996
         },
         {
          "distances": 425,
          "frame": 997
         },
         {
          "distances": 102,
          "frame": 998
         },
         {
          "distances": 245,
          "frame": 999
         },
         {
          "distances": 439,
          "frame": 1000
         },
         {
          "distances": 29,
          "frame": 1001
         },
         {
          "distances": 31,
          "frame": 1002
         },
         {
          "distances": 77,
          "frame": 1003
         },
         {
          "distances": 150,
          "frame": 1004
         },
         {
          "distances": 0,
          "frame": 1005
         },
         {
          "distances": 0,
          "frame": 1006
         },
         {
          "distances": 6712,
          "frame": 1007
         },
         {
          "distances": 5743,
          "frame": 1008
         },
         {
          "distances": 758,
          "frame": 1009
         },
         {
          "distances": 195,
          "frame": 1010
         },
         {
          "distances": 59,
          "frame": 1011
         },
         {
          "distances": 108,
          "frame": 1012
         },
         {
          "distances": 85,
          "frame": 1013
         },
         {
          "distances": 86,
          "frame": 1014
         },
         {
          "distances": 77,
          "frame": 1015
         },
         {
          "distances": 257,
          "frame": 1016
         },
         {
          "distances": 195,
          "frame": 1017
         },
         {
          "distances": 646,
          "frame": 1018
         },
         {
          "distances": 273,
          "frame": 1019
         },
         {
          "distances": 3268,
          "frame": 1020
         },
         {
          "distances": 2948,
          "frame": 1021
         },
         {
          "distances": 3506,
          "frame": 1022
         },
         {
          "distances": 852,
          "frame": 1023
         },
         {
          "distances": 955,
          "frame": 1024
         },
         {
          "distances": 3877,
          "frame": 1025
         },
         {
          "distances": 3369,
          "frame": 1026
         },
         {
          "distances": 3273,
          "frame": 1027
         },
         {
          "distances": 3151,
          "frame": 1028
         },
         {
          "distances": 3275,
          "frame": 1029
         },
         {
          "distances": 1036,
          "frame": 1030
         },
         {
          "distances": 1011,
          "frame": 1031
         },
         {
          "distances": 686,
          "frame": 1032
         },
         {
          "distances": 1122,
          "frame": 1033
         },
         {
          "distances": 998,
          "frame": 1034
         },
         {
          "distances": 922,
          "frame": 1035
         },
         {
          "distances": 35,
          "frame": 1036
         },
         {
          "distances": 1358,
          "frame": 1037
         },
         {
          "distances": 1323,
          "frame": 1038
         },
         {
          "distances": 1093,
          "frame": 1039
         },
         {
          "distances": 839,
          "frame": 1040
         },
         {
          "distances": 2880,
          "frame": 1041
         },
         {
          "distances": 2801,
          "frame": 1042
         },
         {
          "distances": 2830,
          "frame": 1043
         },
         {
          "distances": 2624,
          "frame": 1044
         },
         {
          "distances": 3023,
          "frame": 1045
         },
         {
          "distances": 3026,
          "frame": 1046
         },
         {
          "distances": 3311,
          "frame": 1047
         },
         {
          "distances": 3406,
          "frame": 1048
         },
         {
          "distances": 2931,
          "frame": 1049
         },
         {
          "distances": 3004,
          "frame": 1050
         },
         {
          "distances": 3264,
          "frame": 1051
         },
         {
          "distances": 3138,
          "frame": 1052
         },
         {
          "distances": 3406,
          "frame": 1053
         },
         {
          "distances": 3598,
          "frame": 1054
         },
         {
          "distances": 3890,
          "frame": 1055
         },
         {
          "distances": 3874,
          "frame": 1056
         },
         {
          "distances": 4045,
          "frame": 1057
         },
         {
          "distances": 4119,
          "frame": 1058
         },
         {
          "distances": 5360,
          "frame": 1059
         },
         {
          "distances": 5283,
          "frame": 1060
         },
         {
          "distances": 75,
          "frame": 1061
         },
         {
          "distances": 5337,
          "frame": 1062
         },
         {
          "distances": 5262,
          "frame": 1063
         },
         {
          "distances": 6297,
          "frame": 1064
         },
         {
          "distances": 89,
          "frame": 1065
         },
         {
          "distances": 556,
          "frame": 1066
         },
         {
          "distances": 51,
          "frame": 1067
         },
         {
          "distances": 319,
          "frame": 1068
         },
         {
          "distances": 1,
          "frame": 1069
         },
         {
          "distances": 4,
          "frame": 1070
         },
         {
          "distances": 104,
          "frame": 1071
         },
         {
          "distances": 602,
          "frame": 1072
         },
         {
          "distances": 1165,
          "frame": 1073
         },
         {
          "distances": 1315,
          "frame": 1074
         },
         {
          "distances": 2483,
          "frame": 1075
         },
         {
          "distances": 248,
          "frame": 1076
         },
         {
          "distances": 360,
          "frame": 1077
         },
         {
          "distances": 62,
          "frame": 1078
         },
         {
          "distances": 220,
          "frame": 1079
         },
         {
          "distances": 2,
          "frame": 1080
         },
         {
          "distances": 512,
          "frame": 1081
         },
         {
          "distances": 723,
          "frame": 1082
         },
         {
          "distances": 415,
          "frame": 1083
         },
         {
          "distances": 459,
          "frame": 1084
         },
         {
          "distances": 877,
          "frame": 1085
         },
         {
          "distances": 113,
          "frame": 1086
         },
         {
          "distances": 501,
          "frame": 1087
         },
         {
          "distances": 686,
          "frame": 1088
         },
         {
          "distances": 328,
          "frame": 1089
         },
         {
          "distances": 613,
          "frame": 1090
         },
         {
          "distances": 402,
          "frame": 1091
         },
         {
          "distances": 63,
          "frame": 1092
         },
         {
          "distances": 368,
          "frame": 1093
         },
         {
          "distances": 44,
          "frame": 1094
         },
         {
          "distances": 497,
          "frame": 1095
         },
         {
          "distances": 389,
          "frame": 1096
         },
         {
          "distances": 9,
          "frame": 1097
         },
         {
          "distances": 210,
          "frame": 1098
         },
         {
          "distances": 354,
          "frame": 1099
         },
         {
          "distances": 92,
          "frame": 1100
         },
         {
          "distances": 169,
          "frame": 1101
         },
         {
          "distances": 406,
          "frame": 1102
         },
         {
          "distances": 63,
          "frame": 1103
         },
         {
          "distances": 758,
          "frame": 1104
         },
         {
          "distances": 620,
          "frame": 1105
         },
         {
          "distances": 561,
          "frame": 1106
         },
         {
          "distances": 180,
          "frame": 1107
         },
         {
          "distances": 420,
          "frame": 1108
         },
         {
          "distances": 60,
          "frame": 1109
         },
         {
          "distances": 320,
          "frame": 1110
         },
         {
          "distances": 129,
          "frame": 1111
         },
         {
          "distances": 4238,
          "frame": 1112
         },
         {
          "distances": 4317,
          "frame": 1113
         },
         {
          "distances": 4128,
          "frame": 1114
         },
         {
          "distances": 4125,
          "frame": 1115
         },
         {
          "distances": 4088,
          "frame": 1116
         },
         {
          "distances": 4198,
          "frame": 1117
         },
         {
          "distances": 4034,
          "frame": 1118
         },
         {
          "distances": 3669,
          "frame": 1119
         },
         {
          "distances": 3349,
          "frame": 1120
         },
         {
          "distances": 2357,
          "frame": 1121
         },
         {
          "distances": 213,
          "frame": 1122
         },
         {
          "distances": 1100,
          "frame": 1123
         },
         {
          "distances": 540,
          "frame": 1124
         },
         {
          "distances": 179,
          "frame": 1125
         },
         {
          "distances": 2719,
          "frame": 1126
         },
         {
          "distances": 2827,
          "frame": 1127
         },
         {
          "distances": 2946,
          "frame": 1128
         },
         {
          "distances": 3170,
          "frame": 1129
         },
         {
          "distances": 3059,
          "frame": 1130
         },
         {
          "distances": 3187,
          "frame": 1131
         },
         {
          "distances": 105,
          "frame": 1132
         },
         {
          "distances": 3097,
          "frame": 1133
         },
         {
          "distances": 3146,
          "frame": 1134
         },
         {
          "distances": 722,
          "frame": 1135
         },
         {
          "distances": 398,
          "frame": 1136
         },
         {
          "distances": 177,
          "frame": 1137
         },
         {
          "distances": 703,
          "frame": 1138
         },
         {
          "distances": 79,
          "frame": 1139
         },
         {
          "distances": 0,
          "frame": 1140
         },
         {
          "distances": 43,
          "frame": 1141
         },
         {
          "distances": 105,
          "frame": 1142
         },
         {
          "distances": 61,
          "frame": 1143
         },
         {
          "distances": 17,
          "frame": 1144
         },
         {
          "distances": 38,
          "frame": 1145
         },
         {
          "distances": 23,
          "frame": 1146
         },
         {
          "distances": 322,
          "frame": 1147
         },
         {
          "distances": 129,
          "frame": 1148
         },
         {
          "distances": 433,
          "frame": 1149
         },
         {
          "distances": 292,
          "frame": 1150
         },
         {
          "distances": 3144,
          "frame": 1151
         },
         {
          "distances": 2836,
          "frame": 1152
         },
         {
          "distances": 244,
          "frame": 1153
         },
         {
          "distances": 95,
          "frame": 1154
         },
         {
          "distances": 259,
          "frame": 1155
         },
         {
          "distances": 265,
          "frame": 1156
         },
         {
          "distances": 698,
          "frame": 1157
         },
         {
          "distances": 316,
          "frame": 1158
         },
         {
          "distances": 174,
          "frame": 1159
         },
         {
          "distances": 25,
          "frame": 1160
         },
         {
          "distances": 656,
          "frame": 1161
         },
         {
          "distances": 0,
          "frame": 1162
         },
         {
          "distances": 247,
          "frame": 1163
         },
         {
          "distances": 6296,
          "frame": 1164
         },
         {
          "distances": 189,
          "frame": 1165
         },
         {
          "distances": 386,
          "frame": 1166
         },
         {
          "distances": 1240,
          "frame": 1167
         },
         {
          "distances": 30,
          "frame": 1168
         },
         {
          "distances": 4321,
          "frame": 1169
         },
         {
          "distances": 158,
          "frame": 1170
         },
         {
          "distances": 221,
          "frame": 1171
         },
         {
          "distances": 3864,
          "frame": 1172
         },
         {
          "distances": 644,
          "frame": 1173
         },
         {
          "distances": 143,
          "frame": 1174
         },
         {
          "distances": 262,
          "frame": 1175
         },
         {
          "distances": 256,
          "frame": 1176
         },
         {
          "distances": 4659,
          "frame": 1177
         },
         {
          "distances": 76,
          "frame": 1178
         },
         {
          "distances": 419,
          "frame": 1179
         },
         {
          "distances": 38,
          "frame": 1180
         },
         {
          "distances": 174,
          "frame": 1181
         },
         {
          "distances": 265,
          "frame": 1182
         },
         {
          "distances": 7829,
          "frame": 1183
         },
         {
          "distances": 6833,
          "frame": 1184
         },
         {
          "distances": 1990,
          "frame": 1185
         },
         {
          "distances": 2642,
          "frame": 1186
         },
         {
          "distances": 2457,
          "frame": 1187
         },
         {
          "distances": 2211,
          "frame": 1188
         },
         {
          "distances": 2120,
          "frame": 1189
         },
         {
          "distances": 2442,
          "frame": 1190
         },
         {
          "distances": 2269,
          "frame": 1191
         },
         {
          "distances": 1650,
          "frame": 1192
         },
         {
          "distances": 588,
          "frame": 1193
         },
         {
          "distances": 1150,
          "frame": 1194
         },
         {
          "distances": 379,
          "frame": 1195
         },
         {
          "distances": 439,
          "frame": 1196
         },
         {
          "distances": 141,
          "frame": 1197
         },
         {
          "distances": 42,
          "frame": 1198
         },
         {
          "distances": 560,
          "frame": 1199
         },
         {
          "distances": 563,
          "frame": 1200
         },
         {
          "distances": 155,
          "frame": 1201
         },
         {
          "distances": 24,
          "frame": 1202
         },
         {
          "distances": 18,
          "frame": 1203
         },
         {
          "distances": 290,
          "frame": 1204
         },
         {
          "distances": 108,
          "frame": 1205
         },
         {
          "distances": 360,
          "frame": 1206
         },
         {
          "distances": 97,
          "frame": 1207
         },
         {
          "distances": 270,
          "frame": 1208
         },
         {
          "distances": 56,
          "frame": 1209
         },
         {
          "distances": 1243,
          "frame": 1210
         },
         {
          "distances": 1275,
          "frame": 1211
         },
         {
          "distances": 244,
          "frame": 1212
         },
         {
          "distances": 275,
          "frame": 1213
         },
         {
          "distances": 607,
          "frame": 1214
         },
         {
          "distances": 140,
          "frame": 1215
         },
         {
          "distances": 211,
          "frame": 1216
         },
         {
          "distances": 604,
          "frame": 1217
         },
         {
          "distances": 119,
          "frame": 1218
         },
         {
          "distances": 145,
          "frame": 1219
         },
         {
          "distances": 0,
          "frame": 1220
         },
         {
          "distances": 256,
          "frame": 1221
         },
         {
          "distances": 17,
          "frame": 1222
         },
         {
          "distances": 107,
          "frame": 1223
         },
         {
          "distances": 123,
          "frame": 1224
         },
         {
          "distances": 135,
          "frame": 1225
         },
         {
          "distances": 246,
          "frame": 1226
         },
         {
          "distances": 88,
          "frame": 1227
         },
         {
          "distances": 130,
          "frame": 1228
         },
         {
          "distances": 95,
          "frame": 1229
         },
         {
          "distances": 187,
          "frame": 1230
         },
         {
          "distances": 381,
          "frame": 1231
         },
         {
          "distances": 691,
          "frame": 1232
         },
         {
          "distances": 134,
          "frame": 1233
         },
         {
          "distances": 384,
          "frame": 1234
         },
         {
          "distances": 348,
          "frame": 1235
         },
         {
          "distances": 40,
          "frame": 1236
         },
         {
          "distances": 1621,
          "frame": 1237
         },
         {
          "distances": 1612,
          "frame": 1238
         },
         {
          "distances": 1354,
          "frame": 1239
         },
         {
          "distances": 1372,
          "frame": 1240
         },
         {
          "distances": 1351,
          "frame": 1241
         },
         {
          "distances": 1419,
          "frame": 1242
         },
         {
          "distances": 73,
          "frame": 1243
         },
         {
          "distances": 91,
          "frame": 1244
         },
         {
          "distances": 70,
          "frame": 1245
         },
         {
          "distances": 5,
          "frame": 1246
         },
         {
          "distances": 120,
          "frame": 1247
         },
         {
          "distances": 176,
          "frame": 1248
         },
         {
          "distances": 1074,
          "frame": 1249
         },
         {
          "distances": 1101,
          "frame": 1250
         },
         {
          "distances": 1136,
          "frame": 1251
         },
         {
          "distances": 1158,
          "frame": 1252
         },
         {
          "distances": 253,
          "frame": 1253
         },
         {
          "distances": 105,
          "frame": 1254
         },
         {
          "distances": 26,
          "frame": 1255
         },
         {
          "distances": 122,
          "frame": 1256
         },
         {
          "distances": 69,
          "frame": 1257
         },
         {
          "distances": 812,
          "frame": 1258
         },
         {
          "distances": 636,
          "frame": 1259
         },
         {
          "distances": 394,
          "frame": 1260
         },
         {
          "distances": 496,
          "frame": 1261
         },
         {
          "distances": 613,
          "frame": 1262
         },
         {
          "distances": 559,
          "frame": 1263
         },
         {
          "distances": 97,
          "frame": 1264
         },
         {
          "distances": 54,
          "frame": 1265
         },
         {
          "distances": 1073,
          "frame": 1266
         },
         {
          "distances": 1189,
          "frame": 1267
         },
         {
          "distances": 1140,
          "frame": 1268
         },
         {
          "distances": 1040,
          "frame": 1269
         },
         {
          "distances": 984,
          "frame": 1270
         },
         {
          "distances": 1095,
          "frame": 1271
         },
         {
          "distances": 159,
          "frame": 1272
         },
         {
          "distances": 171,
          "frame": 1273
         },
         {
          "distances": 202,
          "frame": 1274
         },
         {
          "distances": 241,
          "frame": 1275
         },
         {
          "distances": 30,
          "frame": 1276
         },
         {
          "distances": 70,
          "frame": 1277
         },
         {
          "distances": 237,
          "frame": 1278
         },
         {
          "distances": 4080,
          "frame": 1279
         },
         {
          "distances": 3460,
          "frame": 1280
         },
         {
          "distances": 77,
          "frame": 1281
         },
         {
          "distances": 243,
          "frame": 1282
         },
         {
          "distances": 67,
          "frame": 1283
         },
         {
          "distances": 33,
          "frame": 1284
         },
         {
          "distances": 193,
          "frame": 1285
         },
         {
          "distances": 268,
          "frame": 1286
         },
         {
          "distances": 201,
          "frame": 1287
         },
         {
          "distances": 385,
          "frame": 1288
         },
         {
          "distances": 351,
          "frame": 1289
         },
         {
          "distances": 320,
          "frame": 1290
         },
         {
          "distances": 194,
          "frame": 1291
         },
         {
          "distances": 151,
          "frame": 1292
         },
         {
          "distances": 262,
          "frame": 1293
         },
         {
          "distances": 152,
          "frame": 1294
         },
         {
          "distances": 40,
          "frame": 1295
         },
         {
          "distances": 150,
          "frame": 1296
         },
         {
          "distances": 371,
          "frame": 1297
         },
         {
          "distances": 353,
          "frame": 1298
         },
         {
          "distances": 132,
          "frame": 1299
         },
         {
          "distances": 299,
          "frame": 1300
         },
         {
          "distances": 0,
          "frame": 1301
         },
         {
          "distances": 420,
          "frame": 1302
         },
         {
          "distances": 345,
          "frame": 1303
         },
         {
          "distances": 328,
          "frame": 1304
         },
         {
          "distances": 205,
          "frame": 1305
         },
         {
          "distances": 14,
          "frame": 1306
         },
         {
          "distances": 133,
          "frame": 1307
         },
         {
          "distances": 30,
          "frame": 1308
         },
         {
          "distances": 315,
          "frame": 1309
         },
         {
          "distances": 258,
          "frame": 1310
         },
         {
          "distances": 145,
          "frame": 1311
         },
         {
          "distances": 323,
          "frame": 1312
         },
         {
          "distances": 467,
          "frame": 1313
         },
         {
          "distances": 451,
          "frame": 1314
         },
         {
          "distances": 420,
          "frame": 1315
         },
         {
          "distances": 593,
          "frame": 1316
         },
         {
          "distances": 557,
          "frame": 1317
         },
         {
          "distances": 1662,
          "frame": 1318
         },
         {
          "distances": 1571,
          "frame": 1319
         },
         {
          "distances": 1334,
          "frame": 1320
         },
         {
          "distances": 1264,
          "frame": 1321
         },
         {
          "distances": 1288,
          "frame": 1322
         },
         {
          "distances": 1527,
          "frame": 1323
         },
         {
          "distances": 126,
          "frame": 1324
         },
         {
          "distances": 1402,
          "frame": 1325
         },
         {
          "distances": 1158,
          "frame": 1326
         },
         {
          "distances": 42,
          "frame": 1327
         },
         {
          "distances": 190,
          "frame": 1328
         },
         {
          "distances": 43,
          "frame": 1329
         },
         {
          "distances": 84,
          "frame": 1330
         },
         {
          "distances": 93,
          "frame": 1331
         },
         {
          "distances": 170,
          "frame": 1332
         },
         {
          "distances": 854,
          "frame": 1333
         },
         {
          "distances": 155,
          "frame": 1334
         },
         {
          "distances": 335,
          "frame": 1335
         },
         {
          "distances": 186,
          "frame": 1336
         },
         {
          "distances": 219,
          "frame": 1337
         },
         {
          "distances": 536,
          "frame": 1338
         },
         {
          "distances": 153,
          "frame": 1339
         },
         {
          "distances": 156,
          "frame": 1340
         },
         {
          "distances": 246,
          "frame": 1341
         },
         {
          "distances": 203,
          "frame": 1342
         },
         {
          "distances": 268,
          "frame": 1343
         },
         {
          "distances": 311,
          "frame": 1344
         },
         {
          "distances": 269,
          "frame": 1345
         },
         {
          "distances": 127,
          "frame": 1346
         },
         {
          "distances": 59,
          "frame": 1347
         },
         {
          "distances": 306,
          "frame": 1348
         },
         {
          "distances": 268,
          "frame": 1349
         },
         {
          "distances": 194,
          "frame": 1350
         },
         {
          "distances": 66,
          "frame": 1351
         },
         {
          "distances": 140,
          "frame": 1352
         },
         {
          "distances": 236,
          "frame": 1353
         },
         {
          "distances": 237,
          "frame": 1354
         },
         {
          "distances": 0,
          "frame": 1355
         },
         {
          "distances": 0,
          "frame": 1356
         },
         {
          "distances": 75,
          "frame": 1357
         },
         {
          "distances": 312,
          "frame": 1358
         },
         {
          "distances": 128,
          "frame": 1359
         },
         {
          "distances": 47,
          "frame": 1360
         },
         {
          "distances": 36,
          "frame": 1361
         },
         {
          "distances": 99,
          "frame": 1362
         },
         {
          "distances": 131,
          "frame": 1363
         },
         {
          "distances": 43,
          "frame": 1364
         },
         {
          "distances": 307,
          "frame": 1365
         },
         {
          "distances": 543,
          "frame": 1366
         },
         {
          "distances": 1,
          "frame": 1367
         },
         {
          "distances": 75,
          "frame": 1368
         },
         {
          "distances": 74,
          "frame": 1369
         },
         {
          "distances": 105,
          "frame": 1370
         },
         {
          "distances": 106,
          "frame": 1371
         },
         {
          "distances": 333,
          "frame": 1372
         },
         {
          "distances": 2149,
          "frame": 1373
         },
         {
          "distances": 2104,
          "frame": 1374
         },
         {
          "distances": 1894,
          "frame": 1375
         },
         {
          "distances": 1661,
          "frame": 1376
         },
         {
          "distances": 1561,
          "frame": 1377
         },
         {
          "distances": 1434,
          "frame": 1378
         },
         {
          "distances": 486,
          "frame": 1379
         },
         {
          "distances": 853,
          "frame": 1380
         },
         {
          "distances": 794,
          "frame": 1381
         },
         {
          "distances": 798,
          "frame": 1382
         },
         {
          "distances": 102,
          "frame": 1383
         },
         {
          "distances": 469,
          "frame": 1384
         },
         {
          "distances": 0,
          "frame": 1385
         },
         {
          "distances": 75,
          "frame": 1386
         },
         {
          "distances": 0,
          "frame": 1387
         },
         {
          "distances": 73,
          "frame": 1388
         },
         {
          "distances": 2,
          "frame": 1389
         },
         {
          "distances": 0,
          "frame": 1390
         },
         {
          "distances": 129,
          "frame": 1391
         },
         {
          "distances": 127,
          "frame": 1392
         },
         {
          "distances": 104,
          "frame": 1393
         },
         {
          "distances": 106,
          "frame": 1394
         },
         {
          "distances": 0,
          "frame": 1395
         },
         {
          "distances": 0,
          "frame": 1396
         },
         {
          "distances": 0,
          "frame": 1397
         },
         {
          "distances": 0,
          "frame": 1398
         },
         {
          "distances": 0,
          "frame": 1399
         },
         {
          "distances": 0,
          "frame": 1400
         },
         {
          "distances": 0,
          "frame": 1401
         },
         {
          "distances": 0,
          "frame": 1402
         },
         {
          "distances": 0,
          "frame": 1403
         },
         {
          "distances": 0,
          "frame": 1404
         },
         {
          "distances": 0,
          "frame": 1405
         },
         {
          "distances": 0,
          "frame": 1406
         },
         {
          "distances": 5126,
          "frame": 1407
         },
         {
          "distances": 7072,
          "frame": 1408
         },
         {
          "distances": 10174,
          "frame": 1409
         },
         {
          "distances": 1300,
          "frame": 1410
         },
         {
          "distances": 297,
          "frame": 1411
         },
         {
          "distances": 176,
          "frame": 1412
         },
         {
          "distances": 223,
          "frame": 1413
         },
         {
          "distances": 332,
          "frame": 1414
         },
         {
          "distances": 538,
          "frame": 1415
         },
         {
          "distances": 53,
          "frame": 1416
         },
         {
          "distances": 334,
          "frame": 1417
         },
         {
          "distances": 63,
          "frame": 1418
         },
         {
          "distances": 441,
          "frame": 1419
         },
         {
          "distances": 2298,
          "frame": 1420
         },
         {
          "distances": 2614,
          "frame": 1421
         },
         {
          "distances": 444,
          "frame": 1422
         },
         {
          "distances": 326,
          "frame": 1423
         },
         {
          "distances": 259,
          "frame": 1424
         },
         {
          "distances": 143,
          "frame": 1425
         },
         {
          "distances": 210,
          "frame": 1426
         },
         {
          "distances": 118,
          "frame": 1427
         },
         {
          "distances": 257,
          "frame": 1428
         },
         {
          "distances": 110,
          "frame": 1429
         },
         {
          "distances": 62,
          "frame": 1430
         },
         {
          "distances": 129,
          "frame": 1431
         },
         {
          "distances": 157,
          "frame": 1432
         },
         {
          "distances": 94,
          "frame": 1433
         },
         {
          "distances": 434,
          "frame": 1434
         },
         {
          "distances": 2556,
          "frame": 1435
         },
         {
          "distances": 79,
          "frame": 1436
         },
         {
          "distances": 629,
          "frame": 1437
         },
         {
          "distances": 490,
          "frame": 1438
         },
         {
          "distances": 277,
          "frame": 1439
         },
         {
          "distances": 679,
          "frame": 1440
         },
         {
          "distances": 355,
          "frame": 1441
         },
         {
          "distances": 304,
          "frame": 1442
         },
         {
          "distances": 272,
          "frame": 1443
         },
         {
          "distances": 514,
          "frame": 1444
         },
         {
          "distances": 457,
          "frame": 1445
         },
         {
          "distances": 631,
          "frame": 1446
         },
         {
          "distances": 196,
          "frame": 1447
         },
         {
          "distances": 133,
          "frame": 1448
         },
         {
          "distances": 169,
          "frame": 1449
         },
         {
          "distances": 1240,
          "frame": 1450
         },
         {
          "distances": 1081,
          "frame": 1451
         },
         {
          "distances": 1170,
          "frame": 1452
         },
         {
          "distances": 1358,
          "frame": 1453
         },
         {
          "distances": 905,
          "frame": 1454
         },
         {
          "distances": 826,
          "frame": 1455
         },
         {
          "distances": 1253,
          "frame": 1456
         },
         {
          "distances": 1246,
          "frame": 1457
         },
         {
          "distances": 914,
          "frame": 1458
         },
         {
          "distances": 679,
          "frame": 1459
         },
         {
          "distances": 397,
          "frame": 1460
         },
         {
          "distances": 1077,
          "frame": 1461
         },
         {
          "distances": 886,
          "frame": 1462
         },
         {
          "distances": 628,
          "frame": 1463
         },
         {
          "distances": 4,
          "frame": 1464
         },
         {
          "distances": 145,
          "frame": 1465
         },
         {
          "distances": 321,
          "frame": 1466
         },
         {
          "distances": 524,
          "frame": 1467
         },
         {
          "distances": 54,
          "frame": 1468
         },
         {
          "distances": 648,
          "frame": 1469
         },
         {
          "distances": 405,
          "frame": 1470
         },
         {
          "distances": 687,
          "frame": 1471
         },
         {
          "distances": 835,
          "frame": 1472
         },
         {
          "distances": 203,
          "frame": 1473
         },
         {
          "distances": 75,
          "frame": 1474
         },
         {
          "distances": 0,
          "frame": 1475
         },
         {
          "distances": 309,
          "frame": 1476
         },
         {
          "distances": 9334,
          "frame": 1477
         },
         {
          "distances": 8579,
          "frame": 1478
         },
         {
          "distances": 544,
          "frame": 1479
         },
         {
          "distances": 259,
          "frame": 1480
         },
         {
          "distances": 2123,
          "frame": 1481
         },
         {
          "distances": 1536,
          "frame": 1482
         },
         {
          "distances": 1248,
          "frame": 1483
         },
         {
          "distances": 1770,
          "frame": 1484
         },
         {
          "distances": 1986,
          "frame": 1485
         },
         {
          "distances": 1882,
          "frame": 1486
         },
         {
          "distances": 675,
          "frame": 1487
         },
         {
          "distances": 501,
          "frame": 1488
         },
         {
          "distances": 83,
          "frame": 1489
         },
         {
          "distances": 296,
          "frame": 1490
         },
         {
          "distances": 398,
          "frame": 1491
         },
         {
          "distances": 199,
          "frame": 1492
         },
         {
          "distances": 241,
          "frame": 1493
         },
         {
          "distances": 416,
          "frame": 1494
         },
         {
          "distances": 416,
          "frame": 1495
         },
         {
          "distances": 27,
          "frame": 1496
         },
         {
          "distances": 75,
          "frame": 1497
         },
         {
          "distances": 29,
          "frame": 1498
         },
         {
          "distances": 131,
          "frame": 1499
         },
         {
          "distances": 468,
          "frame": 1500
         },
         {
          "distances": 630,
          "frame": 1501
         },
         {
          "distances": 421,
          "frame": 1502
         },
         {
          "distances": 247,
          "frame": 1503
         },
         {
          "distances": 190,
          "frame": 1504
         },
         {
          "distances": 333,
          "frame": 1505
         },
         {
          "distances": 104,
          "frame": 1506
         },
         {
          "distances": 196,
          "frame": 1507
         },
         {
          "distances": 10,
          "frame": 1508
         },
         {
          "distances": 133,
          "frame": 1509
         },
         {
          "distances": 75,
          "frame": 1510
         },
         {
          "distances": 1,
          "frame": 1511
         },
         {
          "distances": 105,
          "frame": 1512
         },
         {
          "distances": 31,
          "frame": 1513
         },
         {
          "distances": 73,
          "frame": 1514
         },
         {
          "distances": 2,
          "frame": 1515
         },
         {
          "distances": 0,
          "frame": 1516
         },
         {
          "distances": 75,
          "frame": 1517
         },
         {
          "distances": 276,
          "frame": 1518
         },
         {
          "distances": 3047,
          "frame": 1519
         },
         {
          "distances": 2825,
          "frame": 1520
         },
         {
          "distances": 2465,
          "frame": 1521
         },
         {
          "distances": 2748,
          "frame": 1522
         },
         {
          "distances": 2938,
          "frame": 1523
         },
         {
          "distances": 2797,
          "frame": 1524
         },
         {
          "distances": 52,
          "frame": 1525
         },
         {
          "distances": 481,
          "frame": 1526
         },
         {
          "distances": 178,
          "frame": 1527
         },
         {
          "distances": 179,
          "frame": 1528
         },
         {
          "distances": 1,
          "frame": 1529
         },
         {
          "distances": 1,
          "frame": 1530
         },
         {
          "distances": 1,
          "frame": 1531
         },
         {
          "distances": 0,
          "frame": 1532
         },
         {
          "distances": 0,
          "frame": 1533
         },
         {
          "distances": 0,
          "frame": 1534
         },
         {
          "distances": 3647,
          "frame": 1535
         },
         {
          "distances": 3198,
          "frame": 1536
         },
         {
          "distances": 251,
          "frame": 1537
         },
         {
          "distances": 82,
          "frame": 1538
         },
         {
          "distances": 56,
          "frame": 1539
         },
         {
          "distances": 1,
          "frame": 1540
         },
         {
          "distances": 2,
          "frame": 1541
         },
         {
          "distances": 25,
          "frame": 1542
         },
         {
          "distances": 142,
          "frame": 1543
         },
         {
          "distances": 44,
          "frame": 1544
         },
         {
          "distances": 74,
          "frame": 1545
         },
         {
          "distances": 224,
          "frame": 1546
         },
         {
          "distances": 129,
          "frame": 1547
         },
         {
          "distances": 95,
          "frame": 1548
         },
         {
          "distances": 149,
          "frame": 1549
         },
         {
          "distances": 54,
          "frame": 1550
         },
         {
          "distances": 160,
          "frame": 1551
         },
         {
          "distances": 106,
          "frame": 1552
         },
         {
          "distances": 41,
          "frame": 1553
         },
         {
          "distances": 223,
          "frame": 1554
         },
         {
          "distances": 166,
          "frame": 1555
         },
         {
          "distances": 57,
          "frame": 1556
         },
         {
          "distances": 74,
          "frame": 1557
         },
         {
          "distances": 74,
          "frame": 1558
         },
         {
          "distances": 224,
          "frame": 1559
         },
         {
          "distances": 167,
          "frame": 1560
         },
         {
          "distances": 269,
          "frame": 1561
         },
         {
          "distances": 952,
          "frame": 1562
         },
         {
          "distances": 803,
          "frame": 1563
         },
         {
          "distances": 436,
          "frame": 1564
         },
         {
          "distances": 1438,
          "frame": 1565
         },
         {
          "distances": 1247,
          "frame": 1566
         },
         {
          "distances": 1542,
          "frame": 1567
         },
         {
          "distances": 1559,
          "frame": 1568
         },
         {
          "distances": 354,
          "frame": 1569
         },
         {
          "distances": 255,
          "frame": 1570
         },
         {
          "distances": 73,
          "frame": 1571
         },
         {
          "distances": 271,
          "frame": 1572
         },
         {
          "distances": 658,
          "frame": 1573
         },
         {
          "distances": 613,
          "frame": 1574
         },
         {
          "distances": 277,
          "frame": 1575
         },
         {
          "distances": 247,
          "frame": 1576
         },
         {
          "distances": 784,
          "frame": 1577
         },
         {
          "distances": 554,
          "frame": 1578
         },
         {
          "distances": 2372,
          "frame": 1579
         },
         {
          "distances": 2492,
          "frame": 1580
         },
         {
          "distances": 1590,
          "frame": 1581
         },
         {
          "distances": 1691,
          "frame": 1582
         },
         {
          "distances": 2022,
          "frame": 1583
         },
         {
          "distances": 1899,
          "frame": 1584
         },
         {
          "distances": 323,
          "frame": 1585
         },
         {
          "distances": 488,
          "frame": 1586
         },
         {
          "distances": 85,
          "frame": 1587
         },
         {
          "distances": 2349,
          "frame": 1588
         },
         {
          "distances": 2243,
          "frame": 1589
         },
         {
          "distances": 1916,
          "frame": 1590
         },
         {
          "distances": 1881,
          "frame": 1591
         },
         {
          "distances": 1948,
          "frame": 1592
         },
         {
          "distances": 2018,
          "frame": 1593
         },
         {
          "distances": 196,
          "frame": 1594
         },
         {
          "distances": 319,
          "frame": 1595
         },
         {
          "distances": 229,
          "frame": 1596
         },
         {
          "distances": 331,
          "frame": 1597
         },
         {
          "distances": 346,
          "frame": 1598
         },
         {
          "distances": 394,
          "frame": 1599
         },
         {
          "distances": 450,
          "frame": 1600
         },
         {
          "distances": 265,
          "frame": 1601
         },
         {
          "distances": 7896,
          "frame": 1602
         },
         {
          "distances": 6440,
          "frame": 1603
         },
         {
          "distances": 1302,
          "frame": 1604
         },
         {
          "distances": 277,
          "frame": 1605
         },
         {
          "distances": 82,
          "frame": 1606
         },
         {
          "distances": 66,
          "frame": 1607
         },
         {
          "distances": 26,
          "frame": 1608
         },
         {
          "distances": 235,
          "frame": 1609
         },
         {
          "distances": 173,
          "frame": 1610
         },
         {
          "distances": 173,
          "frame": 1611
         },
         {
          "distances": 44,
          "frame": 1612
         },
         {
          "distances": 164,
          "frame": 1613
         },
         {
          "distances": 58,
          "frame": 1614
         },
         {
          "distances": 289,
          "frame": 1615
         },
         {
          "distances": 318,
          "frame": 1616
         },
         {
          "distances": 132,
          "frame": 1617
         },
         {
          "distances": 314,
          "frame": 1618
         },
         {
          "distances": 155,
          "frame": 1619
         },
         {
          "distances": 6,
          "frame": 1620
         },
         {
          "distances": 195,
          "frame": 1621
         },
         {
          "distances": 195,
          "frame": 1622
         },
         {
          "distances": 37,
          "frame": 1623
         },
         {
          "distances": 187,
          "frame": 1624
         },
         {
          "distances": 248,
          "frame": 1625
         },
         {
          "distances": 173,
          "frame": 1626
         },
         {
          "distances": 136,
          "frame": 1627
         },
         {
          "distances": 98,
          "frame": 1628
         },
         {
          "distances": 281,
          "frame": 1629
         },
         {
          "distances": 392,
          "frame": 1630
         },
         {
          "distances": 235,
          "frame": 1631
         },
         {
          "distances": 130,
          "frame": 1632
         },
         {
          "distances": 155,
          "frame": 1633
         },
         {
          "distances": 108,
          "frame": 1634
         },
         {
          "distances": 79,
          "frame": 1635
         },
         {
          "distances": 195,
          "frame": 1636
         },
         {
          "distances": 47,
          "frame": 1637
         },
         {
          "distances": 1238,
          "frame": 1638
         },
         {
          "distances": 1110,
          "frame": 1639
         },
         {
          "distances": 1050,
          "frame": 1640
         },
         {
          "distances": 901,
          "frame": 1641
         },
         {
          "distances": 804,
          "frame": 1642
         },
         {
          "distances": 997,
          "frame": 1643
         },
         {
          "distances": 106,
          "frame": 1644
         },
         {
          "distances": 154,
          "frame": 1645
         },
         {
          "distances": 112,
          "frame": 1646
         },
         {
          "distances": 82,
          "frame": 1647
         },
         {
          "distances": 909,
          "frame": 1648
         },
         {
          "distances": 692,
          "frame": 1649
         },
         {
          "distances": 493,
          "frame": 1650
         },
         {
          "distances": 596,
          "frame": 1651
         },
         {
          "distances": 599,
          "frame": 1652
         },
         {
          "distances": 703,
          "frame": 1653
         },
         {
          "distances": 702,
          "frame": 1654
         },
         {
          "distances": 744,
          "frame": 1655
         },
         {
          "distances": 45,
          "frame": 1656
         },
         {
          "distances": 212,
          "frame": 1657
         },
         {
          "distances": 0,
          "frame": 1658
         },
         {
          "distances": 0,
          "frame": 1659
         },
         {
          "distances": 0,
          "frame": 1660
         },
         {
          "distances": 0,
          "frame": 1661
         },
         {
          "distances": 0,
          "frame": 1662
         },
         {
          "distances": 8402,
          "frame": 1663
         },
         {
          "distances": 6822,
          "frame": 1664
         },
         {
          "distances": 774,
          "frame": 1665
         },
         {
          "distances": 806,
          "frame": 1666
         },
         {
          "distances": 539,
          "frame": 1667
         },
         {
          "distances": 410,
          "frame": 1668
         },
         {
          "distances": 127,
          "frame": 1669
         },
         {
          "distances": 286,
          "frame": 1670
         },
         {
          "distances": 488,
          "frame": 1671
         },
         {
          "distances": 701,
          "frame": 1672
         },
         {
          "distances": 349,
          "frame": 1673
         },
         {
          "distances": 199,
          "frame": 1674
         },
         {
          "distances": 142,
          "frame": 1675
         },
         {
          "distances": 217,
          "frame": 1676
         },
         {
          "distances": 333,
          "frame": 1677
         },
         {
          "distances": 287,
          "frame": 1678
         },
         {
          "distances": 45,
          "frame": 1679
         },
         {
          "distances": 141,
          "frame": 1680
         },
         {
          "distances": 317,
          "frame": 1681
         },
         {
          "distances": 94,
          "frame": 1682
         },
         {
          "distances": 419,
          "frame": 1683
         },
         {
          "distances": 185,
          "frame": 1684
         },
         {
          "distances": 484,
          "frame": 1685
         },
         {
          "distances": 171,
          "frame": 1686
         },
         {
          "distances": 21,
          "frame": 1687
         },
         {
          "distances": 495,
          "frame": 1688
         },
         {
          "distances": 645,
          "frame": 1689
         },
         {
          "distances": 458,
          "frame": 1690
         },
         {
          "distances": 427,
          "frame": 1691
         },
         {
          "distances": 318,
          "frame": 1692
         },
         {
          "distances": 1,
          "frame": 1693
         },
         {
          "distances": 159,
          "frame": 1694
         },
         {
          "distances": 163,
          "frame": 1695
         },
         {
          "distances": 147,
          "frame": 1696
         },
         {
          "distances": 387,
          "frame": 1697
         },
         {
          "distances": 669,
          "frame": 1698
         },
         {
          "distances": 2,
          "frame": 1699
         },
         {
          "distances": 2,
          "frame": 1700
         },
         {
          "distances": 0,
          "frame": 1701
         },
         {
          "distances": 0,
          "frame": 1702
         },
         {
          "distances": 0,
          "frame": 1703
         },
         {
          "distances": 0,
          "frame": 1704
         },
         {
          "distances": 0,
          "frame": 1705
         },
         {
          "distances": 136,
          "frame": 1706
         },
         {
          "distances": 63,
          "frame": 1707
         },
         {
          "distances": 24,
          "frame": 1708
         },
         {
          "distances": 96,
          "frame": 1709
         },
         {
          "distances": 105,
          "frame": 1710
         },
         {
          "distances": 354,
          "frame": 1711
         },
         {
          "distances": 64,
          "frame": 1712
         },
         {
          "distances": 113,
          "frame": 1713
         },
         {
          "distances": 281,
          "frame": 1714
         },
         {
          "distances": 80,
          "frame": 1715
         },
         {
          "distances": 308,
          "frame": 1716
         },
         {
          "distances": 424,
          "frame": 1717
         },
         {
          "distances": 423,
          "frame": 1718
         },
         {
          "distances": 568,
          "frame": 1719
         },
         {
          "distances": 440,
          "frame": 1720
         },
         {
          "distances": 165,
          "frame": 1721
         },
         {
          "distances": 294,
          "frame": 1722
         },
         {
          "distances": 806,
          "frame": 1723
         },
         {
          "distances": 806,
          "frame": 1724
         },
         {
          "distances": 375,
          "frame": 1725
         },
         {
          "distances": 92,
          "frame": 1726
         },
         {
          "distances": 185,
          "frame": 1727
         },
         {
          "distances": 485,
          "frame": 1728
         },
         {
          "distances": 221,
          "frame": 1729
         },
         {
          "distances": 386,
          "frame": 1730
         },
         {
          "distances": 72,
          "frame": 1731
         },
         {
          "distances": 507,
          "frame": 1732
         },
         {
          "distances": 580,
          "frame": 1733
         },
         {
          "distances": 603,
          "frame": 1734
         },
         {
          "distances": 602,
          "frame": 1735
         },
         {
          "distances": 665,
          "frame": 1736
         },
         {
          "distances": 358,
          "frame": 1737
         },
         {
          "distances": 429,
          "frame": 1738
         },
         {
          "distances": 609,
          "frame": 1739
         },
         {
          "distances": 298,
          "frame": 1740
         },
         {
          "distances": 298,
          "frame": 1741
         },
         {
          "distances": 611,
          "frame": 1742
         },
         {
          "distances": 366,
          "frame": 1743
         },
         {
          "distances": 87,
          "frame": 1744
         },
         {
          "distances": 360,
          "frame": 1745
         },
         {
          "distances": 1503,
          "frame": 1746
         },
         {
          "distances": 1703,
          "frame": 1747
         },
         {
          "distances": 1153,
          "frame": 1748
         },
         {
          "distances": 1036,
          "frame": 1749
         },
         {
          "distances": 1039,
          "frame": 1750
         },
         {
          "distances": 1241,
          "frame": 1751
         },
         {
          "distances": 54,
          "frame": 1752
         },
         {
          "distances": 366,
          "frame": 1753
         },
         {
          "distances": 233,
          "frame": 1754
         },
         {
          "distances": 202,
          "frame": 1755
         },
         {
          "distances": 173,
          "frame": 1756
         },
         {
          "distances": 1472,
          "frame": 1757
         },
         {
          "distances": 1492,
          "frame": 1758
         },
         {
          "distances": 1158,
          "frame": 1759
         },
         {
          "distances": 1022,
          "frame": 1760
         },
         {
          "distances": 1268,
          "frame": 1761
         },
         {
          "distances": 1281,
          "frame": 1762
         },
         {
          "distances": 1255,
          "frame": 1763
         },
         {
          "distances": 1400,
          "frame": 1764
         },
         {
          "distances": 323,
          "frame": 1765
         },
         {
          "distances": 480,
          "frame": 1766
         },
         {
          "distances": 267,
          "frame": 1767
         },
         {
          "distances": 239,
          "frame": 1768
         },
         {
          "distances": 371,
          "frame": 1769
         },
         {
          "distances": 285,
          "frame": 1770
         },
         {
          "distances": 4,
          "frame": 1771
         },
         {
          "distances": 210,
          "frame": 1772
         },
         {
          "distances": 19,
          "frame": 1773
         },
         {
          "distances": 160,
          "frame": 1774
         },
         {
          "distances": 3,
          "frame": 1775
         },
         {
          "distances": 26,
          "frame": 1776
         },
         {
          "distances": 29,
          "frame": 1777
         },
         {
          "distances": 83,
          "frame": 1778
         },
         {
          "distances": 45,
          "frame": 1779
         },
         {
          "distances": 2066,
          "frame": 1780
         },
         {
          "distances": 1589,
          "frame": 1781
         },
         {
          "distances": 1695,
          "frame": 1782
         },
         {
          "distances": 2052,
          "frame": 1783
         },
         {
          "distances": 1616,
          "frame": 1784
         },
         {
          "distances": 1443,
          "frame": 1785
         },
         {
          "distances": 1777,
          "frame": 1786
         },
         {
          "distances": 1803,
          "frame": 1787
         },
         {
          "distances": 1527,
          "frame": 1788
         },
         {
          "distances": 1635,
          "frame": 1789
         },
         {
          "distances": 1597,
          "frame": 1790
         },
         {
          "distances": 2583,
          "frame": 1791
         },
         {
          "distances": 3854,
          "frame": 1792
         },
         {
          "distances": 276,
          "frame": 1793
         },
         {
          "distances": 347,
          "frame": 1794
         },
         {
          "distances": 618,
          "frame": 1795
         },
         {
          "distances": 497,
          "frame": 1796
         },
         {
          "distances": 323,
          "frame": 1797
         },
         {
          "distances": 640,
          "frame": 1798
         },
         {
          "distances": 178,
          "frame": 1799
         },
         {
          "distances": 151,
          "frame": 1800
         },
         {
          "distances": 188,
          "frame": 1801
         },
         {
          "distances": 60,
          "frame": 1802
         },
         {
          "distances": 619,
          "frame": 1803
         },
         {
          "distances": 53,
          "frame": 1804
         },
         {
          "distances": 477,
          "frame": 1805
         },
         {
          "distances": 472,
          "frame": 1806
         },
         {
          "distances": 560,
          "frame": 1807
         },
         {
          "distances": 207,
          "frame": 1808
         },
         {
          "distances": 1352,
          "frame": 1809
         },
         {
          "distances": 1341,
          "frame": 1810
         },
         {
          "distances": 1207,
          "frame": 1811
         },
         {
          "distances": 491,
          "frame": 1812
         },
         {
          "distances": 311,
          "frame": 1813
         },
         {
          "distances": 1365,
          "frame": 1814
         },
         {
          "distances": 219,
          "frame": 1815
         },
         {
          "distances": 278,
          "frame": 1816
         },
         {
          "distances": 5948,
          "frame": 1817
         },
         {
          "distances": 5069,
          "frame": 1818
         },
         {
          "distances": 791,
          "frame": 1819
         },
         {
          "distances": 23,
          "frame": 1820
         },
         {
          "distances": 99,
          "frame": 1821
         },
         {
          "distances": 18,
          "frame": 1822
         },
         {
          "distances": 177,
          "frame": 1823
         },
         {
          "distances": 271,
          "frame": 1824
         },
         {
          "distances": 72,
          "frame": 1825
         },
         {
          "distances": 1,
          "frame": 1826
         },
         {
          "distances": 0,
          "frame": 1827
         },
         {
          "distances": 75,
          "frame": 1828
         },
         {
          "distances": 75,
          "frame": 1829
         },
         {
          "distances": 1,
          "frame": 1830
         },
         {
          "distances": 74,
          "frame": 1831
         },
         {
          "distances": 0,
          "frame": 1832
         },
         {
          "distances": 0,
          "frame": 1833
         },
         {
          "distances": 75,
          "frame": 1834
         },
         {
          "distances": 0,
          "frame": 1835
         },
         {
          "distances": 0,
          "frame": 1836
         },
         {
          "distances": 0,
          "frame": 1837
         },
         {
          "distances": 75,
          "frame": 1838
         },
         {
          "distances": 184,
          "frame": 1839
         },
         {
          "distances": 184,
          "frame": 1840
         },
         {
          "distances": 75,
          "frame": 1841
         },
         {
          "distances": 75,
          "frame": 1842
         },
         {
          "distances": 75,
          "frame": 1843
         },
         {
          "distances": 103,
          "frame": 1844
         },
         {
          "distances": 28,
          "frame": 1845
         },
         {
          "distances": 54,
          "frame": 1846
         },
         {
          "distances": 128,
          "frame": 1847
         },
         {
          "distances": 74,
          "frame": 1848
         },
         {
          "distances": 75,
          "frame": 1849
         },
         {
          "distances": 0,
          "frame": 1850
         },
         {
          "distances": 0,
          "frame": 1851
         },
         {
          "distances": 0,
          "frame": 1852
         },
         {
          "distances": 0,
          "frame": 1853
         },
         {
          "distances": 0,
          "frame": 1854
         },
         {
          "distances": 0,
          "frame": 1855
         },
         {
          "distances": 0,
          "frame": 1856
         },
         {
          "distances": 0,
          "frame": 1857
         },
         {
          "distances": 0,
          "frame": 1858
         },
         {
          "distances": 1,
          "frame": 1859
         },
         {
          "distances": 1,
          "frame": 1860
         },
         {
          "distances": 0,
          "frame": 1861
         },
         {
          "distances": 0,
          "frame": 1862
         },
         {
          "distances": 0,
          "frame": 1863
         },
         {
          "distances": 0,
          "frame": 1864
         },
         {
          "distances": 0,
          "frame": 1865
         },
         {
          "distances": 0,
          "frame": 1866
         },
         {
          "distances": 0,
          "frame": 1867
         },
         {
          "distances": 0,
          "frame": 1868
         },
         {
          "distances": 0,
          "frame": 1869
         },
         {
          "distances": 0,
          "frame": 1870
         },
         {
          "distances": 0,
          "frame": 1871
         },
         {
          "distances": 0,
          "frame": 1872
         },
         {
          "distances": 0,
          "frame": 1873
         },
         {
          "distances": 0,
          "frame": 1874
         },
         {
          "distances": 167,
          "frame": 1875
         },
         {
          "distances": 1722,
          "frame": 1876
         },
         {
          "distances": 86,
          "frame": 1877
         },
         {
          "distances": 1591,
          "frame": 1878
         },
         {
          "distances": 1527,
          "frame": 1879
         },
         {
          "distances": 1489,
          "frame": 1880
         },
         {
          "distances": 2321,
          "frame": 1881
         },
         {
          "distances": 770,
          "frame": 1882
         },
         {
          "distances": 2761,
          "frame": 1883
         },
         {
          "distances": 2344,
          "frame": 1884
         },
         {
          "distances": 2500,
          "frame": 1885
         },
         {
          "distances": 2581,
          "frame": 1886
         },
         {
          "distances": 2134,
          "frame": 1887
         },
         {
          "distances": 196,
          "frame": 1888
         },
         {
          "distances": 358,
          "frame": 1889
         },
         {
          "distances": 494,
          "frame": 1890
         },
         {
          "distances": 632,
          "frame": 1891
         },
         {
          "distances": 655,
          "frame": 1892
         },
         {
          "distances": 235,
          "frame": 1893
         },
         {
          "distances": 18,
          "frame": 1894
         },
         {
          "distances": 334,
          "frame": 1895
         },
         {
          "distances": 234,
          "frame": 1896
         },
         {
          "distances": 481,
          "frame": 1897
         },
         {
          "distances": 0,
          "frame": 1898
         },
         {
          "distances": 0,
          "frame": 1899
         },
         {
          "distances": 0,
          "frame": 1900
         },
         {
          "distances": 0,
          "frame": 1901
         },
         {
          "distances": 75,
          "frame": 1902
         },
         {
          "distances": 732,
          "frame": 1903
         },
         {
          "distances": 701,
          "frame": 1904
         },
         {
          "distances": 810,
          "frame": 1905
         },
         {
          "distances": 556,
          "frame": 1906
         },
         {
          "distances": 7930,
          "frame": 1907
         },
         {
          "distances": 7407,
          "frame": 1908
         },
         {
          "distances": 607,
          "frame": 1909
         },
         {
          "distances": 275,
          "frame": 1910
         },
         {
          "distances": 0,
          "frame": 1911
         },
         {
          "distances": 74,
          "frame": 1912
         },
         {
          "distances": 75,
          "frame": 1913
         },
         {
          "distances": 124,
          "frame": 1914
         },
         {
          "distances": 112,
          "frame": 1915
         },
         {
          "distances": 161,
          "frame": 1916
         },
         {
          "distances": 1654,
          "frame": 1917
         },
         {
          "distances": 1600,
          "frame": 1918
         },
         {
          "distances": 4910,
          "frame": 1919
         },
         {
          "distances": 4146,
          "frame": 1920
         },
         {
          "distances": 765,
          "frame": 1921
         },
         {
          "distances": 1460,
          "frame": 1922
         },
         {
          "distances": 228,
          "frame": 1923
         },
         {
          "distances": 917,
          "frame": 1924
         },
         {
          "distances": 859,
          "frame": 1925
         },
         {
          "distances": 895,
          "frame": 1926
         },
         {
          "distances": 1053,
          "frame": 1927
         },
         {
          "distances": 1118,
          "frame": 1928
         },
         {
          "distances": 908,
          "frame": 1929
         },
         {
          "distances": 880,
          "frame": 1930
         },
         {
          "distances": 631,
          "frame": 1931
         },
         {
          "distances": 551,
          "frame": 1932
         },
         {
          "distances": 1088,
          "frame": 1933
         },
         {
          "distances": 753,
          "frame": 1934
         },
         {
          "distances": 519,
          "frame": 1935
         },
         {
          "distances": 492,
          "frame": 1936
         },
         {
          "distances": 538,
          "frame": 1937
         },
         {
          "distances": 410,
          "frame": 1938
         },
         {
          "distances": 521,
          "frame": 1939
         },
         {
          "distances": 1260,
          "frame": 1940
         },
         {
          "distances": 1259,
          "frame": 1941
         },
         {
          "distances": 1066,
          "frame": 1942
         },
         {
          "distances": 1194,
          "frame": 1943
         },
         {
          "distances": 1090,
          "frame": 1944
         },
         {
          "distances": 1008,
          "frame": 1945
         },
         {
          "distances": 222,
          "frame": 1946
         },
         {
          "distances": 1379,
          "frame": 1947
         },
         {
          "distances": 1409,
          "frame": 1948
         },
         {
          "distances": 1561,
          "frame": 1949
         },
         {
          "distances": 1434,
          "frame": 1950
         },
         {
          "distances": 1557,
          "frame": 1951
         },
         {
          "distances": 1586,
          "frame": 1952
         },
         {
          "distances": 1582,
          "frame": 1953
         },
         {
          "distances": 1627,
          "frame": 1954
         },
         {
          "distances": 1482,
          "frame": 1955
         },
         {
          "distances": 1528,
          "frame": 1956
         },
         {
          "distances": 1522,
          "frame": 1957
         },
         {
          "distances": 1643,
          "frame": 1958
         },
         {
          "distances": 1282,
          "frame": 1959
         },
         {
          "distances": 1010,
          "frame": 1960
         },
         {
          "distances": 1098,
          "frame": 1961
         },
         {
          "distances": 942,
          "frame": 1962
         },
         {
          "distances": 648,
          "frame": 1963
         },
         {
          "distances": 1099,
          "frame": 1964
         },
         {
          "distances": 1110,
          "frame": 1965
         },
         {
          "distances": 1071,
          "frame": 1966
         },
         {
          "distances": 1243,
          "frame": 1967
         },
         {
          "distances": 1149,
          "frame": 1968
         },
         {
          "distances": 1085,
          "frame": 1969
         },
         {
          "distances": 1316,
          "frame": 1970
         },
         {
          "distances": 263,
          "frame": 1971
         },
         {
          "distances": 1203,
          "frame": 1972
         },
         {
          "distances": 1293,
          "frame": 1973
         },
         {
          "distances": 975,
          "frame": 1974
         },
         {
          "distances": 795,
          "frame": 1975
         },
         {
          "distances": 1094,
          "frame": 1976
         },
         {
          "distances": 1305,
          "frame": 1977
         },
         {
          "distances": 1178,
          "frame": 1978
         },
         {
          "distances": 1304,
          "frame": 1979
         },
         {
          "distances": 1264,
          "frame": 1980
         },
         {
          "distances": 1191,
          "frame": 1981
         },
         {
          "distances": 1184,
          "frame": 1982
         },
         {
          "distances": 1038,
          "frame": 1983
         },
         {
          "distances": 781,
          "frame": 1984
         },
         {
          "distances": 617,
          "frame": 1985
         },
         {
          "distances": 768,
          "frame": 1986
         },
         {
          "distances": 980,
          "frame": 1987
         },
         {
          "distances": 918,
          "frame": 1988
         },
         {
          "distances": 805,
          "frame": 1989
         },
         {
          "distances": 899,
          "frame": 1990
         },
         {
          "distances": 1062,
          "frame": 1991
         },
         {
          "distances": 1026,
          "frame": 1992
         },
         {
          "distances": 1101,
          "frame": 1993
         },
         {
          "distances": 110,
          "frame": 1994
         },
         {
          "distances": 1042,
          "frame": 1995
         },
         {
          "distances": 853,
          "frame": 1996
         },
         {
          "distances": 819,
          "frame": 1997
         },
         {
          "distances": 961,
          "frame": 1998
         },
         {
          "distances": 989,
          "frame": 1999
         },
         {
          "distances": 1146,
          "frame": 2000
         },
         {
          "distances": 1104,
          "frame": 2001
         },
         {
          "distances": 1014,
          "frame": 2002
         },
         {
          "distances": 934,
          "frame": 2003
         },
         {
          "distances": 899,
          "frame": 2004
         },
         {
          "distances": 718,
          "frame": 2005
         },
         {
          "distances": 597,
          "frame": 2006
         },
         {
          "distances": 548,
          "frame": 2007
         },
         {
          "distances": 570,
          "frame": 2008
         },
         {
          "distances": 752,
          "frame": 2009
         },
         {
          "distances": 560,
          "frame": 2010
         },
         {
          "distances": 525,
          "frame": 2011
         },
         {
          "distances": 714,
          "frame": 2012
         },
         {
          "distances": 694,
          "frame": 2013
         },
         {
          "distances": 560,
          "frame": 2014
         },
         {
          "distances": 539,
          "frame": 2015
         },
         {
          "distances": 583,
          "frame": 2016
         },
         {
          "distances": 466,
          "frame": 2017
         },
         {
          "distances": 899,
          "frame": 2018
         },
         {
          "distances": 1,
          "frame": 2019
         },
         {
          "distances": 901,
          "frame": 2020
         },
         {
          "distances": 491,
          "frame": 2021
         },
         {
          "distances": 384,
          "frame": 2022
         },
         {
          "distances": 394,
          "frame": 2023
         },
         {
          "distances": 885,
          "frame": 2024
         },
         {
          "distances": 907,
          "frame": 2025
         },
         {
          "distances": 1000,
          "frame": 2026
         },
         {
          "distances": 1131,
          "frame": 2027
         },
         {
          "distances": 1285,
          "frame": 2028
         },
         {
          "distances": 238,
          "frame": 2029
         },
         {
          "distances": 308,
          "frame": 2030
         },
         {
          "distances": 73,
          "frame": 2031
         },
         {
          "distances": 41,
          "frame": 2032
         },
         {
          "distances": 204,
          "frame": 2033
         },
         {
          "distances": 179,
          "frame": 2034
         },
         {
          "distances": 256,
          "frame": 2035
         },
         {
          "distances": 121,
          "frame": 2036
         },
         {
          "distances": 151,
          "frame": 2037
         },
         {
          "distances": 118,
          "frame": 2038
         },
         {
          "distances": 271,
          "frame": 2039
         },
         {
          "distances": 47,
          "frame": 2040
         },
         {
          "distances": 246,
          "frame": 2041
         },
         {
          "distances": 644,
          "frame": 2042
         },
         {
          "distances": 720,
          "frame": 2043
         },
         {
          "distances": 362,
          "frame": 2044
         },
         {
          "distances": 132,
          "frame": 2045
         },
         {
          "distances": 543,
          "frame": 2046
         },
         {
          "distances": 4544,
          "frame": 2047
         },
         {
          "distances": 4260,
          "frame": 2048
         },
         {
          "distances": 23,
          "frame": 2049
         },
         {
          "distances": 168,
          "frame": 2050
         },
         {
          "distances": 33,
          "frame": 2051
         },
         {
          "distances": 144,
          "frame": 2052
         },
         {
          "distances": 125,
          "frame": 2053
         },
         {
          "distances": 77,
          "frame": 2054
         },
         {
          "distances": 106,
          "frame": 2055
         },
         {
          "distances": 0,
          "frame": 2056
         },
         {
          "distances": 106,
          "frame": 2057
         },
         {
          "distances": 31,
          "frame": 2058
         },
         {
          "distances": 12969,
          "frame": 2059
         },
         {
          "distances": 10598,
          "frame": 2060
         },
         {
          "distances": 2166,
          "frame": 2061
         },
         {
          "distances": 64,
          "frame": 2062
         },
         {
          "distances": 467,
          "frame": 2063
         },
         {
          "distances": 552,
          "frame": 2064
         },
         {
          "distances": 50,
          "frame": 2065
         },
         {
          "distances": 213,
          "frame": 2066
         },
         {
          "distances": 293,
          "frame": 2067
         },
         {
          "distances": 87,
          "frame": 2068
         },
         {
          "distances": 116,
          "frame": 2069
         },
         {
          "distances": 153,
          "frame": 2070
         },
         {
          "distances": 179,
          "frame": 2071
         },
         {
          "distances": 135,
          "frame": 2072
         },
         {
          "distances": 35,
          "frame": 2073
         },
         {
          "distances": 135,
          "frame": 2074
         },
         {
          "distances": 32,
          "frame": 2075
         },
         {
          "distances": 69,
          "frame": 2076
         },
         {
          "distances": 261,
          "frame": 2077
         },
         {
          "distances": 118,
          "frame": 2078
         },
         {
          "distances": 232,
          "frame": 2079
         },
         {
          "distances": 259,
          "frame": 2080
         },
         {
          "distances": 26,
          "frame": 2081
         },
         {
          "distances": 19,
          "frame": 2082
         },
         {
          "distances": 16,
          "frame": 2083
         },
         {
          "distances": 15,
          "frame": 2084
         },
         {
          "distances": 32,
          "frame": 2085
         },
         {
          "distances": 13,
          "frame": 2086
         },
         {
          "distances": 147,
          "frame": 2087
         },
         {
          "distances": 193,
          "frame": 2088
         },
         {
          "distances": 46,
          "frame": 2089
         },
         {
          "distances": 69,
          "frame": 2090
         },
         {
          "distances": 12,
          "frame": 2091
         },
         {
          "distances": 14,
          "frame": 2092
         },
         {
          "distances": 6,
          "frame": 2093
         },
         {
          "distances": 123,
          "frame": 2094
         },
         {
          "distances": 94,
          "frame": 2095
         },
         {
          "distances": 84,
          "frame": 2096
         },
         {
          "distances": 64,
          "frame": 2097
         },
         {
          "distances": 107,
          "frame": 2098
         },
         {
          "distances": 9,
          "frame": 2099
         },
         {
          "distances": 17,
          "frame": 2100
         },
         {
          "distances": 99,
          "frame": 2101
         },
         {
          "distances": 157,
          "frame": 2102
         },
         {
          "distances": 23,
          "frame": 2103
         },
         {
          "distances": 36,
          "frame": 2104
         },
         {
          "distances": 43,
          "frame": 2105
         },
         {
          "distances": 46,
          "frame": 2106
         },
         {
          "distances": 72,
          "frame": 2107
         },
         {
          "distances": 23,
          "frame": 2108
         },
         {
          "distances": 167,
          "frame": 2109
         },
         {
          "distances": 195,
          "frame": 2110
         },
         {
          "distances": 101,
          "frame": 2111
         },
         {
          "distances": 221,
          "frame": 2112
         },
         {
          "distances": 149,
          "frame": 2113
         },
         {
          "distances": 31,
          "frame": 2114
         },
         {
          "distances": 10,
          "frame": 2115
         },
         {
          "distances": 114,
          "frame": 2116
         },
         {
          "distances": 242,
          "frame": 2117
         },
         {
          "distances": 65,
          "frame": 2118
         },
         {
          "distances": 103,
          "frame": 2119
         },
         {
          "distances": 33,
          "frame": 2120
         },
         {
          "distances": 36,
          "frame": 2121
         },
         {
          "distances": 60,
          "frame": 2122
         },
         {
          "distances": 6,
          "frame": 2123
         },
         {
          "distances": 74,
          "frame": 2124
         },
         {
          "distances": 90,
          "frame": 2125
         },
         {
          "distances": 96,
          "frame": 2126
         },
         {
          "distances": 108,
          "frame": 2127
         },
         {
          "distances": 150,
          "frame": 2128
         },
         {
          "distances": 172,
          "frame": 2129
         },
         {
          "distances": 33,
          "frame": 2130
         },
         {
          "distances": 141,
          "frame": 2131
         },
         {
          "distances": 111,
          "frame": 2132
         },
         {
          "distances": 11,
          "frame": 2133
         },
         {
          "distances": 77,
          "frame": 2134
         },
         {
          "distances": 133,
          "frame": 2135
         },
         {
          "distances": 43,
          "frame": 2136
         },
         {
          "distances": 129,
          "frame": 2137
         },
         {
          "distances": 95,
          "frame": 2138
         },
         {
          "distances": 54,
          "frame": 2139
         },
         {
          "distances": 36,
          "frame": 2140
         },
         {
          "distances": 30,
          "frame": 2141
         },
         {
          "distances": 184,
          "frame": 2142
         },
         {
          "distances": 121,
          "frame": 2143
         },
         {
          "distances": 48,
          "frame": 2144
         },
         {
          "distances": 148,
          "frame": 2145
         },
         {
          "distances": 0,
          "frame": 2146
         },
         {
          "distances": 241,
          "frame": 2147
         },
         {
          "distances": 35,
          "frame": 2148
         },
         {
          "distances": 16,
          "frame": 2149
         },
         {
          "distances": 101,
          "frame": 2150
         },
         {
          "distances": 95,
          "frame": 2151
         },
         {
          "distances": 216,
          "frame": 2152
         },
         {
          "distances": 0,
          "frame": 2153
         },
         {
          "distances": 0,
          "frame": 2154
         },
         {
          "distances": 211,
          "frame": 2155
         },
         {
          "distances": 9,
          "frame": 2156
         },
         {
          "distances": 3,
          "frame": 2157
         },
         {
          "distances": 184,
          "frame": 2158
         },
         {
          "distances": 26,
          "frame": 2159
         },
         {
          "distances": 50,
          "frame": 2160
         },
         {
          "distances": 146,
          "frame": 2161
         },
         {
          "distances": 55,
          "frame": 2162
         },
         {
          "distances": 36,
          "frame": 2163
         },
         {
          "distances": 69,
          "frame": 2164
         },
         {
          "distances": 112,
          "frame": 2165
         },
         {
          "distances": 225,
          "frame": 2166
         },
         {
          "distances": 176,
          "frame": 2167
         },
         {
          "distances": 461,
          "frame": 2168
         },
         {
          "distances": 419,
          "frame": 2169
         },
         {
          "distances": 639,
          "frame": 2170
         },
         {
          "distances": 677,
          "frame": 2171
         },
         {
          "distances": 774,
          "frame": 2172
         },
         {
          "distances": 691,
          "frame": 2173
         },
         {
          "distances": 600,
          "frame": 2174
         },
         {
          "distances": 3783,
          "frame": 2175
         },
         {
          "distances": 3654,
          "frame": 2176
         },
         {
          "distances": 626,
          "frame": 2177
         },
         {
          "distances": 295,
          "frame": 2178
         },
         {
          "distances": 5,
          "frame": 2179
         },
         {
          "distances": 113,
          "frame": 2180
         },
         {
          "distances": 249,
          "frame": 2181
         },
         {
          "distances": 210,
          "frame": 2182
         },
         {
          "distances": 155,
          "frame": 2183
         },
         {
          "distances": 74,
          "frame": 2184
         },
         {
          "distances": 133,
          "frame": 2185
         },
         {
          "distances": 61,
          "frame": 2186
         },
         {
          "distances": 45,
          "frame": 2187
         },
         {
          "distances": 183,
          "frame": 2188
         },
         {
          "distances": 105,
          "frame": 2189
         },
         {
          "distances": 217,
          "frame": 2190
         },
         {
          "distances": 410,
          "frame": 2191
         },
         {
          "distances": 329,
          "frame": 2192
         },
         {
          "distances": 235,
          "frame": 2193
         },
         {
          "distances": 223,
          "frame": 2194
         },
         {
          "distances": 40,
          "frame": 2195
         },
         {
          "distances": 134,
          "frame": 2196
         },
         {
          "distances": 223,
          "frame": 2197
         },
         {
          "distances": 296,
          "frame": 2198
         },
         {
          "distances": 151,
          "frame": 2199
         },
         {
          "distances": 30,
          "frame": 2200
         },
         {
          "distances": 219,
          "frame": 2201
         },
         {
          "distances": 107,
          "frame": 2202
         },
         {
          "distances": 10,
          "frame": 2203
         },
         {
          "distances": 36,
          "frame": 2204
         },
         {
          "distances": 439,
          "frame": 2205
         },
         {
          "distances": 178,
          "frame": 2206
         },
         {
          "distances": 2401,
          "frame": 2207
         },
         {
          "distances": 2359,
          "frame": 2208
         },
         {
          "distances": 2402,
          "frame": 2209
         },
         {
          "distances": 2436,
          "frame": 2210
         },
         {
          "distances": 25,
          "frame": 2211
         },
         {
          "distances": 2073,
          "frame": 2212
         },
         {
          "distances": 2249,
          "frame": 2213
         },
         {
          "distances": 2014,
          "frame": 2214
         },
         {
          "distances": 2198,
          "frame": 2215
         },
         {
          "distances": 16,
          "frame": 2216
         },
         {
          "distances": 210,
          "frame": 2217
         },
         {
          "distances": 73,
          "frame": 2218
         },
         {
          "distances": 158,
          "frame": 2219
         },
         {
          "distances": 64,
          "frame": 2220
         },
         {
          "distances": 33,
          "frame": 2221
         },
         {
          "distances": 196,
          "frame": 2222
         },
         {
          "distances": 61,
          "frame": 2223
         },
         {
          "distances": 79,
          "frame": 2224
         },
         {
          "distances": 277,
          "frame": 2225
         },
         {
          "distances": 90,
          "frame": 2226
         },
         {
          "distances": 126,
          "frame": 2227
         },
         {
          "distances": 120,
          "frame": 2228
         },
         {
          "distances": 104,
          "frame": 2229
         },
         {
          "distances": 12,
          "frame": 2230
         },
         {
          "distances": 21,
          "frame": 2231
         },
         {
          "distances": 183,
          "frame": 2232
         },
         {
          "distances": 281,
          "frame": 2233
         },
         {
          "distances": 271,
          "frame": 2234
         },
         {
          "distances": 10332,
          "frame": 2235
         },
         {
          "distances": 8709,
          "frame": 2236
         },
         {
          "distances": 1516,
          "frame": 2237
         },
         {
          "distances": 237,
          "frame": 2238
         },
         {
          "distances": 309,
          "frame": 2239
         },
         {
          "distances": 192,
          "frame": 2240
         },
         {
          "distances": 1585,
          "frame": 2241
         },
         {
          "distances": 1754,
          "frame": 2242
         },
         {
          "distances": 1186,
          "frame": 2243
         },
         {
          "distances": 1047,
          "frame": 2244
         },
         {
          "distances": 1216,
          "frame": 2245
         },
         {
          "distances": 1355,
          "frame": 2246
         },
         {
          "distances": 1062,
          "frame": 2247
         },
         {
          "distances": 1001,
          "frame": 2248
         },
         {
          "distances": 1104,
          "frame": 2249
         },
         {
          "distances": 1008,
          "frame": 2250
         },
         {
          "distances": 1425,
          "frame": 2251
         },
         {
          "distances": 1431,
          "frame": 2252
         },
         {
          "distances": 1153,
          "frame": 2253
         },
         {
          "distances": 1144,
          "frame": 2254
         },
         {
          "distances": 1120,
          "frame": 2255
         },
         {
          "distances": 1161,
          "frame": 2256
         },
         {
          "distances": 57,
          "frame": 2257
         },
         {
          "distances": 875,
          "frame": 2258
         },
         {
          "distances": 912,
          "frame": 2259
         },
         {
          "distances": 1019,
          "frame": 2260
         },
         {
          "distances": 1039,
          "frame": 2261
         },
         {
          "distances": 1014,
          "frame": 2262
         },
         {
          "distances": 979,
          "frame": 2263
         },
         {
          "distances": 918,
          "frame": 2264
         },
         {
          "distances": 999,
          "frame": 2265
         },
         {
          "distances": 70,
          "frame": 2266
         },
         {
          "distances": 88,
          "frame": 2267
         },
         {
          "distances": 354,
          "frame": 2268
         },
         {
          "distances": 109,
          "frame": 2269
         },
         {
          "distances": 256,
          "frame": 2270
         },
         {
          "distances": 2,
          "frame": 2271
         },
         {
          "distances": 43,
          "frame": 2272
         },
         {
          "distances": 38,
          "frame": 2273
         },
         {
          "distances": 753,
          "frame": 2274
         },
         {
          "distances": 733,
          "frame": 2275
         },
         {
          "distances": 570,
          "frame": 2276
         },
         {
          "distances": 545,
          "frame": 2277
         },
         {
          "distances": 494,
          "frame": 2278
         },
         {
          "distances": 535,
          "frame": 2279
         },
         {
          "distances": 576,
          "frame": 2280
         },
         {
          "distances": 651,
          "frame": 2281
         },
         {
          "distances": 24,
          "frame": 2282
         },
         {
          "distances": 1073,
          "frame": 2283
         },
         {
          "distances": 620,
          "frame": 2284
         },
         {
          "distances": 77,
          "frame": 2285
         },
         {
          "distances": 92,
          "frame": 2286
         },
         {
          "distances": 228,
          "frame": 2287
         },
         {
          "distances": 198,
          "frame": 2288
         },
         {
          "distances": 93,
          "frame": 2289
         },
         {
          "distances": 81,
          "frame": 2290
         },
         {
          "distances": 227,
          "frame": 2291
         },
         {
          "distances": 291,
          "frame": 2292
         },
         {
          "distances": 138,
          "frame": 2293
         },
         {
          "distances": 408,
          "frame": 2294
         },
         {
          "distances": 238,
          "frame": 2295
         },
         {
          "distances": 165,
          "frame": 2296
         },
         {
          "distances": 547,
          "frame": 2297
         },
         {
          "distances": 1845,
          "frame": 2298
         },
         {
          "distances": 1903,
          "frame": 2299
         },
         {
          "distances": 255,
          "frame": 2300
         },
         {
          "distances": 87,
          "frame": 2301
         },
         {
          "distances": 369,
          "frame": 2302
         },
         {
          "distances": 3176,
          "frame": 2303
         },
         {
          "distances": 5358,
          "frame": 2304
         },
         {
          "distances": 195,
          "frame": 2305
         },
         {
          "distances": 1746,
          "frame": 2306
         },
         {
          "distances": 12,
          "frame": 2307
         },
         {
          "distances": 1707,
          "frame": 2308
         },
         {
          "distances": 2374,
          "frame": 2309
         },
         {
          "distances": 175,
          "frame": 2310
         },
         {
          "distances": 1925,
          "frame": 2311
         },
         {
          "distances": 1148,
          "frame": 2312
         },
         {
          "distances": 1434,
          "frame": 2313
         },
         {
          "distances": 1262,
          "frame": 2314
         },
         {
          "distances": 28,
          "frame": 2315
         },
         {
          "distances": 235,
          "frame": 2316
         },
         {
          "distances": 1082,
          "frame": 2317
         },
         {
          "distances": 259,
          "frame": 2318
         },
         {
          "distances": 0,
          "frame": 2319
         },
         {
          "distances": 0,
          "frame": 2320
         },
         {
          "distances": 78,
          "frame": 2321
         },
         {
          "distances": 12456,
          "frame": 2322
         },
         {
          "distances": 10363,
          "frame": 2323
         },
         {
          "distances": 830,
          "frame": 2324
         },
         {
          "distances": 2305,
          "frame": 2325
         },
         {
          "distances": 2276,
          "frame": 2326
         },
         {
          "distances": 2301,
          "frame": 2327
         },
         {
          "distances": 2336,
          "frame": 2328
         },
         {
          "distances": 2418,
          "frame": 2329
         },
         {
          "distances": 96,
          "frame": 2330
         },
         {
          "distances": 2656,
          "frame": 2331
         },
         {
          "distances": 2760,
          "frame": 2332
         },
         {
          "distances": 2942,
          "frame": 2333
         },
         {
          "distances": 2846,
          "frame": 2334
         },
         {
          "distances": 2579,
          "frame": 2335
         },
         {
          "distances": 2523,
          "frame": 2336
         },
         {
          "distances": 2225,
          "frame": 2337
         },
         {
          "distances": 2223,
          "frame": 2338
         },
         {
          "distances": 2295,
          "frame": 2339
         },
         {
          "distances": 2572,
          "frame": 2340
         },
         {
          "distances": 3063,
          "frame": 2341
         },
         {
          "distances": 2866,
          "frame": 2342
         },
         {
          "distances": 2335,
          "frame": 2343
         },
         {
          "distances": 2473,
          "frame": 2344
         },
         {
          "distances": 2295,
          "frame": 2345
         },
         {
          "distances": 2300,
          "frame": 2346
         },
         {
          "distances": 2185,
          "frame": 2347
         },
         {
          "distances": 1941,
          "frame": 2348
         },
         {
          "distances": 1537,
          "frame": 2349
         },
         {
          "distances": 1187,
          "frame": 2350
         },
         {
          "distances": 1432,
          "frame": 2351
         },
         {
          "distances": 1786,
          "frame": 2352
         },
         {
          "distances": 291,
          "frame": 2353
         },
         {
          "distances": 1891,
          "frame": 2354
         },
         {
          "distances": 2453,
          "frame": 2355
         },
         {
          "distances": 1816,
          "frame": 2356
         },
         {
          "distances": 1911,
          "frame": 2357
         },
         {
          "distances": 1760,
          "frame": 2358
         },
         {
          "distances": 1694,
          "frame": 2359
         },
         {
          "distances": 30,
          "frame": 2360
         },
         {
          "distances": 10,
          "frame": 2361
         },
         {
          "distances": 45,
          "frame": 2362
         },
         {
          "distances": 173,
          "frame": 2363
         },
         {
          "distances": 241,
          "frame": 2364
         },
         {
          "distances": 275,
          "frame": 2365
         },
         {
          "distances": 12,
          "frame": 2366
         },
         {
          "distances": 236,
          "frame": 2367
         },
         {
          "distances": 49,
          "frame": 2368
         },
         {
          "distances": 167,
          "frame": 2369
         },
         {
          "distances": 274,
          "frame": 2370
         },
         {
          "distances": 430,
          "frame": 2371
         },
         {
          "distances": 10,
          "frame": 2372
         },
         {
          "distances": 37,
          "frame": 2373
         },
         {
          "distances": 478,
          "frame": 2374
         },
         {
          "distances": 315,
          "frame": 2375
         },
         {
          "distances": 2331,
          "frame": 2376
         },
         {
          "distances": 2188,
          "frame": 2377
         },
         {
          "distances": 53,
          "frame": 2378
         },
         {
          "distances": 1728,
          "frame": 2379
         },
         {
          "distances": 1787,
          "frame": 2380
         },
         {
          "distances": 1347,
          "frame": 2381
         },
         {
          "distances": 1346,
          "frame": 2382
         },
         {
          "distances": 1315,
          "frame": 2383
         },
         {
          "distances": 1327,
          "frame": 2384
         },
         {
          "distances": 853,
          "frame": 2385
         },
         {
          "distances": 989,
          "frame": 2386
         },
         {
          "distances": 32,
          "frame": 2387
         },
         {
          "distances": 29,
          "frame": 2388
         },
         {
          "distances": 60,
          "frame": 2389
         },
         {
          "distances": 1,
          "frame": 2390
         },
         {
          "distances": 858,
          "frame": 2391
         },
         {
          "distances": 876,
          "frame": 2392
         },
         {
          "distances": 614,
          "frame": 2393
         },
         {
          "distances": 431,
          "frame": 2394
         },
         {
          "distances": 307,
          "frame": 2395
         },
         {
          "distances": 457,
          "frame": 2396
         },
         {
          "distances": 591,
          "frame": 2397
         },
         {
          "distances": 686,
          "frame": 2398
         },
         {
          "distances": 134,
          "frame": 2399
         },
         {
          "distances": 180,
          "frame": 2400
         },
         {
          "distances": 95,
          "frame": 2401
         },
         {
          "distances": 69,
          "frame": 2402
         },
         {
          "distances": 61,
          "frame": 2403
         },
         {
          "distances": 892,
          "frame": 2404
         },
         {
          "distances": 720,
          "frame": 2405
         },
         {
          "distances": 568,
          "frame": 2406
         },
         {
          "distances": 710,
          "frame": 2407
         },
         {
          "distances": 652,
          "frame": 2408
         },
         {
          "distances": 774,
          "frame": 2409
         },
         {
          "distances": 517,
          "frame": 2410
         },
         {
          "distances": 486,
          "frame": 2411
         },
         {
          "distances": 279,
          "frame": 2412
         },
         {
          "distances": 275,
          "frame": 2413
         },
         {
          "distances": 329,
          "frame": 2414
         },
         {
          "distances": 154,
          "frame": 2415
         },
         {
          "distances": 52,
          "frame": 2416
         },
         {
          "distances": 2,
          "frame": 2417
         },
         {
          "distances": 77,
          "frame": 2418
         },
         {
          "distances": 238,
          "frame": 2419
         },
         {
          "distances": 162,
          "frame": 2420
         },
         {
          "distances": 0,
          "frame": 2421
         },
         {
          "distances": 703,
          "frame": 2422
         },
         {
          "distances": 378,
          "frame": 2423
         },
         {
          "distances": 99,
          "frame": 2424
         },
         {
          "distances": 424,
          "frame": 2425
         },
         {
          "distances": 0,
          "frame": 2426
         },
         {
          "distances": 1006,
          "frame": 2427
         },
         {
          "distances": 697,
          "frame": 2428
         },
         {
          "distances": 784,
          "frame": 2429
         },
         {
          "distances": 868,
          "frame": 2430
         },
         {
          "distances": 4918,
          "frame": 2431
         },
         {
          "distances": 4565,
          "frame": 2432
         },
         {
          "distances": 159,
          "frame": 2433
         },
         {
          "distances": 184,
          "frame": 2434
         },
         {
          "distances": 228,
          "frame": 2435
         },
         {
          "distances": 104,
          "frame": 2436
         },
         {
          "distances": 165,
          "frame": 2437
         },
         {
          "distances": 8,
          "frame": 2438
         },
         {
          "distances": 286,
          "frame": 2439
         },
         {
          "distances": 321,
          "frame": 2440
         },
         {
          "distances": 391,
          "frame": 2441
         },
         {
          "distances": 380,
          "frame": 2442
         },
         {
          "distances": 228,
          "frame": 2443
         },
         {
          "distances": 192,
          "frame": 2444
         },
         {
          "distances": 190,
          "frame": 2445
         },
         {
          "distances": 238,
          "frame": 2446
         },
         {
          "distances": 10016,
          "frame": 2447
         },
         {
          "distances": 8222,
          "frame": 2448
         },
         {
          "distances": 889,
          "frame": 2449
         },
         {
          "distances": 1860,
          "frame": 2450
         },
         {
          "distances": 2168,
          "frame": 2451
         },
         {
          "distances": 1446,
          "frame": 2452
         },
         {
          "distances": 1542,
          "frame": 2453
         },
         {
          "distances": 1493,
          "frame": 2454
         },
         {
          "distances": 1287,
          "frame": 2455
         },
         {
          "distances": 1068,
          "frame": 2456
         },
         {
          "distances": 1375,
          "frame": 2457
         },
         {
          "distances": 1001,
          "frame": 2458
         },
         {
          "distances": 1097,
          "frame": 2459
         },
         {
          "distances": 27,
          "frame": 2460
         },
         {
          "distances": 80,
          "frame": 2461
         },
         {
          "distances": 1061,
          "frame": 2462
         },
         {
          "distances": 22,
          "frame": 2463
         },
         {
          "distances": 35,
          "frame": 2464
         },
         {
          "distances": 1041,
          "frame": 2465
         },
         {
          "distances": 1019,
          "frame": 2466
         },
         {
          "distances": 1122,
          "frame": 2467
         },
         {
          "distances": 563,
          "frame": 2468
         },
         {
          "distances": 640,
          "frame": 2469
         },
         {
          "distances": 1152,
          "frame": 2470
         },
         {
          "distances": 1194,
          "frame": 2471
         },
         {
          "distances": 1077,
          "frame": 2472
         },
         {
          "distances": 680,
          "frame": 2473
         },
         {
          "distances": 516,
          "frame": 2474
         },
         {
          "distances": 1408,
          "frame": 2475
         },
         {
          "distances": 1260,
          "frame": 2476
         },
         {
          "distances": 263,
          "frame": 2477
         },
         {
          "distances": 19,
          "frame": 2478
         },
         {
          "distances": 34,
          "frame": 2479
         },
         {
          "distances": 175,
          "frame": 2480
         },
         {
          "distances": 122,
          "frame": 2481
         },
         {
          "distances": 265,
          "frame": 2482
         },
         {
          "distances": 192,
          "frame": 2483
         },
         {
          "distances": 262,
          "frame": 2484
         },
         {
          "distances": 16,
          "frame": 2485
         },
         {
          "distances": 33,
          "frame": 2486
         },
         {
          "distances": 242,
          "frame": 2487
         },
         {
          "distances": 66,
          "frame": 2488
         },
         {
          "distances": 18,
          "frame": 2489
         },
         {
          "distances": 141,
          "frame": 2490
         },
         {
          "distances": 17,
          "frame": 2491
         },
         {
          "distances": 514,
          "frame": 2492
         },
         {
          "distances": 2754,
          "frame": 2493
         },
         {
          "distances": 784,
          "frame": 2494
         },
         {
          "distances": 217,
          "frame": 2495
         },
         {
          "distances": 157,
          "frame": 2496
         },
         {
          "distances": 3360,
          "frame": 2497
         },
         {
          "distances": 3063,
          "frame": 2498
         },
         {
          "distances": 140,
          "frame": 2499
         },
         {
          "distances": 370,
          "frame": 2500
         },
         {
          "distances": 31,
          "frame": 2501
         },
         {
          "distances": 45,
          "frame": 2502
         },
         {
          "distances": 175,
          "frame": 2503
         },
         {
          "distances": 240,
          "frame": 2504
         },
         {
          "distances": 531,
          "frame": 2505
         },
         {
          "distances": 698,
          "frame": 2506
         },
         {
          "distances": 1328,
          "frame": 2507
         },
         {
          "distances": 506,
          "frame": 2508
         },
         {
          "distances": 2235,
          "frame": 2509
         },
         {
          "distances": 1524,
          "frame": 2510
         },
         {
          "distances": 1400,
          "frame": 2511
         },
         {
          "distances": 1243,
          "frame": 2512
         },
         {
          "distances": 1415,
          "frame": 2513
         },
         {
          "distances": 1623,
          "frame": 2514
         },
         {
          "distances": 1330,
          "frame": 2515
         },
         {
          "distances": 1215,
          "frame": 2516
         },
         {
          "distances": 1508,
          "frame": 2517
         },
         {
          "distances": 1335,
          "frame": 2518
         },
         {
          "distances": 1521,
          "frame": 2519
         },
         {
          "distances": 1536,
          "frame": 2520
         },
         {
          "distances": 1498,
          "frame": 2521
         },
         {
          "distances": 138,
          "frame": 2522
         },
         {
          "distances": 1305,
          "frame": 2523
         },
         {
          "distances": 1119,
          "frame": 2524
         },
         {
          "distances": 1124,
          "frame": 2525
         },
         {
          "distances": 1003,
          "frame": 2526
         },
         {
          "distances": 828,
          "frame": 2527
         },
         {
          "distances": 937,
          "frame": 2528
         },
         {
          "distances": 602,
          "frame": 2529
         },
         {
          "distances": 723,
          "frame": 2530
         },
         {
          "distances": 623,
          "frame": 2531
         },
         {
          "distances": 572,
          "frame": 2532
         },
         {
          "distances": 144,
          "frame": 2533
         },
         {
          "distances": 246,
          "frame": 2534
         },
         {
          "distances": 254,
          "frame": 2535
         },
         {
          "distances": 198,
          "frame": 2536
         },
         {
          "distances": 161,
          "frame": 2537
         },
         {
          "distances": 209,
          "frame": 2538
         },
         {
          "distances": 26,
          "frame": 2539
         },
         {
          "distances": 254,
          "frame": 2540
         },
         {
          "distances": 343,
          "frame": 2541
         },
         {
          "distances": 111,
          "frame": 2542
         },
         {
          "distances": 122,
          "frame": 2543
         },
         {
          "distances": 131,
          "frame": 2544
         },
         {
          "distances": 129,
          "frame": 2545
         },
         {
          "distances": 503,
          "frame": 2546
         },
         {
          "distances": 428,
          "frame": 2547
         },
         {
          "distances": 322,
          "frame": 2548
         },
         {
          "distances": 214,
          "frame": 2549
         },
         {
          "distances": 217,
          "frame": 2550
         },
         {
          "distances": 217,
          "frame": 2551
         },
         {
          "distances": 187,
          "frame": 2552
         },
         {
          "distances": 220,
          "frame": 2553
         },
         {
          "distances": 18,
          "frame": 2554
         },
         {
          "distances": 80,
          "frame": 2555
         },
         {
          "distances": 264,
          "frame": 2556
         },
         {
          "distances": 326,
          "frame": 2557
         },
         {
          "distances": 120,
          "frame": 2558
         },
         {
          "distances": 4232,
          "frame": 2559
         },
         {
          "distances": 3775,
          "frame": 2560
         },
         {
          "distances": 222,
          "frame": 2561
         },
         {
          "distances": 56,
          "frame": 2562
         },
         {
          "distances": 212,
          "frame": 2563
         },
         {
          "distances": 63,
          "frame": 2564
         },
         {
          "distances": 18,
          "frame": 2565
         },
         {
          "distances": 751,
          "frame": 2566
         },
         {
          "distances": 902,
          "frame": 2567
         },
         {
          "distances": 824,
          "frame": 2568
         },
         {
          "distances": 732,
          "frame": 2569
         },
         {
          "distances": 109,
          "frame": 2570
         },
         {
          "distances": 973,
          "frame": 2571
         },
         {
          "distances": 719,
          "frame": 2572
         },
         {
          "distances": 548,
          "frame": 2573
         },
         {
          "distances": 482,
          "frame": 2574
         },
         {
          "distances": 469,
          "frame": 2575
         },
         {
          "distances": 621,
          "frame": 2576
         },
         {
          "distances": 48,
          "frame": 2577
         },
         {
          "distances": 107,
          "frame": 2578
         },
         {
          "distances": 268,
          "frame": 2579
         },
         {
          "distances": 377,
          "frame": 2580
         },
         {
          "distances": 130,
          "frame": 2581
         },
         {
          "distances": 304,
          "frame": 2582
         },
         {
          "distances": 84,
          "frame": 2583
         },
         {
          "distances": 194,
          "frame": 2584
         },
         {
          "distances": 216,
          "frame": 2585
         },
         {
          "distances": 205,
          "frame": 2586
         },
         {
          "distances": 57,
          "frame": 2587
         },
         {
          "distances": 153,
          "frame": 2588
         },
         {
          "distances": 4,
          "frame": 2589
         },
         {
          "distances": 119,
          "frame": 2590
         },
         {
          "distances": 524,
          "frame": 2591
         },
         {
          "distances": 555,
          "frame": 2592
         },
         {
          "distances": 75,
          "frame": 2593
         },
         {
          "distances": 149,
          "frame": 2594
         },
         {
          "distances": 105,
          "frame": 2595
         },
         {
          "distances": 106,
          "frame": 2596
         },
         {
          "distances": 0,
          "frame": 2597
         },
         {
          "distances": 0,
          "frame": 2598
         },
         {
          "distances": 0,
          "frame": 2599
         },
         {
          "distances": 405,
          "frame": 2600
         },
         {
          "distances": 404,
          "frame": 2601
         },
         {
          "distances": 1,
          "frame": 2602
         },
         {
          "distances": 3,
          "frame": 2603
         },
         {
          "distances": 12971,
          "frame": 2604
         },
         {
          "distances": 10730,
          "frame": 2605
         },
         {
          "distances": 1890,
          "frame": 2606
         },
         {
          "distances": 69,
          "frame": 2607
         },
         {
          "distances": 168,
          "frame": 2608
         },
         {
          "distances": 62,
          "frame": 2609
         },
         {
          "distances": 208,
          "frame": 2610
         },
         {
          "distances": 254,
          "frame": 2611
         },
         {
          "distances": 307,
          "frame": 2612
         },
         {
          "distances": 238,
          "frame": 2613
         },
         {
          "distances": 631,
          "frame": 2614
         },
         {
          "distances": 81,
          "frame": 2615
         },
         {
          "distances": 59,
          "frame": 2616
         },
         {
          "distances": 10,
          "frame": 2617
         },
         {
          "distances": 48,
          "frame": 2618
         },
         {
          "distances": 142,
          "frame": 2619
         },
         {
          "distances": 49,
          "frame": 2620
         },
         {
          "distances": 172,
          "frame": 2621
         },
         {
          "distances": 104,
          "frame": 2622
         },
         {
          "distances": 373,
          "frame": 2623
         },
         {
          "distances": 511,
          "frame": 2624
         },
         {
          "distances": 67,
          "frame": 2625
         },
         {
          "distances": 135,
          "frame": 2626
         },
         {
          "distances": 128,
          "frame": 2627
         },
         {
          "distances": 24,
          "frame": 2628
         },
         {
          "distances": 149,
          "frame": 2629
         },
         {
          "distances": 103,
          "frame": 2630
         },
         {
          "distances": 98,
          "frame": 2631
         },
         {
          "distances": 562,
          "frame": 2632
         },
         {
          "distances": 373,
          "frame": 2633
         },
         {
          "distances": 360,
          "frame": 2634
         },
         {
          "distances": 164,
          "frame": 2635
         },
         {
          "distances": 410,
          "frame": 2636
         },
         {
          "distances": 740,
          "frame": 2637
         },
         {
          "distances": 678,
          "frame": 2638
         },
         {
          "distances": 626,
          "frame": 2639
         },
         {
          "distances": 100,
          "frame": 2640
         },
         {
          "distances": 248,
          "frame": 2641
         },
         {
          "distances": 7,
          "frame": 2642
         },
         {
          "distances": 734,
          "frame": 2643
         },
         {
          "distances": 664,
          "frame": 2644
         },
         {
          "distances": 437,
          "frame": 2645
         },
         {
          "distances": 298,
          "frame": 2646
         },
         {
          "distances": 97,
          "frame": 2647
         },
         {
          "distances": 90,
          "frame": 2648
         },
         {
          "distances": 127,
          "frame": 2649
         },
         {
          "distances": 78,
          "frame": 2650
         },
         {
          "distances": 107,
          "frame": 2651
         },
         {
          "distances": 36,
          "frame": 2652
         },
         {
          "distances": 187,
          "frame": 2653
         },
         {
          "distances": 40,
          "frame": 2654
         },
         {
          "distances": 75,
          "frame": 2655
         },
         {
          "distances": 138,
          "frame": 2656
         },
         {
          "distances": 33,
          "frame": 2657
         },
         {
          "distances": 57,
          "frame": 2658
         },
         {
          "distances": 0,
          "frame": 2659
         },
         {
          "distances": 25,
          "frame": 2660
         },
         {
          "distances": 5,
          "frame": 2661
         },
         {
          "distances": 8,
          "frame": 2662
         },
         {
          "distances": 27,
          "frame": 2663
         },
         {
          "distances": 120,
          "frame": 2664
         },
         {
          "distances": 124,
          "frame": 2665
         },
         {
          "distances": 52,
          "frame": 2666
         },
         {
          "distances": 520,
          "frame": 2667
         },
         {
          "distances": 1845,
          "frame": 2668
         },
         {
          "distances": 2109,
          "frame": 2669
         },
         {
          "distances": 3754,
          "frame": 2670
         },
         {
          "distances": 3159,
          "frame": 2671
         },
         {
          "distances": 6283,
          "frame": 2672
         },
         {
          "distances": 6333,
          "frame": 2673
         },
         {
          "distances": 5157,
          "frame": 2674
         },
         {
          "distances": 5553,
          "frame": 2675
         },
         {
          "distances": 2592,
          "frame": 2676
         },
         {
          "distances": 2602,
          "frame": 2677
         },
         {
          "distances": 3116,
          "frame": 2678
         },
         {
          "distances": 3040,
          "frame": 2679
         },
         {
          "distances": 2773,
          "frame": 2680
         },
         {
          "distances": 2956,
          "frame": 2681
         },
         {
          "distances": 3645,
          "frame": 2682
         },
         {
          "distances": 3456,
          "frame": 2683
         },
         {
          "distances": 2572,
          "frame": 2684
         },
         {
          "distances": 2603,
          "frame": 2685
         },
         {
          "distances": 3229,
          "frame": 2686
         },
         {
          "distances": 432,
          "frame": 2687
         },
         {
          "distances": 3758,
          "frame": 2688
         },
         {
          "distances": 3093,
          "frame": 2689
         },
         {
          "distances": 3119,
          "frame": 2690
         },
         {
          "distances": 3876,
          "frame": 2691
         },
         {
          "distances": 3993,
          "frame": 2692
         },
         {
          "distances": 2777,
          "frame": 2693
         },
         {
          "distances": 2606,
          "frame": 2694
         },
         {
          "distances": 3455,
          "frame": 2695
         },
         {
          "distances": 3412,
          "frame": 2696
         },
         {
          "distances": 2905,
          "frame": 2697
         },
         {
          "distances": 2817,
          "frame": 2698
         },
         {
          "distances": 2226,
          "frame": 2699
         },
         {
          "distances": 2206,
          "frame": 2700
         },
         {
          "distances": 2097,
          "frame": 2701
         },
         {
          "distances": 2261,
          "frame": 2702
         },
         {
          "distances": 483,
          "frame": 2703
         },
         {
          "distances": 334,
          "frame": 2704
         },
         {
          "distances": 357,
          "frame": 2705
         },
         {
          "distances": 50,
          "frame": 2706
         },
         {
          "distances": 366,
          "frame": 2707
         },
         {
          "distances": 379,
          "frame": 2708
         },
         {
          "distances": 34,
          "frame": 2709
         },
         {
          "distances": 15,
          "frame": 2710
         },
         {
          "distances": 762,
          "frame": 2711
         },
         {
          "distances": 577,
          "frame": 2712
         },
         {
          "distances": 127,
          "frame": 2713
         },
         {
          "distances": 536,
          "frame": 2714
         },
         {
          "distances": 606,
          "frame": 2715
         },
         {
          "distances": 80,
          "frame": 2716
         },
         {
          "distances": 6,
          "frame": 2717
         },
         {
          "distances": 1469,
          "frame": 2718
         },
         {
          "distances": 1231,
          "frame": 2719
         },
         {
          "distances": 650,
          "frame": 2720
         },
         {
          "distances": 747,
          "frame": 2721
         },
         {
          "distances": 1387,
          "frame": 2722
         },
         {
          "distances": 1428,
          "frame": 2723
         },
         {
          "distances": 1556,
          "frame": 2724
         },
         {
          "distances": 1564,
          "frame": 2725
         },
         {
          "distances": 980,
          "frame": 2726
         },
         {
          "distances": 907,
          "frame": 2727
         },
         {
          "distances": 75,
          "frame": 2728
         },
         {
          "distances": 172,
          "frame": 2729
         },
         {
          "distances": 440,
          "frame": 2730
         },
         {
          "distances": 25,
          "frame": 2731
         },
         {
          "distances": 4961,
          "frame": 2732
         },
         {
          "distances": 4802,
          "frame": 2733
         },
         {
          "distances": 4844,
          "frame": 2734
         },
         {
          "distances": 4673,
          "frame": 2735
         },
         {
          "distances": 33,
          "frame": 2736
         },
         {
          "distances": 2928,
          "frame": 2737
         },
         {
          "distances": 3120,
          "frame": 2738
         },
         {
          "distances": 2327,
          "frame": 2739
         },
         {
          "distances": 2560,
          "frame": 2740
         },
         {
          "distances": 1955,
          "frame": 2741
         },
         {
          "distances": 2254,
          "frame": 2742
         },
         {
          "distances": 1351,
          "frame": 2743
         },
         {
          "distances": 1326,
          "frame": 2744
         },
         {
          "distances": 447,
          "frame": 2745
         },
         {
          "distances": 620,
          "frame": 2746
         },
         {
          "distances": 128,
          "frame": 2747
         },
         {
          "distances": 20,
          "frame": 2748
         },
         {
          "distances": 859,
          "frame": 2749
         },
         {
          "distances": 664,
          "frame": 2750
         },
         {
          "distances": 904,
          "frame": 2751
         },
         {
          "distances": 865,
          "frame": 2752
         },
         {
          "distances": 1308,
          "frame": 2753
         },
         {
          "distances": 419,
          "frame": 2754
         },
         {
          "distances": 2767,
          "frame": 2755
         },
         {
          "distances": 2996,
          "frame": 2756
         },
         {
          "distances": 2063,
          "frame": 2757
         },
         {
          "distances": 2263,
          "frame": 2758
         },
         {
          "distances": 2625,
          "frame": 2759
         },
         {
          "distances": 2444,
          "frame": 2760
         },
         {
          "distances": 101,
          "frame": 2761
         },
         {
          "distances": 712,
          "frame": 2762
         },
         {
          "distances": 828,
          "frame": 2763
         },
         {
          "distances": 30,
          "frame": 2764
         },
         {
          "distances": 203,
          "frame": 2765
         },
         {
          "distances": 1682,
          "frame": 2766
         },
         {
          "distances": 1198,
          "frame": 2767
         },
         {
          "distances": 391,
          "frame": 2768
         },
         {
          "distances": 707,
          "frame": 2769
         },
         {
          "distances": 3190,
          "frame": 2770
         },
         {
          "distances": 3189,
          "frame": 2771
         },
         {
          "distances": 2854,
          "frame": 2772
         },
         {
          "distances": 2657,
          "frame": 2773
         },
         {
          "distances": 2733,
          "frame": 2774
         },
         {
          "distances": 2788,
          "frame": 2775
         },
         {
          "distances": 606,
          "frame": 2776
         },
         {
          "distances": 1036,
          "frame": 2777
         },
         {
          "distances": 680,
          "frame": 2778
         },
         {
          "distances": 575,
          "frame": 2779
         },
         {
          "distances": 1269,
          "frame": 2780
         },
         {
          "distances": 1204,
          "frame": 2781
         },
         {
          "distances": 1049,
          "frame": 2782
         },
         {
          "distances": 1112,
          "frame": 2783
         },
         {
          "distances": 62,
          "frame": 2784
         },
         {
          "distances": 601,
          "frame": 2785
         },
         {
          "distances": 578,
          "frame": 2786
         },
         {
          "distances": 417,
          "frame": 2787
         },
         {
          "distances": 693,
          "frame": 2788
         },
         {
          "distances": 59,
          "frame": 2789
         },
         {
          "distances": 71,
          "frame": 2790
         },
         {
          "distances": 13,
          "frame": 2791
         },
         {
          "distances": 25,
          "frame": 2792
         },
         {
          "distances": 41,
          "frame": 2793
         },
         {
          "distances": 71,
          "frame": 2794
         },
         {
          "distances": 71,
          "frame": 2795
         },
         {
          "distances": 13,
          "frame": 2796
         },
         {
          "distances": 1,
          "frame": 2797
         },
         {
          "distances": 54,
          "frame": 2798
         },
         {
          "distances": 154,
          "frame": 2799
         },
         {
          "distances": 112,
          "frame": 2800
         },
         {
          "distances": 80,
          "frame": 2801
         },
         {
          "distances": 13,
          "frame": 2802
         },
         {
          "distances": 91,
          "frame": 2803
         },
         {
          "distances": 98,
          "frame": 2804
         },
         {
          "distances": 72,
          "frame": 2805
         },
         {
          "distances": 0,
          "frame": 2806
         },
         {
          "distances": 124,
          "frame": 2807
         },
         {
          "distances": 29,
          "frame": 2808
         },
         {
          "distances": 50,
          "frame": 2809
         },
         {
          "distances": 103,
          "frame": 2810
         },
         {
          "distances": 0,
          "frame": 2811
         },
         {
          "distances": 0,
          "frame": 2812
         },
         {
          "distances": 0,
          "frame": 2813
         },
         {
          "distances": 0,
          "frame": 2814
         },
         {
          "distances": 4590,
          "frame": 2815
         },
         {
          "distances": 4181,
          "frame": 2816
         },
         {
          "distances": 94,
          "frame": 2817
         },
         {
          "distances": 92,
          "frame": 2818
         },
         {
          "distances": 174,
          "frame": 2819
         },
         {
          "distances": 90,
          "frame": 2820
         },
         {
          "distances": 210,
          "frame": 2821
         },
         {
          "distances": 230,
          "frame": 2822
         },
         {
          "distances": 22,
          "frame": 2823
         },
         {
          "distances": 76,
          "frame": 2824
         },
         {
          "distances": 82,
          "frame": 2825
         },
         {
          "distances": 34,
          "frame": 2826
         },
         {
          "distances": 171,
          "frame": 2827
         },
         {
          "distances": 58,
          "frame": 2828
         },
         {
          "distances": 144,
          "frame": 2829
         },
         {
          "distances": 214,
          "frame": 2830
         },
         {
          "distances": 25,
          "frame": 2831
         },
         {
          "distances": 79,
          "frame": 2832
         },
         {
          "distances": 16,
          "frame": 2833
         },
         {
          "distances": 93,
          "frame": 2834
         },
         {
          "distances": 292,
          "frame": 2835
         },
         {
          "distances": 9843,
          "frame": 2836
         },
         {
          "distances": 7944,
          "frame": 2837
         },
         {
          "distances": 1736,
          "frame": 2838
         },
         {
          "distances": 293,
          "frame": 2839
         },
         {
          "distances": 91,
          "frame": 2840
         },
         {
          "distances": 143,
          "frame": 2841
         },
         {
          "distances": 817,
          "frame": 2842
         },
         {
          "distances": 559,
          "frame": 2843
         },
         {
          "distances": 246,
          "frame": 2844
         },
         {
          "distances": 407,
          "frame": 2845
         },
         {
          "distances": 850,
          "frame": 2846
         },
         {
          "distances": 563,
          "frame": 2847
         },
         {
          "distances": 233,
          "frame": 2848
         },
         {
          "distances": 110,
          "frame": 2849
         },
         {
          "distances": 109,
          "frame": 2850
         },
         {
          "distances": 136,
          "frame": 2851
         },
         {
          "distances": 31,
          "frame": 2852
         },
         {
          "distances": 600,
          "frame": 2853
         },
         {
          "distances": 784,
          "frame": 2854
         },
         {
          "distances": 150,
          "frame": 2855
         },
         {
          "distances": 3,
          "frame": 2856
         },
         {
          "distances": 609,
          "frame": 2857
         },
         {
          "distances": 612,
          "frame": 2858
         },
         {
          "distances": 644,
          "frame": 2859
         },
         {
          "distances": 569,
          "frame": 2860
         },
         {
          "distances": 404,
          "frame": 2861
         },
         {
          "distances": 404,
          "frame": 2862
         },
         {
          "distances": 297,
          "frame": 2863
         },
         {
          "distances": 297,
          "frame": 2864
         },
         {
          "distances": 1149,
          "frame": 2865
         },
         {
          "distances": 685,
          "frame": 2866
         },
         {
          "distances": 666,
          "frame": 2867
         },
         {
          "distances": 876,
          "frame": 2868
         },
         {
          "distances": 849,
          "frame": 2869
         },
         {
          "distances": 851,
          "frame": 2870
         },
         {
          "distances": 1059,
          "frame": 2871
         },
         {
          "distances": 1149,
          "frame": 2872
         },
         {
          "distances": 1412,
          "frame": 2873
         },
         {
          "distances": 873,
          "frame": 2874
         },
         {
          "distances": 1158,
          "frame": 2875
         },
         {
          "distances": 1221,
          "frame": 2876
         },
         {
          "distances": 842,
          "frame": 2877
         },
         {
          "distances": 892,
          "frame": 2878
         },
         {
          "distances": 1027,
          "frame": 2879
         },
         {
          "distances": 1307,
          "frame": 2880
         },
         {
          "distances": 208,
          "frame": 2881
         },
         {
          "distances": 220,
          "frame": 2882
         },
         {
          "distances": 90,
          "frame": 2883
         },
         {
          "distances": 125,
          "frame": 2884
         },
         {
          "distances": 66,
          "frame": 2885
         },
         {
          "distances": 93,
          "frame": 2886
         },
         {
          "distances": 28,
          "frame": 2887
         },
         {
          "distances": 15,
          "frame": 2888
         },
         {
          "distances": 148,
          "frame": 2889
         },
         {
          "distances": 1146,
          "frame": 2890
         },
         {
          "distances": 1010,
          "frame": 2891
         },
         {
          "distances": 819,
          "frame": 2892
         },
         {
          "distances": 942,
          "frame": 2893
         },
         {
          "distances": 943,
          "frame": 2894
         },
         {
          "distances": 367,
          "frame": 2895
         },
         {
          "distances": 481,
          "frame": 2896
         },
         {
          "distances": 1137,
          "frame": 2897
         },
         {
          "distances": 69,
          "frame": 2898
         },
         {
          "distances": 122,
          "frame": 2899
         },
         {
          "distances": 1157,
          "frame": 2900
         },
         {
          "distances": 1295,
          "frame": 2901
         },
         {
          "distances": 137,
          "frame": 2902
         },
         {
          "distances": 104,
          "frame": 2903
         },
         {
          "distances": 333,
          "frame": 2904
         },
         {
          "distances": 208,
          "frame": 2905
         },
         {
          "distances": 308,
          "frame": 2906
         },
         {
          "distances": 237,
          "frame": 2907
         },
         {
          "distances": 237,
          "frame": 2908
         },
         {
          "distances": 106,
          "frame": 2909
         },
         {
          "distances": 105,
          "frame": 2910
         },
         {
          "distances": 223,
          "frame": 2911
         },
         {
          "distances": 149,
          "frame": 2912
         },
         {
          "distances": 123,
          "frame": 2913
         },
         {
          "distances": 92,
          "frame": 2914
         },
         {
          "distances": 141,
          "frame": 2915
         },
         {
          "distances": 50,
          "frame": 2916
         },
         {
          "distances": 762,
          "frame": 2917
         },
         {
          "distances": 1058,
          "frame": 2918
         },
         {
          "distances": 918,
          "frame": 2919
         },
         {
          "distances": 348,
          "frame": 2920
         },
         {
          "distances": 495,
          "frame": 2921
         },
         {
          "distances": 541,
          "frame": 2922
         },
         {
          "distances": 447,
          "frame": 2923
         },
         {
          "distances": 638,
          "frame": 2924
         },
         {
          "distances": 577,
          "frame": 2925
         },
         {
          "distances": 805,
          "frame": 2926
         },
         {
          "distances": 302,
          "frame": 2927
         },
         {
          "distances": 59,
          "frame": 2928
         },
         {
          "distances": 220,
          "frame": 2929
         },
         {
          "distances": 95,
          "frame": 2930
         },
         {
          "distances": 118,
          "frame": 2931
         },
         {
          "distances": 23,
          "frame": 2932
         },
         {
          "distances": 54,
          "frame": 2933
         },
         {
          "distances": 54,
          "frame": 2934
         },
         {
          "distances": 128,
          "frame": 2935
         },
         {
          "distances": 265,
          "frame": 2936
         },
         {
          "distances": 266,
          "frame": 2937
         },
         {
          "distances": 6,
          "frame": 2938
         },
         {
          "distances": 69,
          "frame": 2939
         },
         {
          "distances": 75,
          "frame": 2940
         },
         {
          "distances": 150,
          "frame": 2941
         },
         {
          "distances": 183,
          "frame": 2942
         },
         {
          "distances": 5135,
          "frame": 2943
         },
         {
          "distances": 4598,
          "frame": 2944
         },
         {
          "distances": 719,
          "frame": 2945
         },
         {
          "distances": 166,
          "frame": 2946
         },
         {
          "distances": 92,
          "frame": 2947
         },
         {
          "distances": 589,
          "frame": 2948
         },
         {
          "distances": 514,
          "frame": 2949
         },
         {
          "distances": 446,
          "frame": 2950
         },
         {
          "distances": 467,
          "frame": 2951
         },
         {
          "distances": 128,
          "frame": 2952
         },
         {
          "distances": 515,
          "frame": 2953
         },
         {
          "distances": 320,
          "frame": 2954
         },
         {
          "distances": 207,
          "frame": 2955
         },
         {
          "distances": 297,
          "frame": 2956
         },
         {
          "distances": 329,
          "frame": 2957
         },
         {
          "distances": 223,
          "frame": 2958
         },
         {
          "distances": 257,
          "frame": 2959
         },
         {
          "distances": 302,
          "frame": 2960
         },
         {
          "distances": 152,
          "frame": 2961
         },
         {
          "distances": 315,
          "frame": 2962
         },
         {
          "distances": 103,
          "frame": 2963
         },
         {
          "distances": 106,
          "frame": 2964
         },
         {
          "distances": 341,
          "frame": 2965
         },
         {
          "distances": 341,
          "frame": 2966
         },
         {
          "distances": 129,
          "frame": 2967
         },
         {
          "distances": 24,
          "frame": 2968
         },
         {
          "distances": 100,
          "frame": 2969
         },
         {
          "distances": 100,
          "frame": 2970
         },
         {
          "distances": 61,
          "frame": 2971
         },
         {
          "distances": 167,
          "frame": 2972
         },
         {
          "distances": 297,
          "frame": 2973
         },
         {
          "distances": 168,
          "frame": 2974
         },
         {
          "distances": 12530,
          "frame": 2975
         },
         {
          "distances": 10359,
          "frame": 2976
         },
         {
          "distances": 1512,
          "frame": 2977
         },
         {
          "distances": 1878,
          "frame": 2978
         },
         {
          "distances": 2250,
          "frame": 2979
         },
         {
          "distances": 2183,
          "frame": 2980
         },
         {
          "distances": 1940,
          "frame": 2981
         },
         {
          "distances": 2669,
          "frame": 2982
         },
         {
          "distances": 2673,
          "frame": 2983
         },
         {
          "distances": 1980,
          "frame": 2984
         },
         {
          "distances": 1893,
          "frame": 2985
         },
         {
          "distances": 2126,
          "frame": 2986
         },
         {
          "distances": 2232,
          "frame": 2987
         },
         {
          "distances": 52,
          "frame": 2988
         },
         {
          "distances": 293,
          "frame": 2989
         },
         {
          "distances": 861,
          "frame": 2990
         },
         {
          "distances": 147,
          "frame": 2991
         },
         {
          "distances": 1470,
          "frame": 2992
         },
         {
          "distances": 1737,
          "frame": 2993
         },
         {
          "distances": 1404,
          "frame": 2994
         },
         {
          "distances": 1292,
          "frame": 2995
         },
         {
          "distances": 1232,
          "frame": 2996
         },
         {
          "distances": 753,
          "frame": 2997
         },
         {
          "distances": 921,
          "frame": 2998
         },
         {
          "distances": 1554,
          "frame": 2999
         },
         {
          "distances": 446,
          "frame": 3000
         },
         {
          "distances": 1195,
          "frame": 3001
         },
         {
          "distances": 1172,
          "frame": 3002
         },
         {
          "distances": 1442,
          "frame": 3003
         },
         {
          "distances": 1586,
          "frame": 3004
         },
         {
          "distances": 67,
          "frame": 3005
         },
         {
          "distances": 536,
          "frame": 3006
         },
         {
          "distances": 89,
          "frame": 3007
         },
         {
          "distances": 282,
          "frame": 3008
         },
         {
          "distances": 218,
          "frame": 3009
         },
         {
          "distances": 931,
          "frame": 3010
         },
         {
          "distances": 3827,
          "frame": 3011
         },
         {
          "distances": 3623,
          "frame": 3012
         },
         {
          "distances": 3302,
          "frame": 3013
         },
         {
          "distances": 3447,
          "frame": 3014
         },
         {
          "distances": 2656,
          "frame": 3015
         },
         {
          "distances": 2426,
          "frame": 3016
         },
         {
          "distances": 2550,
          "frame": 3017
         },
         {
          "distances": 3183,
          "frame": 3018
         },
         {
          "distances": 1094,
          "frame": 3019
         },
         {
          "distances": 208,
          "frame": 3020
         },
         {
          "distances": 264,
          "frame": 3021
         },
         {
          "distances": 1350,
          "frame": 3022
         },
         {
          "distances": 1255,
          "frame": 3023
         },
         {
          "distances": 943,
          "frame": 3024
         },
         {
          "distances": 241,
          "frame": 3025
         },
         {
          "distances": 845,
          "frame": 3026
         },
         {
          "distances": 883,
          "frame": 3027
         },
         {
          "distances": 379,
          "frame": 3028
         },
         {
          "distances": 480,
          "frame": 3029
         },
         {
          "distances": 19,
          "frame": 3030
         },
         {
          "distances": 211,
          "frame": 3031
         },
         {
          "distances": 267,
          "frame": 3032
         },
         {
          "distances": 223,
          "frame": 3033
         },
         {
          "distances": 132,
          "frame": 3034
         },
         {
          "distances": 95,
          "frame": 3035
         },
         {
          "distances": 11,
          "frame": 3036
         },
         {
          "distances": 101,
          "frame": 3037
         },
         {
          "distances": 3518,
          "frame": 3038
         },
         {
          "distances": 3123,
          "frame": 3039
         },
         {
          "distances": 2905,
          "frame": 3040
         },
         {
          "distances": 3056,
          "frame": 3041
         },
         {
          "distances": 2591,
          "frame": 3042
         },
         {
          "distances": 2400,
          "frame": 3043
         },
         {
          "distances": 2705,
          "frame": 3044
         },
         {
          "distances": 2608,
          "frame": 3045
         },
         {
          "distances": 150,
          "frame": 3046
         },
         {
          "distances": 314,
          "frame": 3047
         },
         {
          "distances": 101,
          "frame": 3048
         },
         {
          "distances": 588,
          "frame": 3049
         },
         {
          "distances": 566,
          "frame": 3050
         },
         {
          "distances": 28,
          "frame": 3051
         },
         {
          "distances": 212,
          "frame": 3052
         },
         {
          "distances": 653,
          "frame": 3053
         },
         {
          "distances": 703,
          "frame": 3054
         },
         {
          "distances": 548,
          "frame": 3055
         },
         {
          "distances": 539,
          "frame": 3056
         },
         {
          "distances": 741,
          "frame": 3057
         },
         {
          "distances": 1030,
          "frame": 3058
         },
         {
          "distances": 992,
          "frame": 3059
         },
         {
          "distances": 820,
          "frame": 3060
         },
         {
          "distances": 446,
          "frame": 3061
         },
         {
          "distances": 557,
          "frame": 3062
         },
         {
          "distances": 666,
          "frame": 3063
         },
         {
          "distances": 500,
          "frame": 3064
         },
         {
          "distances": 170,
          "frame": 3065
         },
         {
          "distances": 428,
          "frame": 3066
         },
         {
          "distances": 54,
          "frame": 3067
         },
         {
          "distances": 54,
          "frame": 3068
         },
         {
          "distances": 807,
          "frame": 3069
         },
         {
          "distances": 882,
          "frame": 3070
         },
         {
          "distances": 5083,
          "frame": 3071
         },
         {
          "distances": 3877,
          "frame": 3072
         },
         {
          "distances": 750,
          "frame": 3073
         },
         {
          "distances": 469,
          "frame": 3074
         },
         {
          "distances": 559,
          "frame": 3075
         },
         {
          "distances": 543,
          "frame": 3076
         },
         {
          "distances": 662,
          "frame": 3077
         },
         {
          "distances": 348,
          "frame": 3078
         },
         {
          "distances": 214,
          "frame": 3079
         },
         {
          "distances": 827,
          "frame": 3080
         },
         {
          "distances": 813,
          "frame": 3081
         },
         {
          "distances": 155,
          "frame": 3082
         },
         {
          "distances": 147,
          "frame": 3083
         },
         {
          "distances": 232,
          "frame": 3084
         },
         {
          "distances": 529,
          "frame": 3085
         },
         {
          "distances": 298,
          "frame": 3086
         },
         {
          "distances": 53,
          "frame": 3087
         },
         {
          "distances": 361,
          "frame": 3088
         },
         {
          "distances": 115,
          "frame": 3089
         },
         {
          "distances": 1506,
          "frame": 3090
         },
         {
          "distances": 1480,
          "frame": 3091
         },
         {
          "distances": 1161,
          "frame": 3092
         },
         {
          "distances": 1425,
          "frame": 3093
         },
         {
          "distances": 2034,
          "frame": 3094
         },
         {
          "distances": 2044,
          "frame": 3095
         },
         {
          "distances": 82,
          "frame": 3096
         },
         {
          "distances": 110,
          "frame": 3097
         },
         {
          "distances": 385,
          "frame": 3098
         },
         {
          "distances": 1098,
          "frame": 3099
         },
         {
          "distances": 913,
          "frame": 3100
         },
         {
          "distances": 420,
          "frame": 3101
         },
         {
          "distances": 172,
          "frame": 3102
         },
         {
          "distances": 111,
          "frame": 3103
         },
         {
          "distances": 474,
          "frame": 3104
         },
         {
          "distances": 375,
          "frame": 3105
         },
         {
          "distances": 482,
          "frame": 3106
         },
         {
          "distances": 908,
          "frame": 3107
         },
         {
          "distances": 630,
          "frame": 3108
         },
         {
          "distances": 2023,
          "frame": 3109
         },
         {
          "distances": 1905,
          "frame": 3110
         },
         {
          "distances": 1639,
          "frame": 3111
         },
         {
          "distances": 1344,
          "frame": 3112
         },
         {
          "distances": 1556,
          "frame": 3113
         },
         {
          "distances": 1875,
          "frame": 3114
         },
         {
          "distances": 447,
          "frame": 3115
         },
         {
          "distances": 593,
          "frame": 3116
         },
         {
          "distances": 44,
          "frame": 3117
         },
         {
          "distances": 324,
          "frame": 3118
         },
         {
          "distances": 621,
          "frame": 3119
         },
         {
          "distances": 3153,
          "frame": 3120
         },
         {
          "distances": 2930,
          "frame": 3121
         },
         {
          "distances": 2886,
          "frame": 3122
         },
         {
          "distances": 2846,
          "frame": 3123
         },
         {
          "distances": 2851,
          "frame": 3124
         },
         {
          "distances": 2525,
          "frame": 3125
         },
         {
          "distances": 2778,
          "frame": 3126
         },
         {
          "distances": 2749,
          "frame": 3127
         },
         {
          "distances": 75,
          "frame": 3128
         },
         {
          "distances": 923,
          "frame": 3129
         },
         {
          "distances": 814,
          "frame": 3130
         },
         {
          "distances": 215,
          "frame": 3131
         },
         {
          "distances": 416,
          "frame": 3132
         },
         {
          "distances": 984,
          "frame": 3133
         },
         {
          "distances": 542,
          "frame": 3134
         },
         {
          "distances": 527,
          "frame": 3135
         },
         {
          "distances": 513,
          "frame": 3136
         },
         {
          "distances": 737,
          "frame": 3137
         },
         {
          "distances": 645,
          "frame": 3138
         },
         {
          "distances": 457,
          "frame": 3139
         },
         {
          "distances": 55,
          "frame": 3140
         },
         {
          "distances": 42,
          "frame": 3141
         },
         {
          "distances": 213,
          "frame": 3142
         },
         {
          "distances": 274,
          "frame": 3143
         },
         {
          "distances": 755,
          "frame": 3144
         },
         {
          "distances": 1377,
          "frame": 3145
         },
         {
          "distances": 321,
          "frame": 3146
         },
         {
          "distances": 337,
          "frame": 3147
         },
         {
          "distances": 1583,
          "frame": 3148
         },
         {
          "distances": 616,
          "frame": 3149
         },
         {
          "distances": 500,
          "frame": 3150
         },
         {
          "distances": 237,
          "frame": 3151
         },
         {
          "distances": 317,
          "frame": 3152
         },
         {
          "distances": 973,
          "frame": 3153
         },
         {
          "distances": 1319,
          "frame": 3154
         },
         {
          "distances": 993,
          "frame": 3155
         },
         {
          "distances": 1036,
          "frame": 3156
         },
         {
          "distances": 536,
          "frame": 3157
         },
         {
          "distances": 402,
          "frame": 3158
         },
         {
          "distances": 1133,
          "frame": 3159
         },
         {
          "distances": 1213,
          "frame": 3160
         },
         {
          "distances": 648,
          "frame": 3161
         },
         {
          "distances": 549,
          "frame": 3162
         },
         {
          "distances": 386,
          "frame": 3163
         },
         {
          "distances": 538,
          "frame": 3164
         },
         {
          "distances": 1616,
          "frame": 3165
         },
         {
          "distances": 1336,
          "frame": 3166
         },
         {
          "distances": 7,
          "frame": 3167
         },
         {
          "distances": 1851,
          "frame": 3168
         },
         {
          "distances": 1777,
          "frame": 3169
         },
         {
          "distances": 1797,
          "frame": 3170
         },
         {
          "distances": 2025,
          "frame": 3171
         },
         {
          "distances": 1078,
          "frame": 3172
         },
         {
          "distances": 1012,
          "frame": 3173
         },
         {
          "distances": 768,
          "frame": 3174
         },
         {
          "distances": 939,
          "frame": 3175
         },
         {
          "distances": 972,
          "frame": 3176
         },
         {
          "distances": 575,
          "frame": 3177
         },
         {
          "distances": 2646,
          "frame": 3178
         },
         {
          "distances": 2151,
          "frame": 3179
         },
         {
          "distances": 2154,
          "frame": 3180
         },
         {
          "distances": 2409,
          "frame": 3181
         },
         {
          "distances": 2451,
          "frame": 3182
         },
         {
          "distances": 2280,
          "frame": 3183
         },
         {
          "distances": 169,
          "frame": 3184
         },
         {
          "distances": 517,
          "frame": 3185
         },
         {
          "distances": 75,
          "frame": 3186
         },
         {
          "distances": 66,
          "frame": 3187
         },
         {
          "distances": 70,
          "frame": 3188
         },
         {
          "distances": 105,
          "frame": 3189
         },
         {
          "distances": 104,
          "frame": 3190
         },
         {
          "distances": 122,
          "frame": 3191
         },
         {
          "distances": 125,
          "frame": 3192
         },
         {
          "distances": 267,
          "frame": 3193
         },
         {
          "distances": 142,
          "frame": 3194
         },
         {
          "distances": 127,
          "frame": 3195
         },
         {
          "distances": 216,
          "frame": 3196
         },
         {
          "distances": 89,
          "frame": 3197
         },
         {
          "distances": 89,
          "frame": 3198
         },
         {
          "distances": 4368,
          "frame": 3199
         },
         {
          "distances": 3994,
          "frame": 3200
         },
         {
          "distances": 200,
          "frame": 3201
         },
         {
          "distances": 181,
          "frame": 3202
         },
         {
          "distances": 213,
          "frame": 3203
         },
         {
          "distances": 98,
          "frame": 3204
         },
         {
          "distances": 98,
          "frame": 3205
         },
         {
          "distances": 0,
          "frame": 3206
         },
         {
          "distances": 147,
          "frame": 3207
         },
         {
          "distances": 147,
          "frame": 3208
         },
         {
          "distances": 0,
          "frame": 3209
         },
         {
          "distances": 117,
          "frame": 3210
         },
         {
          "distances": 117,
          "frame": 3211
         },
         {
          "distances": 0,
          "frame": 3212
         },
         {
          "distances": 0,
          "frame": 3213
         },
         {
          "distances": 0,
          "frame": 3214
         },
         {
          "distances": 183,
          "frame": 3215
         },
         {
          "distances": 60,
          "frame": 3216
         },
         {
          "distances": 137,
          "frame": 3217
         },
         {
          "distances": 48,
          "frame": 3218
         },
         {
          "distances": 79,
          "frame": 3219
         },
         {
          "distances": 54,
          "frame": 3220
         },
         {
          "distances": 101,
          "frame": 3221
         },
         {
          "distances": 230,
          "frame": 3222
         },
         {
          "distances": 74,
          "frame": 3223
         },
         {
          "distances": 169,
          "frame": 3224
         },
         {
          "distances": 241,
          "frame": 3225
         },
         {
          "distances": 73,
          "frame": 3226
         },
         {
          "distances": 75,
          "frame": 3227
         },
         {
          "distances": 1,
          "frame": 3228
         },
         {
          "distances": 1,
          "frame": 3229
         },
         {
          "distances": 114,
          "frame": 3230
         },
         {
          "distances": 51,
          "frame": 3231
         },
         {
          "distances": 162,
          "frame": 3232
         },
         {
          "distances": 333,
          "frame": 3233
         },
         {
          "distances": 43,
          "frame": 3234
         },
         {
          "distances": 188,
          "frame": 3235
         },
         {
          "distances": 50,
          "frame": 3236
         },
         {
          "distances": 106,
          "frame": 3237
         },
         {
          "distances": 430,
          "frame": 3238
         },
         {
          "distances": 107,
          "frame": 3239
         },
         {
          "distances": 0,
          "frame": 3240
         },
         {
          "distances": 0,
          "frame": 3241
         },
         {
          "distances": 0,
          "frame": 3242
         },
         {
          "distances": 0,
          "frame": 3243
         },
         {
          "distances": 0,
          "frame": 3244
         },
         {
          "distances": 0,
          "frame": 3245
         },
         {
          "distances": 75,
          "frame": 3246
         },
         {
          "distances": 352,
          "frame": 3247
         },
         {
          "distances": 352,
          "frame": 3248
         },
         {
          "distances": 74,
          "frame": 3249
         },
         {
          "distances": 481,
          "frame": 3250
         },
         {
          "distances": 2985,
          "frame": 3251
         },
         {
          "distances": 2643,
          "frame": 3252
         },
         {
          "distances": 3120,
          "frame": 3253
         },
         {
          "distances": 2968,
          "frame": 3254
         },
         {
          "distances": 3135,
          "frame": 3255
         },
         {
          "distances": 3322,
          "frame": 3256
         },
         {
          "distances": 640,
          "frame": 3257
         },
         {
          "distances": 17,
          "frame": 3258
         },
         {
          "distances": 141,
          "frame": 3259
         },
         {
          "distances": 178,
          "frame": 3260
         },
         {
          "distances": 10434,
          "frame": 3261
         },
         {
          "distances": 9146,
          "frame": 3262
         },
         {
          "distances": 214,
          "frame": 3263
         },
         {
          "distances": 1125,
          "frame": 3264
         },
         {
          "distances": 110,
          "frame": 3265
         },
         {
          "distances": 414,
          "frame": 3266
         },
         {
          "distances": 598,
          "frame": 3267
         },
         {
          "distances": 664,
          "frame": 3268
         },
         {
          "distances": 617,
          "frame": 3269
         },
         {
          "distances": 608,
          "frame": 3270
         },
         {
          "distances": 509,
          "frame": 3271
         },
         {
          "distances": 58,
          "frame": 3272
         },
         {
          "distances": 158,
          "frame": 3273
         },
         {
          "distances": 85,
          "frame": 3274
         },
         {
          "distances": 125,
          "frame": 3275
         },
         {
          "distances": 650,
          "frame": 3276
         },
         {
          "distances": 25,
          "frame": 3277
         },
         {
          "distances": 61,
          "frame": 3278
         },
         {
          "distances": 529,
          "frame": 3279
         },
         {
          "distances": 649,
          "frame": 3280
         },
         {
          "distances": 856,
          "frame": 3281
         },
         {
          "distances": 125,
          "frame": 3282
         },
         {
          "distances": 267,
          "frame": 3283
         },
         {
          "distances": 308,
          "frame": 3284
         },
         {
          "distances": 264,
          "frame": 3285
         },
         {
          "distances": 89,
          "frame": 3286
         },
         {
          "distances": 164,
          "frame": 3287
         },
         {
          "distances": 92,
          "frame": 3288
         },
         {
          "distances": 163,
          "frame": 3289
         },
         {
          "distances": 255,
          "frame": 3290
         },
         {
          "distances": 398,
          "frame": 3291
         },
         {
          "distances": 236,
          "frame": 3292
         },
         {
          "distances": 42,
          "frame": 3293
         },
         {
          "distances": 129,
          "frame": 3294
         },
         {
          "distances": 709,
          "frame": 3295
         },
         {
          "distances": 580,
          "frame": 3296
         },
         {
          "distances": 42,
          "frame": 3297
         },
         {
          "distances": 16,
          "frame": 3298
         },
         {
          "distances": 116,
          "frame": 3299
         },
         {
          "distances": 369,
          "frame": 3300
         },
         {
          "distances": 0,
          "frame": 3301
         },
         {
          "distances": 504,
          "frame": 3302
         },
         {
          "distances": 1339,
          "frame": 3303
         },
         {
          "distances": 1576,
          "frame": 3304
         },
         {
          "distances": 1335,
          "frame": 3305
         },
         {
          "distances": 1286,
          "frame": 3306
         },
         {
          "distances": 1243,
          "frame": 3307
         },
         {
          "distances": 1300,
          "frame": 3308
         },
         {
          "distances": 131,
          "frame": 3309
         },
         {
          "distances": 389,
          "frame": 3310
         },
         {
          "distances": 415,
          "frame": 3311
         },
         {
          "distances": 1169,
          "frame": 3312
         },
         {
          "distances": 1221,
          "frame": 3313
         },
         {
          "distances": 1160,
          "frame": 3314
         },
         {
          "distances": 1205,
          "frame": 3315
         },
         {
          "distances": 1279,
          "frame": 3316
         },
         {
          "distances": 1203,
          "frame": 3317
         },
         {
          "distances": 266,
          "frame": 3318
         },
         {
          "distances": 555,
          "frame": 3319
         },
         {
          "distances": 142,
          "frame": 3320
         },
         {
          "distances": 248,
          "frame": 3321
         },
         {
          "distances": 348,
          "frame": 3322
         },
         {
          "distances": 150,
          "frame": 3323
         },
         {
          "distances": 315,
          "frame": 3324
         },
         {
          "distances": 407,
          "frame": 3325
         },
         {
          "distances": 174,
          "frame": 3326
         },
         {
          "distances": 4993,
          "frame": 3327
         },
         {
          "distances": 4789,
          "frame": 3328
         },
         {
          "distances": 159,
          "frame": 3329
         },
         {
          "distances": 41,
          "frame": 3330
         },
         {
          "distances": 107,
          "frame": 3331
         },
         {
          "distances": 62,
          "frame": 3332
         },
         {
          "distances": 91,
          "frame": 3333
         },
         {
          "distances": 158,
          "frame": 3334
         },
         {
          "distances": 85,
          "frame": 3335
         },
         {
          "distances": 58,
          "frame": 3336
         },
         {
          "distances": 70,
          "frame": 3337
         },
         {
          "distances": 90,
          "frame": 3338
         },
         {
          "distances": 203,
          "frame": 3339
         },
         {
          "distances": 280,
          "frame": 3340
         },
         {
          "distances": 2366,
          "frame": 3341
         },
         {
          "distances": 1735,
          "frame": 3342
         },
         {
          "distances": 1694,
          "frame": 3343
         },
         {
          "distances": 1703,
          "frame": 3344
         },
         {
          "distances": 1587,
          "frame": 3345
         },
         {
          "distances": 1731,
          "frame": 3346
         },
         {
          "distances": 1813,
          "frame": 3347
         },
         {
          "distances": 1758,
          "frame": 3348
         },
         {
          "distances": 1660,
          "frame": 3349
         },
         {
          "distances": 1492,
          "frame": 3350
         },
         {
          "distances": 1499,
          "frame": 3351
         },
         {
          "distances": 1435,
          "frame": 3352
         },
         {
          "distances": 211,
          "frame": 3353
         },
         {
          "distances": 271,
          "frame": 3354
         },
         {
          "distances": 1463,
          "frame": 3355
         },
         {
          "distances": 1469,
          "frame": 3356
         },
         {
          "distances": 1213,
          "frame": 3357
         },
         {
          "distances": 1337,
          "frame": 3358
         },
         {
          "distances": 476,
          "frame": 3359
         },
         {
          "distances": 431,
          "frame": 3360
         },
         {
          "distances": 1122,
          "frame": 3361
         },
         {
          "distances": 693,
          "frame": 3362
         },
         {
          "distances": 721,
          "frame": 3363
         },
         {
          "distances": 330,
          "frame": 3364
         },
         {
          "distances": 38,
          "frame": 3365
         },
         {
          "distances": 460,
          "frame": 3366
         },
         {
          "distances": 39,
          "frame": 3367
         },
         {
          "distances": 1299,
          "frame": 3368
         },
         {
          "distances": 1066,
          "frame": 3369
         },
         {
          "distances": 838,
          "frame": 3370
         },
         {
          "distances": 663,
          "frame": 3371
         },
         {
          "distances": 1054,
          "frame": 3372
         },
         {
          "distances": 1295,
          "frame": 3373
         },
         {
          "distances": 1096,
          "frame": 3374
         },
         {
          "distances": 1121,
          "frame": 3375
         },
         {
          "distances": 111,
          "frame": 3376
         },
         {
          "distances": 242,
          "frame": 3377
         },
         {
          "distances": 245,
          "frame": 3378
         },
         {
          "distances": 72,
          "frame": 3379
         },
         {
          "distances": 425,
          "frame": 3380
         },
         {
          "distances": 585,
          "frame": 3381
         },
         {
          "distances": 708,
          "frame": 3382
         },
         {
          "distances": 858,
          "frame": 3383
         },
         {
          "distances": 31,
          "frame": 3384
         },
         {
          "distances": 766,
          "frame": 3385
         },
         {
          "distances": 674,
          "frame": 3386
         },
         {
          "distances": 114,
          "frame": 3387
         },
         {
          "distances": 87,
          "frame": 3388
         },
         {
          "distances": 154,
          "frame": 3389
         },
         {
          "distances": 68,
          "frame": 3390
         },
         {
          "distances": 80,
          "frame": 3391
         },
         {
          "distances": 30,
          "frame": 3392
         },
         {
          "distances": 1728,
          "frame": 3393
         },
         {
          "distances": 1669,
          "frame": 3394
         },
         {
          "distances": 2099,
          "frame": 3395
         },
         {
          "distances": 1830,
          "frame": 3396
         },
         {
          "distances": 1883,
          "frame": 3397
         },
         {
          "distances": 1935,
          "frame": 3398
         },
         {
          "distances": 1962,
          "frame": 3399
         },
         {
          "distances": 1767,
          "frame": 3400
         },
         {
          "distances": 1847,
          "frame": 3401
         },
         {
          "distances": 2244,
          "frame": 3402
         },
         {
          "distances": 2273,
          "frame": 3403
         },
         {
          "distances": 2064,
          "frame": 3404
         },
         {
          "distances": 2107,
          "frame": 3405
         },
         {
          "distances": 2105,
          "frame": 3406
         },
         {
          "distances": 187,
          "frame": 3407
         },
         {
          "distances": 1476,
          "frame": 3408
         },
         {
          "distances": 1720,
          "frame": 3409
         },
         {
          "distances": 1535,
          "frame": 3410
         },
         {
          "distances": 1568,
          "frame": 3411
         },
         {
          "distances": 1522,
          "frame": 3412
         },
         {
          "distances": 1417,
          "frame": 3413
         },
         {
          "distances": 318,
          "frame": 3414
         },
         {
          "distances": 6,
          "frame": 3415
         },
         {
          "distances": 118,
          "frame": 3416
         },
         {
          "distances": 180,
          "frame": 3417
         },
         {
          "distances": 150,
          "frame": 3418
         },
         {
          "distances": 148,
          "frame": 3419
         },
         {
          "distances": 249,
          "frame": 3420
         },
         {
          "distances": 326,
          "frame": 3421
         },
         {
          "distances": 432,
          "frame": 3422
         },
         {
          "distances": 283,
          "frame": 3423
         },
         {
          "distances": 19,
          "frame": 3424
         },
         {
          "distances": 1,
          "frame": 3425
         },
         {
          "distances": 323,
          "frame": 3426
         },
         {
          "distances": 285,
          "frame": 3427
         },
         {
          "distances": 250,
          "frame": 3428
         },
         {
          "distances": 342,
          "frame": 3429
         },
         {
          "distances": 74,
          "frame": 3430
         },
         {
          "distances": 105,
          "frame": 3431
         },
         {
          "distances": 31,
          "frame": 3432
         },
         {
          "distances": 75,
          "frame": 3433
         },
         {
          "distances": 198,
          "frame": 3434
         },
         {
          "distances": 11685,
          "frame": 3435
         },
         {
          "distances": 9759,
          "frame": 3436
         },
         {
          "distances": 163,
          "frame": 3437
         },
         {
          "distances": 981,
          "frame": 3438
         },
         {
          "distances": 789,
          "frame": 3439
         },
         {
          "distances": 1500,
          "frame": 3440
         },
         {
          "distances": 1819,
          "frame": 3441
         },
         {
          "distances": 1676,
          "frame": 3442
         },
         {
          "distances": 619,
          "frame": 3443
         },
         {
          "distances": 842,
          "frame": 3444
         },
         {
          "distances": 1067,
          "frame": 3445
         },
         {
          "distances": 1213,
          "frame": 3446
         },
         {
          "distances": 1307,
          "frame": 3447
         },
         {
          "distances": 1415,
          "frame": 3448
         },
         {
          "distances": 16,
          "frame": 3449
         },
         {
          "distances": 40,
          "frame": 3450
         },
         {
          "distances": 88,
          "frame": 3451
         },
         {
          "distances": 34,
          "frame": 3452
         },
         {
          "distances": 388,
          "frame": 3453
         },
         {
          "distances": 496,
          "frame": 3454
         },
         {
          "distances": 4446,
          "frame": 3455
         },
         {
          "distances": 1865,
          "frame": 3456
         },
         {
          "distances": 1622,
          "frame": 3457
         },
         {
          "distances": 1196,
          "frame": 3458
         },
         {
          "distances": 1723,
          "frame": 3459
         },
         {
          "distances": 1654,
          "frame": 3460
         },
         {
          "distances": 1510,
          "frame": 3461
         },
         {
          "distances": 1889,
          "frame": 3462
         },
         {
          "distances": 1682,
          "frame": 3463
         },
         {
          "distances": 1424,
          "frame": 3464
         },
         {
          "distances": 1384,
          "frame": 3465
         },
         {
          "distances": 1483,
          "frame": 3466
         },
         {
          "distances": 1586,
          "frame": 3467
         },
         {
          "distances": 47,
          "frame": 3468
         },
         {
          "distances": 468,
          "frame": 3469
         },
         {
          "distances": 97,
          "frame": 3470
         },
         {
          "distances": 176,
          "frame": 3471
         },
         {
          "distances": 52,
          "frame": 3472
         },
         {
          "distances": 136,
          "frame": 3473
         },
         {
          "distances": 214,
          "frame": 3474
         },
         {
          "distances": 67,
          "frame": 3475
         },
         {
          "distances": 18,
          "frame": 3476
         },
         {
          "distances": 91,
          "frame": 3477
         },
         {
          "distances": 45,
          "frame": 3478
         },
         {
          "distances": 44,
          "frame": 3479
         },
         {
          "distances": 92,
          "frame": 3480
         },
         {
          "distances": 160,
          "frame": 3481
         },
         {
          "distances": 287,
          "frame": 3482
         },
         {
          "distances": 184,
          "frame": 3483
         },
         {
          "distances": 830,
          "frame": 3484
         },
         {
          "distances": 1712,
          "frame": 3485
         },
         {
          "distances": 1983,
          "frame": 3486
         },
         {
          "distances": 2141,
          "frame": 3487
         },
         {
          "distances": 2314,
          "frame": 3488
         },
         {
          "distances": 2048,
          "frame": 3489
         },
         {
          "distances": 2007,
          "frame": 3490
         },
         {
          "distances": 329,
          "frame": 3491
         },
         {
          "distances": 229,
          "frame": 3492
         },
         {
          "distances": 679,
          "frame": 3493
         },
         {
          "distances": 346,
          "frame": 3494
         },
         {
          "distances": 48,
          "frame": 3495
         },
         {
          "distances": 134,
          "frame": 3496
         },
         {
          "distances": 652,
          "frame": 3497
         },
         {
          "distances": 861,
          "frame": 3498
         },
         {
          "distances": 326,
          "frame": 3499
         },
         {
          "distances": 198,
          "frame": 3500
         },
         {
          "distances": 180,
          "frame": 3501
         },
         {
          "distances": 26,
          "frame": 3502
         },
         {
          "distances": 395,
          "frame": 3503
         },
         {
          "distances": 9,
          "frame": 3504
         },
         {
          "distances": 678,
          "frame": 3505
         },
         {
          "distances": 457,
          "frame": 3506
         },
         {
          "distances": 404,
          "frame": 3507
         },
         {
          "distances": 37,
          "frame": 3508
         },
         {
          "distances": 163,
          "frame": 3509
         },
         {
          "distances": 282,
          "frame": 3510
         },
         {
          "distances": 159,
          "frame": 3511
         },
         {
          "distances": 674,
          "frame": 3512
         },
         {
          "distances": 719,
          "frame": 3513
         },
         {
          "distances": 384,
          "frame": 3514
         },
         {
          "distances": 278,
          "frame": 3515
         },
         {
          "distances": 1129,
          "frame": 3516
         },
         {
          "distances": 1085,
          "frame": 3517
         },
         {
          "distances": 1164,
          "frame": 3518
         },
         {
          "distances": 890,
          "frame": 3519
         },
         {
          "distances": 748,
          "frame": 3520
         },
         {
          "distances": 1126,
          "frame": 3521
         },
         {
          "distances": 533,
          "frame": 3522
         },
         {
          "distances": 616,
          "frame": 3523
         },
         {
          "distances": 1133,
          "frame": 3524
         },
         {
          "distances": 69,
          "frame": 3525
         },
         {
          "distances": 1112,
          "frame": 3526
         },
         {
          "distances": 1401,
          "frame": 3527
         },
         {
          "distances": 1406,
          "frame": 3528
         },
         {
          "distances": 1178,
          "frame": 3529
         },
         {
          "distances": 185,
          "frame": 3530
         },
         {
          "distances": 85,
          "frame": 3531
         },
         {
          "distances": 1172,
          "frame": 3532
         },
         {
          "distances": 1324,
          "frame": 3533
         },
         {
          "distances": 83,
          "frame": 3534
         },
         {
          "distances": 61,
          "frame": 3535
         },
         {
          "distances": 686,
          "frame": 3536
         },
         {
          "distances": 882,
          "frame": 3537
         },
         {
          "distances": 1452,
          "frame": 3538
         },
         {
          "distances": 1109,
          "frame": 3539
         },
         {
          "distances": 1096,
          "frame": 3540
         },
         {
          "distances": 1177,
          "frame": 3541
         },
         {
          "distances": 927,
          "frame": 3542
         },
         {
          "distances": 763,
          "frame": 3543
         },
         {
          "distances": 1042,
          "frame": 3544
         },
         {
          "distances": 1233,
          "frame": 3545
         },
         {
          "distances": 1146,
          "frame": 3546
         },
         {
          "distances": 1290,
          "frame": 3547
         },
         {
          "distances": 1216,
          "frame": 3548
         },
         {
          "distances": 61,
          "frame": 3549
         },
         {
          "distances": 359,
          "frame": 3550
         },
         {
          "distances": 297,
          "frame": 3551
         },
         {
          "distances": 208,
          "frame": 3552
         },
         {
          "distances": 349,
          "frame": 3553
         },
         {
          "distances": 41,
          "frame": 3554
         },
         {
          "distances": 76,
          "frame": 3555
         },
         {
          "distances": 158,
          "frame": 3556
         },
         {
          "distances": 28,
          "frame": 3557
         },
         {
          "distances": 94,
          "frame": 3558
         },
         {
          "distances": 1,
          "frame": 3559
         },
         {
          "distances": 163,
          "frame": 3560
         },
         {
          "distances": 269,
          "frame": 3561
         },
         {
          "distances": 9741,
          "frame": 3562
         },
         {
          "distances": 8818,
          "frame": 3563
         },
         {
          "distances": 1715,
          "frame": 3564
         },
         {
          "distances": 2099,
          "frame": 3565
         },
         {
          "distances": 1797,
          "frame": 3566
         },
         {
          "distances": 1659,
          "frame": 3567
         },
         {
          "distances": 1845,
          "frame": 3568
         },
         {
          "distances": 1941,
          "frame": 3569
         },
         {
          "distances": 2468,
          "frame": 3570
         },
         {
          "distances": 2695,
          "frame": 3571
         },
         {
          "distances": 2933,
          "frame": 3572
         },
         {
          "distances": 2834,
          "frame": 3573
         },
         {
          "distances": 29,
          "frame": 3574
         },
         {
          "distances": 2652,
          "frame": 3575
         },
         {
          "distances": 2591,
          "frame": 3576
         },
         {
          "distances": 2580,
          "frame": 3577
         },
         {
          "distances": 2879,
          "frame": 3578
         },
         {
          "distances": 2958,
          "frame": 3579
         },
         {
          "distances": 2802,
          "frame": 3580
         },
         {
          "distances": 2596,
          "frame": 3581
         },
         {
          "distances": 2395,
          "frame": 3582
         },
         {
          "distances": 4870,
          "frame": 3583
         },
         {
          "distances": 4735,
          "frame": 3584
         },
         {
          "distances": 2591,
          "frame": 3585
         },
         {
          "distances": 2717,
          "frame": 3586
         },
         {
          "distances": 2993,
          "frame": 3587
         },
         {
          "distances": 3064,
          "frame": 3588
         },
         {
          "distances": 2757,
          "frame": 3589
         },
         {
          "distances": 2594,
          "frame": 3590
         },
         {
          "distances": 2848,
          "frame": 3591
         },
         {
          "distances": 2878,
          "frame": 3592
         },
         {
          "distances": 2591,
          "frame": 3593
         },
         {
          "distances": 2832,
          "frame": 3594
         },
         {
          "distances": 3055,
          "frame": 3595
         },
         {
          "distances": 2721,
          "frame": 3596
         },
         {
          "distances": 2954,
          "frame": 3597
         },
         {
          "distances": 3163,
          "frame": 3598
         },
         {
          "distances": 86,
          "frame": 3599
         },
         {
          "distances": 3568,
          "frame": 3600
         },
         {
          "distances": 3318,
          "frame": 3601
         },
         {
          "distances": 2945,
          "frame": 3602
         },
         {
          "distances": 3195,
          "frame": 3603
         },
         {
          "distances": 3836,
          "frame": 3604
         },
         {
          "distances": 3999,
          "frame": 3605
         },
         {
          "distances": 3644,
          "frame": 3606
         },
         {
          "distances": 3472,
          "frame": 3607
         },
         {
          "distances": 3413,
          "frame": 3608
         },
         {
          "distances": 2830,
          "frame": 3609
         },
         {
          "distances": 2702,
          "frame": 3610
         },
         {
          "distances": 2723,
          "frame": 3611
         },
         {
          "distances": 3030,
          "frame": 3612
         },
         {
          "distances": 2652,
          "frame": 3613
         },
         {
          "distances": 2462,
          "frame": 3614
         },
         {
          "distances": 3308,
          "frame": 3615
         },
         {
          "distances": 3545,
          "frame": 3616
         },
         {
          "distances": 3537,
          "frame": 3617
         },
         {
          "distances": 3196,
          "frame": 3618
         },
         {
          "distances": 3282,
          "frame": 3619
         },
         {
          "distances": 3607,
          "frame": 3620
         },
         {
          "distances": 3687,
          "frame": 3621
         },
         {
          "distances": 7,
          "frame": 3622
         },
         {
          "distances": 3211,
          "frame": 3623
         },
         {
          "distances": 3253,
          "frame": 3624
         },
         {
          "distances": 3264,
          "frame": 3625
         },
         {
          "distances": 3355,
          "frame": 3626
         },
         {
          "distances": 3063,
          "frame": 3627
         },
         {
          "distances": 3004,
          "frame": 3628
         },
         {
          "distances": 2556,
          "frame": 3629
         },
         {
          "distances": 2892,
          "frame": 3630
         },
         {
          "distances": 355,
          "frame": 3631
         },
         {
          "distances": 450,
          "frame": 3632
         },
         {
          "distances": 23,
          "frame": 3633
         },
         {
          "distances": 106,
          "frame": 3634
         },
         {
          "distances": 0,
          "frame": 3635
         },
         {
          "distances": 75,
          "frame": 3636
         },
         {
          "distances": 8406,
          "frame": 3637
         },
         {
          "distances": 7501,
          "frame": 3638
         },
         {
          "distances": 797,
          "frame": 3639
         },
         {
          "distances": 54,
          "frame": 3640
         },
         {
          "distances": 162,
          "frame": 3641
         },
         {
          "distances": 31,
          "frame": 3642
         },
         {
          "distances": 23,
          "frame": 3643
         },
         {
          "distances": 55,
          "frame": 3644
         },
         {
          "distances": 78,
          "frame": 3645
         },
         {
          "distances": 61,
          "frame": 3646
         },
         {
          "distances": 113,
          "frame": 3647
         },
         {
          "distances": 280,
          "frame": 3648
         },
         {
          "distances": 198,
          "frame": 3649
         },
         {
          "distances": 198,
          "frame": 3650
         },
         {
          "distances": 0,
          "frame": 3651
         },
         {
          "distances": 129,
          "frame": 3652
         },
         {
          "distances": 107,
          "frame": 3653
         },
         {
          "distances": 12,
          "frame": 3654
         },
         {
          "distances": 4611,
          "frame": 3655
         },
         {
          "distances": 2203,
          "frame": 3656
         },
         {
          "distances": 1879,
          "frame": 3657
         },
         {
          "distances": 1683,
          "frame": 3658
         },
         {
          "distances": 920,
          "frame": 3659
         },
         {
          "distances": 855,
          "frame": 3660
         },
         {
          "distances": 123,
          "frame": 3661
         },
         {
          "distances": 847,
          "frame": 3662
         },
         {
          "distances": 3257,
          "frame": 3663
         },
         {
          "distances": 1519,
          "frame": 3664
         },
         {
          "distances": 1095,
          "frame": 3665
         },
         {
          "distances": 2173,
          "frame": 3666
         },
         {
          "distances": 188,
          "frame": 3667
         },
         {
          "distances": 1062,
          "frame": 3668
         },
         {
          "distances": 879,
          "frame": 3669
         },
         {
          "distances": 3208,
          "frame": 3670
         },
         {
          "distances": 2167,
          "frame": 3671
         },
         {
          "distances": 1518,
          "frame": 3672
         },
         {
          "distances": 2190,
          "frame": 3673
         },
         {
          "distances": 1724,
          "frame": 3674
         },
         {
          "distances": 1302,
          "frame": 3675
         },
         {
          "distances": 887,
          "frame": 3676
         },
         {
          "distances": 1004,
          "frame": 3677
         },
         {
          "distances": 726,
          "frame": 3678
         },
         {
          "distances": 894,
          "frame": 3679
         },
         {
          "distances": 47,
          "frame": 3680
         },
         {
          "distances": 3741,
          "frame": 3681
         },
         {
          "distances": 394,
          "frame": 3682
         },
         {
          "distances": 356,
          "frame": 3683
         },
         {
          "distances": 152,
          "frame": 3684
         },
         {
          "distances": 935,
          "frame": 3685
         },
         {
          "distances": 757,
          "frame": 3686
         },
         {
          "distances": 923,
          "frame": 3687
         },
         {
          "distances": 1031,
          "frame": 3688
         },
         {
          "distances": 129,
          "frame": 3689
         },
         {
          "distances": 218,
          "frame": 3690
         },
         {
          "distances": 89,
          "frame": 3691
         },
         {
          "distances": 19,
          "frame": 3692
         },
         {
          "distances": 65,
          "frame": 3693
         },
         {
          "distances": 173,
          "frame": 3694
         },
         {
          "distances": 364,
          "frame": 3695
         },
         {
          "distances": 180,
          "frame": 3696
         },
         {
          "distances": 23,
          "frame": 3697
         },
         {
          "distances": 43,
          "frame": 3698
         },
         {
          "distances": 173,
          "frame": 3699
         },
         {
          "distances": 0,
          "frame": 3700
         },
         {
          "distances": 419,
          "frame": 3701
         },
         {
          "distances": 421,
          "frame": 3702
         },
         {
          "distances": 30,
          "frame": 3703
         },
         {
          "distances": 74,
          "frame": 3704
         },
         {
          "distances": 0,
          "frame": 3705
         },
         {
          "distances": 75,
          "frame": 3706
         },
         {
          "distances": 31,
          "frame": 3707
         },
         {
          "distances": 105,
          "frame": 3708
         },
         {
          "distances": 1,
          "frame": 3709
         },
         {
          "distances": 0,
          "frame": 3710
         },
         {
          "distances": 3398,
          "frame": 3711
         },
         {
          "distances": 3158,
          "frame": 3712
         },
         {
          "distances": 49,
          "frame": 3713
         },
         {
          "distances": 126,
          "frame": 3714
         },
         {
          "distances": 189,
          "frame": 3715
         },
         {
          "distances": 125,
          "frame": 3716
         },
         {
          "distances": 3,
          "frame": 3717
         },
         {
          "distances": 106,
          "frame": 3718
         },
         {
          "distances": 106,
          "frame": 3719
         },
         {
          "distances": 0,
          "frame": 3720
         },
         {
          "distances": 0,
          "frame": 3721
         },
         {
          "distances": 0,
          "frame": 3722
         },
         {
          "distances": 0,
          "frame": 3723
         },
         {
          "distances": 0,
          "frame": 3724
         },
         {
          "distances": 0,
          "frame": 3725
         },
         {
          "distances": 0,
          "frame": 3726
         },
         {
          "distances": 0,
          "frame": 3727
         },
         {
          "distances": 1,
          "frame": 3728
         },
         {
          "distances": 1,
          "frame": 3729
         },
         {
          "distances": 0,
          "frame": 3730
         },
         {
          "distances": 0,
          "frame": 3731
         },
         {
          "distances": 268,
          "frame": 3732
         },
         {
          "distances": 0,
          "frame": 3733
         },
         {
          "distances": 3781,
          "frame": 3734
         },
         {
          "distances": 2386,
          "frame": 3735
         },
         {
          "distances": 739,
          "frame": 3736
         },
         {
          "distances": 1911,
          "frame": 3737
         },
         {
          "distances": 1996,
          "frame": 3738
         },
         {
          "distances": 1663,
          "frame": 3739
         },
         {
          "distances": 1865,
          "frame": 3740
         },
         {
          "distances": 907,
          "frame": 3741
         },
         {
          "distances": 3720,
          "frame": 3742
         },
         {
          "distances": 3921,
          "frame": 3743
         },
         {
          "distances": 138,
          "frame": 3744
         },
         {
          "distances": 1769,
          "frame": 3745
         },
         {
          "distances": 1100,
          "frame": 3746
         },
         {
          "distances": 3204,
          "frame": 3747
         },
         {
          "distances": 1668,
          "frame": 3748
         },
         {
          "distances": 2746,
          "frame": 3749
         },
         {
          "distances": 2724,
          "frame": 3750
         },
         {
          "distances": 1396,
          "frame": 3751
         },
         {
          "distances": 1448,
          "frame": 3752
         },
         {
          "distances": 1925,
          "frame": 3753
         },
         {
          "distances": 4698,
          "frame": 3754
         },
         {
          "distances": 4186,
          "frame": 3755
         },
         {
          "distances": 477,
          "frame": 3756
         },
         {
          "distances": 1374,
          "frame": 3757
         },
         {
          "distances": 1462,
          "frame": 3758
         },
         {
          "distances": 3490,
          "frame": 3759
         },
         {
          "distances": 2266,
          "frame": 3760
         },
         {
          "distances": 1446,
          "frame": 3761
         },
         {
          "distances": 326,
          "frame": 3762
         },
         {
          "distances": 2093,
          "frame": 3763
         },
         {
          "distances": 376,
          "frame": 3764
         },
         {
          "distances": 211,
          "frame": 3765
         },
         {
          "distances": 0,
          "frame": 3766
         },
         {
          "distances": 0,
          "frame": 3767
         },
         {
          "distances": 9011,
          "frame": 3768
         },
         {
          "distances": 2458,
          "frame": 3769
         },
         {
          "distances": 657,
          "frame": 3770
         },
         {
          "distances": 2919,
          "frame": 3771
         },
         {
          "distances": 2528,
          "frame": 3772
         },
         {
          "distances": 413,
          "frame": 3773
         },
         {
          "distances": 312,
          "frame": 3774
         },
         {
          "distances": 198,
          "frame": 3775
         },
         {
          "distances": 1313,
          "frame": 3776
         },
         {
          "distances": 2568,
          "frame": 3777
         },
         {
          "distances": 2505,
          "frame": 3778
         },
         {
          "distances": 401,
          "frame": 3779
         },
         {
          "distances": 1538,
          "frame": 3780
         },
         {
          "distances": 2250,
          "frame": 3781
         },
         {
          "distances": 1140,
          "frame": 3782
         },
         {
          "distances": 950,
          "frame": 3783
         },
         {
          "distances": 2211,
          "frame": 3784
         },
         {
          "distances": 2009,
          "frame": 3785
         },
         {
          "distances": 562,
          "frame": 3786
         },
         {
          "distances": 697,
          "frame": 3787
         },
         {
          "distances": 1067,
          "frame": 3788
         },
         {
          "distances": 1566,
          "frame": 3789
         },
         {
          "distances": 619,
          "frame": 3790
         },
         {
          "distances": 1776,
          "frame": 3791
         },
         {
          "distances": 717,
          "frame": 3792
         },
         {
          "distances": 1472,
          "frame": 3793
         },
         {
          "distances": 1028,
          "frame": 3794
         },
         {
          "distances": 1101,
          "frame": 3795
         },
         {
          "distances": 386,
          "frame": 3796
         },
         {
          "distances": 127,
          "frame": 3797
         },
         {
          "distances": 519,
          "frame": 3798
         },
         {
          "distances": 421,
          "frame": 3799
         },
         {
          "distances": 330,
          "frame": 3800
         },
         {
          "distances": 368,
          "frame": 3801
         },
         {
          "distances": 347,
          "frame": 3802
         },
         {
          "distances": 129,
          "frame": 3803
         },
         {
          "distances": 632,
          "frame": 3804
         },
         {
          "distances": 8,
          "frame": 3805
         },
         {
          "distances": 526,
          "frame": 3806
         },
         {
          "distances": 338,
          "frame": 3807
         },
         {
          "distances": 1131,
          "frame": 3808
         },
         {
          "distances": 717,
          "frame": 3809
         },
         {
          "distances": 450,
          "frame": 3810
         },
         {
          "distances": 190,
          "frame": 3811
         },
         {
          "distances": 1082,
          "frame": 3812
         },
         {
          "distances": 110,
          "frame": 3813
         },
         {
          "distances": 305,
          "frame": 3814
         },
         {
          "distances": 2457,
          "frame": 3815
         },
         {
          "distances": 1271,
          "frame": 3816
         },
         {
          "distances": 486,
          "frame": 3817
         },
         {
          "distances": 175,
          "frame": 3818
         },
         {
          "distances": 172,
          "frame": 3819
         },
         {
          "distances": 203,
          "frame": 3820
         },
         {
          "distances": 119,
          "frame": 3821
         },
         {
          "distances": 374,
          "frame": 3822
         },
         {
          "distances": 598,
          "frame": 3823
         },
         {
          "distances": 1233,
          "frame": 3824
         },
         {
          "distances": 217,
          "frame": 3825
         },
         {
          "distances": 473,
          "frame": 3826
         },
         {
          "distances": 10,
          "frame": 3827
         },
         {
          "distances": 0,
          "frame": 3828
         },
         {
          "distances": 53,
          "frame": 3829
         },
         {
          "distances": 54,
          "frame": 3830
         },
         {
          "distances": 128,
          "frame": 3831
         },
         {
          "distances": 189,
          "frame": 3832
         },
         {
          "distances": 176,
          "frame": 3833
         },
         {
          "distances": 26,
          "frame": 3834
         },
         {
          "distances": 15,
          "frame": 3835
         },
         {
          "distances": 201,
          "frame": 3836
         },
         {
          "distances": 98,
          "frame": 3837
         },
         {
          "distances": 364,
          "frame": 3838
         },
         {
          "distances": 5020,
          "frame": 3839
         },
         {
          "distances": 4265,
          "frame": 3840
         },
         {
          "distances": 609,
          "frame": 3841
         },
         {
          "distances": 415,
          "frame": 3842
         },
         {
          "distances": 416,
          "frame": 3843
         },
         {
          "distances": 342,
          "frame": 3844
         },
         {
          "distances": 293,
          "frame": 3845
         },
         {
          "distances": 380,
          "frame": 3846
         },
         {
          "distances": 395,
          "frame": 3847
         },
         {
          "distances": 344,
          "frame": 3848
         },
         {
          "distances": 238,
          "frame": 3849
         },
         {
          "distances": 322,
          "frame": 3850
         },
         {
          "distances": 399,
          "frame": 3851
         },
         {
          "distances": 402,
          "frame": 3852
         },
         {
          "distances": 306,
          "frame": 3853
         },
         {
          "distances": 403,
          "frame": 3854
         },
         {
          "distances": 214,
          "frame": 3855
         },
         {
          "distances": 303,
          "frame": 3856
         },
         {
          "distances": 603,
          "frame": 3857
         },
         {
          "distances": 490,
          "frame": 3858
         },
         {
          "distances": 490,
          "frame": 3859
         },
         {
          "distances": 428,
          "frame": 3860
         },
         {
          "distances": 282,
          "frame": 3861
         },
         {
          "distances": 131,
          "frame": 3862
         },
         {
          "distances": 602,
          "frame": 3863
         },
         {
          "distances": 577,
          "frame": 3864
         },
         {
          "distances": 422,
          "frame": 3865
         },
         {
          "distances": 278,
          "frame": 3866
         },
         {
          "distances": 504,
          "frame": 3867
         },
         {
          "distances": 626,
          "frame": 3868
         },
         {
          "distances": 465,
          "frame": 3869
         },
         {
          "distances": 465,
          "frame": 3870
         },
         {
          "distances": 599,
          "frame": 3871
         },
         {
          "distances": 708,
          "frame": 3872
         },
         {
          "distances": 533,
          "frame": 3873
         },
         {
          "distances": 471,
          "frame": 3874
         },
         {
          "distances": 493,
          "frame": 3875
         },
         {
          "distances": 415,
          "frame": 3876
         },
         {
          "distances": 493,
          "frame": 3877
         },
         {
          "distances": 458,
          "frame": 3878
         },
         {
          "distances": 353,
          "frame": 3879
         },
         {
          "distances": 283,
          "frame": 3880
         },
         {
          "distances": 320,
          "frame": 3881
         },
         {
          "distances": 586,
          "frame": 3882
         },
         {
          "distances": 646,
          "frame": 3883
         },
         {
          "distances": 592,
          "frame": 3884
         },
         {
          "distances": 168,
          "frame": 3885
         },
         {
          "distances": 370,
          "frame": 3886
         },
         {
          "distances": 429,
          "frame": 3887
         },
         {
          "distances": 403,
          "frame": 3888
         },
         {
          "distances": 328,
          "frame": 3889
         },
         {
          "distances": 385,
          "frame": 3890
         },
         {
          "distances": 296,
          "frame": 3891
         },
         {
          "distances": 254,
          "frame": 3892
         },
         {
          "distances": 225,
          "frame": 3893
         },
         {
          "distances": 264,
          "frame": 3894
         },
         {
          "distances": 537,
          "frame": 3895
         },
         {
          "distances": 495,
          "frame": 3896
         },
         {
          "distances": 311,
          "frame": 3897
         },
         {
          "distances": 380,
          "frame": 3898
         },
         {
          "distances": 123,
          "frame": 3899
         },
         {
          "distances": 52,
          "frame": 3900
         },
         {
          "distances": 121,
          "frame": 3901
         },
         {
          "distances": 203,
          "frame": 3902
         },
         {
          "distances": 36,
          "frame": 3903
         },
         {
          "distances": 149,
          "frame": 3904
         },
         {
          "distances": 677,
          "frame": 3905
         },
         {
          "distances": 782,
          "frame": 3906
         },
         {
          "distances": 221,
          "frame": 3907
         },
         {
          "distances": 6,
          "frame": 3908
         },
         {
          "distances": 282,
          "frame": 3909
         },
         {
          "distances": 119,
          "frame": 3910
         },
         {
          "distances": 305,
          "frame": 3911
         },
         {
          "distances": 424,
          "frame": 3912
         },
         {
          "distances": 409,
          "frame": 3913
         },
         {
          "distances": 420,
          "frame": 3914
         },
         {
          "distances": 453,
          "frame": 3915
         },
         {
          "distances": 422,
          "frame": 3916
         },
         {
          "distances": 355,
          "frame": 3917
         },
         {
          "distances": 249,
          "frame": 3918
         },
         {
          "distances": 664,
          "frame": 3919
         },
         {
          "distances": 813,
          "frame": 3920
         },
         {
          "distances": 437,
          "frame": 3921
         },
         {
          "distances": 309,
          "frame": 3922
         },
         {
          "distances": 290,
          "frame": 3923
         },
         {
          "distances": 314,
          "frame": 3924
         },
         {
          "distances": 323,
          "frame": 3925
         },
         {
          "distances": 348,
          "frame": 3926
         },
         {
          "distances": 402,
          "frame": 3927
         },
         {
          "distances": 402,
          "frame": 3928
         },
         {
          "distances": 367,
          "frame": 3929
         },
         {
          "distances": 291,
          "frame": 3930
         },
         {
          "distances": 288,
          "frame": 3931
         },
         {
          "distances": 431,
          "frame": 3932
         },
         {
          "distances": 31,
          "frame": 3933
         },
         {
          "distances": 364,
          "frame": 3934
         },
         {
          "distances": 311,
          "frame": 3935
         },
         {
          "distances": 147,
          "frame": 3936
         },
         {
          "distances": 181,
          "frame": 3937
         },
         {
          "distances": 252,
          "frame": 3938
         },
         {
          "distances": 349,
          "frame": 3939
         },
         {
          "distances": 349,
          "frame": 3940
         },
         {
          "distances": 337,
          "frame": 3941
         },
         {
          "distances": 127,
          "frame": 3942
         },
         {
          "distances": 50,
          "frame": 3943
         },
         {
          "distances": 58,
          "frame": 3944
         },
         {
          "distances": 84,
          "frame": 3945
         },
         {
          "distances": 158,
          "frame": 3946
         },
         {
          "distances": 100,
          "frame": 3947
         },
         {
          "distances": 112,
          "frame": 3948
         },
         {
          "distances": 159,
          "frame": 3949
         },
         {
          "distances": 65,
          "frame": 3950
         },
         {
          "distances": 76,
          "frame": 3951
         },
         {
          "distances": 61,
          "frame": 3952
         },
         {
          "distances": 342,
          "frame": 3953
         },
         {
          "distances": 4517,
          "frame": 3954
         },
         {
          "distances": 3132,
          "frame": 3955
         },
         {
          "distances": 1404,
          "frame": 3956
         },
         {
          "distances": 273,
          "frame": 3957
         },
         {
          "distances": 188,
          "frame": 3958
         },
         {
          "distances": 77,
          "frame": 3959
         },
         {
          "distances": 148,
          "frame": 3960
         },
         {
          "distances": 263,
          "frame": 3961
         },
         {
          "distances": 184,
          "frame": 3962
         },
         {
          "distances": 339,
          "frame": 3963
         },
         {
          "distances": 351,
          "frame": 3964
         },
         {
          "distances": 166,
          "frame": 3965
         },
         {
          "distances": 220,
          "frame": 3966
         },
         {
          "distances": 4119,
          "frame": 3967
         },
         {
          "distances": 3803,
          "frame": 3968
         },
         {
          "distances": 96,
          "frame": 3969
         },
         {
          "distances": 388,
          "frame": 3970
         },
         {
          "distances": 347,
          "frame": 3971
         },
         {
          "distances": 413,
          "frame": 3972
         },
         {
          "distances": 286,
          "frame": 3973
         },
         {
          "distances": 256,
          "frame": 3974
         },
         {
          "distances": 66,
          "frame": 3975
         },
         {
          "distances": 204,
          "frame": 3976
         },
         {
          "distances": 109,
          "frame": 3977
         },
         {
          "distances": 181,
          "frame": 3978
         },
         {
          "distances": 127,
          "frame": 3979
         },
         {
          "distances": 129,
          "frame": 3980
         },
         {
          "distances": 0,
          "frame": 3981
         },
         {
          "distances": 183,
          "frame": 3982
         },
         {
          "distances": 16,
          "frame": 3983
         },
         {
          "distances": 113,
          "frame": 3984
         },
         {
          "distances": 205,
          "frame": 3985
         },
         {
          "distances": 195,
          "frame": 3986
         },
         {
          "distances": 164,
          "frame": 3987
         },
         {
          "distances": 770,
          "frame": 3988
         },
         {
          "distances": 92,
          "frame": 3989
         },
         {
          "distances": 100,
          "frame": 3990
         },
         {
          "distances": 100,
          "frame": 3991
         },
         {
          "distances": 42,
          "frame": 3992
         },
         {
          "distances": 506,
          "frame": 3993
         },
         {
          "distances": 107,
          "frame": 3994
         },
         {
          "distances": 0,
          "frame": 3995
         },
         {
          "distances": 83,
          "frame": 3996
         },
         {
          "distances": 137,
          "frame": 3997
         },
         {
          "distances": 123,
          "frame": 3998
         },
         {
          "distances": 48,
          "frame": 3999
         }
        ]
       },
       "encoding": {
        "x": {
         "field": "frame",
         "type": "quantitative"
        },
        "y": {
         "field": "distances",
         "type": "quantitative"
        }
       },
       "mark": {
        "opacity": 0.1,
        "type": "point"
       },
       "selection": {
        "selector008": {
         "encodings": [
          "x",
          "y"
         ],
         "mark": {
          "fill": "#333",
          "fillOpacity": 0.125,
          "stroke": "white"
         },
         "on": "[mousedown, window:mouseup] > window:mousemove!",
         "resolve": "global",
         "translate": "[mousedown, window:mouseup] > window:mousemove!",
         "type": "interval",
         "zoom": "wheel!"
        }
       }
      },
      "text/plain": [
       "<VegaLite 2 object>"
      ]
     },
     "execution_count": 36,
     "metadata": {},
     "output_type": "execute_result"
    }
   ],
   "source": [
    "alt.Chart(difH[:4000]).mark_point(opacity=0.1).encode(\n",
    "    x='frame',\n",
    "    y='distances',\n",
    ").properties(selection=brush)"
   ]
  },
  {
   "cell_type": "code",
   "execution_count": 43,
   "metadata": {},
   "outputs": [
    {
     "data": {
      "text/plain": [
       "array([[<matplotlib.axes._subplots.AxesSubplot object at 0x10fdd8128>]],\n",
       "      dtype=object)"
      ]
     },
     "execution_count": 43,
     "metadata": {},
     "output_type": "execute_result"
    },
    {
     "data": {
      "image/png": "[encoded data removed]",
      "text/plain": [
       "<matplotlib.figure.Figure at 0x11036eeb8>"
      ]
     },
     "metadata": {},
     "output_type": "display_data"
    }
   ],
   "source": [
    "orderedDistances = difH.sort_values(['distances'], ascending=False)\n",
    "orderedDistances[:200].hist(column='distances')"
   ]
  }
 ],
 "metadata": {
  "kernelspec": {
   "display_name": "Python 3",
   "language": "python",
   "name": "python3"
  },
  "language_info": {
   "codemirror_mode": {
    "name": "ipython",
    "version": 3
   },
   "file_extension": ".py",
   "mimetype": "text/x-python",
   "name": "python",
   "nbconvert_exporter": "python",
   "pygments_lexer": "ipython3",
   "version": "3.6.4"
  }
 },
 "nbformat": 4,
 "nbformat_minor": 2
}
